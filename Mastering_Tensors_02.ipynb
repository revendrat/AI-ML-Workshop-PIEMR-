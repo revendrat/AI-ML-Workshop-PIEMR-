{
  "nbformat": 4,
  "nbformat_minor": 0,
  "metadata": {
    "colab": {
      "name": "Mastering Tensors-02.ipynb",
      "provenance": [],
      "authorship_tag": "ABX9TyNfhGu5X1oAhpI/fYG8AALr",
      "include_colab_link": true
    },
    "kernelspec": {
      "name": "python3",
      "display_name": "Python 3"
    },
    "language_info": {
      "name": "python"
    }
  },
  "cells": [
    {
      "cell_type": "markdown",
      "metadata": {
        "id": "view-in-github",
        "colab_type": "text"
      },
      "source": [
        "<a href=\"https://colab.research.google.com/github/revendrat/AI-ML-Workshop-PIEMR-/blob/main/Mastering_Tensors_02.ipynb\" target=\"_parent\"><img src=\"https://colab.research.google.com/assets/colab-badge.svg\" alt=\"Open In Colab\"/></a>"
      ]
    },
    {
      "cell_type": "markdown",
      "source": [
        "## Operations on Tensors in Tensorflow\n",
        "* Aim is to understand how to perform different operations using tensors to accomplish some tasks\n",
        "* A simple example:\n",
        "  * Assume that a model is built and target values are predicted (y_pred). Your goal is to understand the loss or error between predicted (y_pred) and actual values (y_actual)"
      ],
      "metadata": {
        "id": "HzLBmnGnzrOY"
      }
    },
    {
      "cell_type": "code",
      "source": [
        "import tensorflow as tf\n",
        "# Fetch the version of tensorflow\n",
        "tf.__version__"
      ],
      "metadata": {
        "colab": {
          "base_uri": "https://localhost:8080/",
          "height": 35
        },
        "id": "3bHvH3Cp1R7n",
        "outputId": "716e9f53-8080-43d2-82ce-e83683354026"
      },
      "execution_count": null,
      "outputs": [
        {
          "output_type": "execute_result",
          "data": {
            "text/plain": [
              "'2.8.0'"
            ],
            "application/vnd.google.colaboratory.intrinsic+json": {
              "type": "string"
            }
          },
          "metadata": {},
          "execution_count": 2
        }
      ]
    },
    {
      "cell_type": "code",
      "source": [
        "import numpy as np\n",
        "from tensorflow import keras\n",
        "from tensorflow.keras import layers"
      ],
      "metadata": {
        "id": "ktXl7A8CE0VQ"
      },
      "execution_count": null,
      "outputs": []
    },
    {
      "cell_type": "code",
      "execution_count": null,
      "metadata": {
        "colab": {
          "base_uri": "https://localhost:8080/"
        },
        "id": "U4QCoXqDzOts",
        "outputId": "ec971ae5-6fda-486d-e6f8-10305248797c"
      },
      "outputs": [
        {
          "output_type": "stream",
          "name": "stdout",
          "text": [
            "y_actual  tf.Tensor(\n",
            "[[0. 0. 1. 0. 0. 0. 0. 0. 0. 0.]\n",
            " [0. 0. 0. 1. 0. 0. 0. 0. 0. 0.]\n",
            " [0. 0. 0. 0. 0. 1. 0. 0. 0. 0.]\n",
            " [0. 0. 0. 0. 0. 0. 1. 0. 0. 0.]], shape=(4, 10), dtype=float32)\n",
            "y_pred : tf.Tensor(\n",
            "[[0.5879855  0.30204177 0.9629952  0.5175954  0.21526897 0.11432147\n",
            "  0.5890825  0.20960677 0.35786068 0.16826761]\n",
            " [0.53244174 0.00486767 0.3082614  0.5460769  0.9861394  0.06889808\n",
            "  0.4663254  0.7325764  0.10567534 0.82533324]\n",
            " [0.54629576 0.66395736 0.00201464 0.905774   0.6539726  0.72630274\n",
            "  0.6489345  0.94798875 0.14442885 0.62715995]\n",
            " [0.32091188 0.4217415  0.36511326 0.03994358 0.8926122  0.62725914\n",
            "  0.6849884  0.8200642  0.25528193 0.6161177 ]], shape=(4, 10), dtype=float32)\n"
          ]
        }
      ],
      "source": [
        "# randomly select y_actual\n",
        "y_actual = tf.constant([2,3,5,6])\n",
        "\n",
        "#perform one hot encoding on y_actual\n",
        "y_actual = tf.one_hot(y_actual, depth =10)\n",
        "\n",
        "print(\"y_actual \", y_actual)\n",
        "\n",
        "# select y_pred values\n",
        "y_pred = tf.random.uniform([4,10])\n",
        "print(\"y_pred :\", y_pred)\n",
        "\n",
        "\n",
        "\n"
      ]
    },
    {
      "cell_type": "code",
      "source": [
        "from tensorflow import keras\n",
        "# calculate mean square error (MSE)\n",
        "\n",
        "error_mse = tf.keras.losses.mse(y_actual, y_pred)\n",
        "print(error_mse)\n",
        "# calculate mean of MSE\n",
        "error_mse_mean = tf.reduce_mean(error_mse)\n",
        "\n",
        "print(error_mse_mean)"
      ],
      "metadata": {
        "colab": {
          "base_uri": "https://localhost:8080/"
        },
        "id": "LosUtOXa1McB",
        "outputId": "4cdcaa43-20f3-4720-d826-179e43b263c7"
      },
      "execution_count": null,
      "outputs": [
        {
          "output_type": "stream",
          "name": "stdout",
          "text": [
            "tf.Tensor([0.13129722 0.30082768 0.37962875 0.28224716], shape=(4,), dtype=float32)\n",
            "tf.Tensor(0.2735002, shape=(), dtype=float32)\n"
          ]
        }
      ]
    },
    {
      "cell_type": "markdown",
      "source": [
        "## Little complex operations on tesnors\n",
        "* Create a neural network\n",
        "* A linear layer with input of two samples & four features x[2,4], and three output nodes will have weight matrix of size 4x3, and bias matrix of size 3x1\n",
        "* A neural network without activation function is linear layer (more about activation funcstions later)\n"
      ],
      "metadata": {
        "id": "UkX3qJtW3QIP"
      }
    },
    {
      "cell_type": "code",
      "source": [
        "x = tf.random.normal([2,4]) # A tensor with 2 samples and 4 features\n",
        "print(\"x : \", x)\n",
        "w = tf.ones([4,3])\n",
        "print(\"w : \", w)\n",
        "b = tf.zeros([3])\n",
        "print(\"b : \", b)\n",
        "\n",
        "y_out = x@w+b\n",
        "print(\"y_out : \", y_out)\n"
      ],
      "metadata": {
        "colab": {
          "base_uri": "https://localhost:8080/"
        },
        "id": "CsV94Ka718O1",
        "outputId": "f158868e-5e6d-4985-b48e-34285b67a4ae"
      },
      "execution_count": null,
      "outputs": [
        {
          "output_type": "stream",
          "name": "stdout",
          "text": [
            "x :  tf.Tensor(\n",
            "[[ 0.90326923 -0.85022116 -2.3111942  -0.0884396 ]\n",
            " [ 0.00569569  1.111236    0.24795751  0.4568581 ]], shape=(2, 4), dtype=float32)\n",
            "w :  tf.Tensor(\n",
            "[[1. 1. 1.]\n",
            " [1. 1. 1.]\n",
            " [1. 1. 1.]\n",
            " [1. 1. 1.]], shape=(4, 3), dtype=float32)\n",
            "b :  tf.Tensor([0. 0. 0.], shape=(3,), dtype=float32)\n",
            "y_out :  tf.Tensor(\n",
            "[[-2.3465858 -2.3465858 -2.3465858]\n",
            " [ 1.8217472  1.8217472  1.8217472]], shape=(2, 3), dtype=float32)\n"
          ]
        }
      ]
    },
    {
      "cell_type": "markdown",
      "source": [
        "## Indexing & slicing of tensors\n",
        "* perform indexing and slicing of tensors"
      ],
      "metadata": {
        "id": "Rj8rLtALLQ9O"
      }
    },
    {
      "cell_type": "code",
      "source": [
        "# Create a 4D tensor\n",
        "x = tf.random.normal([4,2,2,3])\n",
        "x.shape"
      ],
      "metadata": {
        "colab": {
          "base_uri": "https://localhost:8080/"
        },
        "id": "POh_C_bkEVyD",
        "outputId": "849a42b5-8994-46c6-9486-124d26bf40b2"
      },
      "execution_count": null,
      "outputs": [
        {
          "output_type": "execute_result",
          "data": {
            "text/plain": [
              "TensorShape([4, 2, 2, 3])"
            ]
          },
          "metadata": {},
          "execution_count": 24
        }
      ]
    },
    {
      "cell_type": "code",
      "source": [
        "# extract the first element in x\n",
        "x[0]"
      ],
      "metadata": {
        "colab": {
          "base_uri": "https://localhost:8080/"
        },
        "id": "OCQVm2-fFiQL",
        "outputId": "4eef64f4-f271-48d1-dd8c-d66cbcd36567"
      },
      "execution_count": null,
      "outputs": [
        {
          "output_type": "execute_result",
          "data": {
            "text/plain": [
              "<tf.Tensor: shape=(2, 2, 3), dtype=float32, numpy=\n",
              "array([[[ 1.0272828 , -0.5173647 ,  1.6769823 ],\n",
              "        [-0.134903  ,  0.40716332, -0.88842624]],\n",
              "\n",
              "       [[ 1.3519623 ,  0.40762976, -2.4297454 ],\n",
              "        [-0.40355507, -1.5361911 , -0.5308645 ]]], dtype=float32)>"
            ]
          },
          "metadata": {},
          "execution_count": 25
        }
      ]
    },
    {
      "cell_type": "code",
      "source": [
        "# extract the last element in x\n",
        "x[3]"
      ],
      "metadata": {
        "colab": {
          "base_uri": "https://localhost:8080/"
        },
        "id": "edd8EvzmFxDp",
        "outputId": "fa474f29-20b6-47e7-92e0-e9a9a341f6ba"
      },
      "execution_count": null,
      "outputs": [
        {
          "output_type": "execute_result",
          "data": {
            "text/plain": [
              "<tf.Tensor: shape=(2, 2, 3), dtype=float32, numpy=\n",
              "array([[[-1.4752935 ,  1.5069964 , -0.9460742 ],\n",
              "        [ 0.02280555,  0.41231284, -0.475807  ]],\n",
              "\n",
              "       [[-0.11120775, -1.4357595 ,  1.0543944 ],\n",
              "        [-1.3432103 ,  0.6789179 , -0.5807117 ]]], dtype=float32)>"
            ]
          },
          "metadata": {},
          "execution_count": 26
        }
      ]
    },
    {
      "cell_type": "code",
      "source": [
        "# extract the last element in x\n",
        "x[-1]"
      ],
      "metadata": {
        "colab": {
          "base_uri": "https://localhost:8080/"
        },
        "id": "vq2mCulpF21R",
        "outputId": "38805334-2418-47ab-b5b6-cfc519855ca0"
      },
      "execution_count": null,
      "outputs": [
        {
          "output_type": "execute_result",
          "data": {
            "text/plain": [
              "<tf.Tensor: shape=(2, 2, 3), dtype=float32, numpy=\n",
              "array([[[-1.4752935 ,  1.5069964 , -0.9460742 ],\n",
              "        [ 0.02280555,  0.41231284, -0.475807  ]],\n",
              "\n",
              "       [[-0.11120775, -1.4357595 ,  1.0543944 ],\n",
              "        [-1.3432103 ,  0.6789179 , -0.5807117 ]]], dtype=float32)>"
            ]
          },
          "metadata": {},
          "execution_count": 27
        }
      ]
    },
    {
      "cell_type": "code",
      "source": [
        "# Fetch the second row of the first 4d tensor:\n",
        "x[0][1]"
      ],
      "metadata": {
        "colab": {
          "base_uri": "https://localhost:8080/"
        },
        "id": "HoTfQpiSImCr",
        "outputId": "94afa0fe-f982-4dd1-98f4-45f91f356e80"
      },
      "execution_count": null,
      "outputs": [
        {
          "output_type": "execute_result",
          "data": {
            "text/plain": [
              "<tf.Tensor: shape=(2, 3), dtype=float32, numpy=\n",
              "array([[ 1.3519623 ,  0.40762976, -2.4297454 ],\n",
              "       [-0.40355507, -1.5361911 , -0.5308645 ]], dtype=float32)>"
            ]
          },
          "metadata": {},
          "execution_count": 28
        }
      ]
    },
    {
      "cell_type": "code",
      "source": [
        "# Fetch the second row and second column of the first 4-d tensor:\n",
        "x[0][1][1]"
      ],
      "metadata": {
        "colab": {
          "base_uri": "https://localhost:8080/"
        },
        "id": "OCUdvCP7I2nR",
        "outputId": "a3b92b73-e618-4348-e95c-3a4eaef4f4b2"
      },
      "execution_count": null,
      "outputs": [
        {
          "output_type": "execute_result",
          "data": {
            "text/plain": [
              "<tf.Tensor: shape=(3,), dtype=float32, numpy=array([-0.40355507, -1.5361911 , -0.5308645 ], dtype=float32)>"
            ]
          },
          "metadata": {},
          "execution_count": 31
        }
      ]
    },
    {
      "cell_type": "code",
      "source": [
        "# Fetch the second column and second column of the first 4-d tensor:\n",
        "x[0][1][:1]"
      ],
      "metadata": {
        "colab": {
          "base_uri": "https://localhost:8080/"
        },
        "id": "QrO1hO1wI53S",
        "outputId": "7bedceee-f9d2-4be8-abd4-c66c9ff635fe"
      },
      "execution_count": null,
      "outputs": [
        {
          "output_type": "execute_result",
          "data": {
            "text/plain": [
              "<tf.Tensor: shape=(1, 3), dtype=float32, numpy=array([[ 1.3519623 ,  0.40762976, -2.4297454 ]], dtype=float32)>"
            ]
          },
          "metadata": {},
          "execution_count": 32
        }
      ]
    },
    {
      "cell_type": "code",
      "source": [
        "# Fetch the second column and second column of the first 4-d tensor:\n",
        "x[0][1][:,2]"
      ],
      "metadata": {
        "colab": {
          "base_uri": "https://localhost:8080/"
        },
        "id": "1xClithSI-s5",
        "outputId": "b2d72704-9a98-4dff-ebdd-115e29698273"
      },
      "execution_count": null,
      "outputs": [
        {
          "output_type": "execute_result",
          "data": {
            "text/plain": [
              "<tf.Tensor: shape=(2,), dtype=float32, numpy=array([-2.4297454, -0.5308645], dtype=float32)>"
            ]
          },
          "metadata": {},
          "execution_count": 37
        }
      ]
    }
  ]
}