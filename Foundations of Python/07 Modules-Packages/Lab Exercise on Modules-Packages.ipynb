{
 "cells": [
  {
   "cell_type": "markdown",
   "metadata": {},
   "source": [
    "## Packages and Modules Lab Exercise\n",
    "* Create a folder: *demo_stats* <br>\n",
    "* Within *demo_stats* create a module *basic_modules* folder. <br>\n",
    "    * In *basic_modules* folder create a file and create following functions\n",
    "        * to calculate mean, median, standard deviation, power of a number over another number, minimum and maximum <br>\n",
    "\n",
    "* Within *demo_stats* folder, create a file  *distributions* to create following probability distributions <br>\n",
    "(Note: Use the functions created in basic_modules.py to create following distributions) <br>\n",
    "    * uniform distribution <br>\n",
    "    * normal distribution <br>\n",
    "    * poison distribution <br>\n",
    "    * binomial distribution <br>\n",
    "\n",
    "\n",
    "\n"
   ]
  }
 ],
 "metadata": {
  "language_info": {
   "name": "python"
  },
  "orig_nbformat": 4
 },
 "nbformat": 4,
 "nbformat_minor": 2
}
