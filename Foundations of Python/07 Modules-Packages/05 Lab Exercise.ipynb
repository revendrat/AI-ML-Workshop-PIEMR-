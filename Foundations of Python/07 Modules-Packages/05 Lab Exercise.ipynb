{
 "cells": [
  {
   "cell_type": "markdown",
   "metadata": {},
   "source": [
    "## Lab Exercises on OOP Concepts in Python\n",
    "Assume that you are building a software on different automobiles, and plan to develop automobiles analytics. Use the following instructions and apply your concepts learned on OOP in Python. <br>\n",
    "1) Create a vehicle class with vehicle colour, manufacturer name, and company origin (Domestic/Foreign). <br>\n",
    "2) Create other classes, one for two wheeler and another for four wheeler with appropriate details on number of wheels, gear or automatic, engine type. These two classes can inherit vehicle class. <br>\n",
    "3) Protect the details of number plate of the two and four wheelers. Mention and use appropriate concept required. <br>\n",
    "4) What would you do, if another vehicle type with three wheeles is indentified in your system? How would you inclde three wheelers as a part of your software. <br>"
   ]
  }
 ],
 "metadata": {
  "language_info": {
   "name": "python"
  },
  "orig_nbformat": 4
 },
 "nbformat": 4,
 "nbformat_minor": 2
}
