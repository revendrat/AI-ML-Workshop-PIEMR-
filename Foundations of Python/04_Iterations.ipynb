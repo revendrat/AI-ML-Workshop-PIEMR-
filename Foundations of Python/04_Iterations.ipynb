{
  "nbformat": 4,
  "nbformat_minor": 0,
  "metadata": {
    "colab": {
      "name": "04 Iterations.ipynb",
      "provenance": [],
      "include_colab_link": true
    },
    "kernelspec": {
      "name": "python3",
      "display_name": "Python 3"
    },
    "language_info": {
      "name": "python"
    }
  },
  "cells": [
    {
      "cell_type": "markdown",
      "metadata": {
        "id": "view-in-github",
        "colab_type": "text"
      },
      "source": [
        "<a href=\"https://colab.research.google.com/github/revendrat/AI-ML-Workshop-PIEMR-/blob/main/04_Iterations.ipynb\" target=\"_parent\"><img src=\"https://colab.research.google.com/assets/colab-badge.svg\" alt=\"Open In Colab\"/></a>"
      ]
    },
    {
      "cell_type": "markdown",
      "source": [
        "# Iterations\n",
        "1. While loops\n",
        "2. For loops\n",
        "3. Comprehensions\n",
        " *   List Comprehensions\n",
        " *   Dictionary Comprehensions\n",
        "\n",
        "# While Loop\n",
        "* While-loop is otherwise considered as indefinite loop\n",
        "* Repeats a code block as long as a defined logic stands true\n",
        "\n"
      ],
      "metadata": {
        "id": "wZlNcsKvaYAj"
      }
    },
    {
      "cell_type": "code",
      "source": [
        "# Illustration of while-loop\n",
        "# Given a number, print numbers in descending order (positive numbers only)\n",
        "\n",
        "n = 10 # assign number 10\n",
        "while n > 0:\n",
        "    print(n)\n",
        "    n = n-1"
      ],
      "metadata": {
        "colab": {
          "base_uri": "https://localhost:8080/"
        },
        "id": "1Rqg_97Va3qn",
        "outputId": "8c61afb1-546c-4932-beeb-96fab9397ba9"
      },
      "execution_count": null,
      "outputs": [
        {
          "output_type": "stream",
          "name": "stdout",
          "text": [
            "10\n",
            "9\n",
            "8\n",
            "7\n",
            "6\n",
            "5\n",
            "4\n",
            "3\n",
            "2\n",
            "1\n"
          ]
        }
      ]
    },
    {
      "cell_type": "markdown",
      "source": [
        "# For Loops\n",
        "* for-loop is similar to while-loop in Python\n",
        "* The logic to define for-loop differs\n",
        "* the beginning and ending of for-loop is bounded by a given sequence\n",
        "* the code block in for-loop repeats within this sequence\n",
        "* for loop is iterated over every value in a sequence\n",
        "\n",
        "# Useful functions while writing for-loop\n",
        "* range(start, stop, step)\n",
        "* range function generates a sequence of numbers beginning at start, ending at stop, and increments by a step\n",
        "* to generate values of 1 to 10 with an increment of 1, use range(1,10,1) in for-loop"
      ],
      "metadata": {
        "id": "omOB5uLbbAXn"
      }
    },
    {
      "cell_type": "code",
      "source": [
        "# Illustration of range(start, stop, step) function\n",
        "# to generate values of 1 to 10 with an increment of 1, use range(1,10,1)\n",
        "for i in range(0,10+1,1):\n",
        "    print(i)"
      ],
      "metadata": {
        "colab": {
          "base_uri": "https://localhost:8080/"
        },
        "id": "NEwoQLX0a3ul",
        "outputId": "be2c154a-2c3d-4f3d-b4c7-48c4da647004"
      },
      "execution_count": null,
      "outputs": [
        {
          "output_type": "stream",
          "name": "stdout",
          "text": [
            "0\n",
            "1\n",
            "2\n",
            "3\n",
            "4\n",
            "5\n",
            "6\n",
            "7\n",
            "8\n",
            "9\n",
            "10\n"
          ]
        }
      ]
    },
    {
      "cell_type": "code",
      "source": [
        "# Illustration of for-loop\n",
        "# Given a number, print numbers in descending order (positive numbers only)\n",
        "\n",
        "n=10 # given number\n",
        "for i in range(0, n):\n",
        "    print(n)\n",
        "    n = n-1"
      ],
      "metadata": {
        "colab": {
          "base_uri": "https://localhost:8080/"
        },
        "id": "6B8b8J_ea36v",
        "outputId": "3c48da40-6862-48cb-cacb-26145469c0ac"
      },
      "execution_count": null,
      "outputs": [
        {
          "output_type": "stream",
          "name": "stdout",
          "text": [
            "10\n",
            "9\n",
            "8\n",
            "7\n",
            "6\n",
            "5\n",
            "4\n",
            "3\n",
            "2\n",
            "1\n"
          ]
        }
      ]
    },
    {
      "cell_type": "code",
      "source": [
        "# Illustration of for-loop\n",
        "# print all characters in the string \"PIEMR Indore\"\n",
        "for i in \"PIEMR Indore\":\n",
        "    print(i)"
      ],
      "metadata": {
        "colab": {
          "base_uri": "https://localhost:8080/"
        },
        "id": "8TYAlEuma4Cz",
        "outputId": "0691700b-4877-490b-bc74-87bfc436bcda"
      },
      "execution_count": null,
      "outputs": [
        {
          "output_type": "stream",
          "name": "stdout",
          "text": [
            "P\n",
            "I\n",
            "E\n",
            "M\n",
            "R\n",
            " \n",
            "I\n",
            "n\n",
            "d\n",
            "o\n",
            "r\n",
            "e\n"
          ]
        }
      ]
    },
    {
      "cell_type": "code",
      "source": [
        "# Illustration of for-loop\n",
        "# print all characters in the string \"PIEMR Indore\"\n",
        "# Alternative logic\n",
        "name = \"PIEMR Indore\"\n",
        "for i in range(len(name)):\n",
        "    print(name[i])"
      ],
      "metadata": {
        "colab": {
          "base_uri": "https://localhost:8080/"
        },
        "id": "Gdi6d-DHbTUA",
        "outputId": "eb2dddca-6832-49c9-8853-d7b45405a3bd"
      },
      "execution_count": null,
      "outputs": [
        {
          "output_type": "stream",
          "name": "stdout",
          "text": [
            "P\n",
            "I\n",
            "E\n",
            "M\n",
            "R\n",
            " \n",
            "I\n",
            "n\n",
            "d\n",
            "o\n",
            "r\n",
            "e\n"
          ]
        }
      ]
    },
    {
      "cell_type": "code",
      "source": [
        "# Given a list of values, find their sum, and mean \n",
        "\n",
        "values = [1,2,3,4,5,6,7,8,9,10]\n",
        "sum_values = 0\n",
        "for i in values:\n",
        "    #print(values[i-1])   \n",
        "    sum_values = sum_values + values[i-1]\n",
        "\n",
        "print(\"Sum of values : \" + str(sum_values))\n",
        "print(\"Mean of values : \" + str(sum_values/len(values)))\n",
        "print(\"Mean of values : \" , sum_values/len(values))\n",
        "#print(\"Mean of values : \" + sum_values/len(values))"
      ],
      "metadata": {
        "colab": {
          "base_uri": "https://localhost:8080/"
        },
        "id": "nxQQt067bTYN",
        "outputId": "d88a52e7-5dba-47d5-b7af-8c9ae3138d07"
      },
      "execution_count": null,
      "outputs": [
        {
          "output_type": "stream",
          "name": "stdout",
          "text": [
            "Sum of values : 55\n",
            "Mean of values : 5.5\n",
            "Mean of values :  5.5\n"
          ]
        }
      ]
    },
    {
      "cell_type": "code",
      "source": [
        "## Loop through data dictionary\n",
        "\n",
        "groups = {\"G1 Group\":31, \"G2 Group\":30}\n",
        "\n",
        "for i_key in groups.keys():\n",
        "    print(i_key +\" has a batch size of \" + str(groups[i_key]) + \" students.\")"
      ],
      "metadata": {
        "colab": {
          "base_uri": "https://localhost:8080/"
        },
        "id": "AKGIqyTKbYw0",
        "outputId": "3b4d5c19-42da-4970-98cf-4552473247c2"
      },
      "execution_count": null,
      "outputs": [
        {
          "output_type": "stream",
          "name": "stdout",
          "text": [
            "G1 Group has a batch size of 31 students.\n",
            "G2 Group has a batch size of 30 students.\n"
          ]
        }
      ]
    },
    {
      "cell_type": "markdown",
      "source": [
        "# Comprehensions\n",
        "* Comprehensions are another method to perform iternations in Python\n",
        "* Comprehensions enable to crease sequences from other sequences\n",
        "* Common comprehensions in Python are list, dictionary and set comprehensions\n"
      ],
      "metadata": {
        "id": "7F4FiMHObb8S"
      }
    },
    {
      "cell_type": "code",
      "source": [
        "## List comprehension illustration\n",
        "\n",
        "# Suppose you want to create a list of square of n numbers\n",
        "# Illustration using for-loops\n",
        "\n",
        "n = 5\n",
        "sq_list = []\n",
        "for i in range(1,n+1):\n",
        "    #print(i)\n",
        "    sq_list.append(i**2)\n",
        "print(sq_list)\n",
        "\n",
        "# using list comprehension\n",
        "\n",
        "sq_list_comp = [(i+1)**2 for i in range(n)]\n",
        "print(sq_list_comp)"
      ],
      "metadata": {
        "colab": {
          "base_uri": "https://localhost:8080/"
        },
        "id": "HwHzh0NebjCB",
        "outputId": "859a346c-d041-468f-b667-1a9a2b7ba6b9"
      },
      "execution_count": null,
      "outputs": [
        {
          "output_type": "stream",
          "name": "stdout",
          "text": [
            "[1, 4, 9, 16, 25]\n",
            "[1, 4, 9, 16, 25]\n"
          ]
        }
      ]
    },
    {
      "cell_type": "code",
      "source": [
        "## Dictionary Comprehension\n",
        "groups = {\"G1 Group\":31, \"G2 Group\":30, \"G3 Group\": 29}\n",
        "\n",
        "{i_key:x+10 for (i_key, x) in groups.items()}"
      ],
      "metadata": {
        "colab": {
          "base_uri": "https://localhost:8080/"
        },
        "id": "FLQVipGpbl0D",
        "outputId": "bfdc68bb-683a-4b64-d1c3-014107ba8ec1"
      },
      "execution_count": null,
      "outputs": [
        {
          "output_type": "execute_result",
          "data": {
            "text/plain": [
              "{'G1 Group': 41, 'G2 Group': 40, 'G3 Group': 39}"
            ]
          },
          "metadata": {},
          "execution_count": 9
        }
      ]
    },
    {
      "cell_type": "markdown",
      "source": [
        "# Enumerate, zip & map in python\n",
        "# Enumerate\n",
        "* Enumerate method adds counting feature to the iterables\n",
        "* Say you have a list or tuple of elements, and you would like to add counter to the list or tuple. In that case enumerate method comes handy.\n",
        "* Enumerate method takes two arguments: (1) any data structure object supporting iterations, and (2) value at which counting must begin (default is zero)\n",
        "# Zip\n",
        "* zip() method is applicable only for iterable elements\n",
        "* zip() method takes one or more iterable elements and combines them to a zip object\n",
        "* unzipping does the reverse of zipping"
      ],
      "metadata": {
        "id": "zo9Ngf1jbswA"
      }
    },
    {
      "cell_type": "code",
      "source": [
        "# enumerate illustration using tuple\n",
        "some_numbers_tuple = (9,8,6,5,1,2,10)\n",
        "sn_tuple_enum_obj = enumerate(some_numbers_tuple)\n",
        "print(\"sn_tuple_enum_obj : \", sn_tuple_enum_obj)\n",
        "tuple(sn_tuple_enum_obj)"
      ],
      "metadata": {
        "colab": {
          "base_uri": "https://localhost:8080/"
        },
        "id": "oTiMzisScKQU",
        "outputId": "a70a9773-bea0-41c8-d54e-bb4336f77586"
      },
      "execution_count": null,
      "outputs": [
        {
          "output_type": "stream",
          "name": "stdout",
          "text": [
            "sn_tuple_enum_obj :  <enumerate object at 0x7f9952b82550>\n"
          ]
        },
        {
          "output_type": "execute_result",
          "data": {
            "text/plain": [
              "((0, 9), (1, 8), (2, 6), (3, 5), (4, 1), (5, 2), (6, 10))"
            ]
          },
          "metadata": {},
          "execution_count": 10
        }
      ]
    },
    {
      "cell_type": "code",
      "source": [
        "for count_value, element_value in enumerate(some_numbers_tuple):\n",
        "    print(\"count_value: \", count_value, \"element_value: \", element_value)"
      ],
      "metadata": {
        "id": "o3PmVHeCcM7b",
        "colab": {
          "base_uri": "https://localhost:8080/"
        },
        "outputId": "65dbbd3f-a8ab-4cf8-9c64-37fc657bfcf8"
      },
      "execution_count": null,
      "outputs": [
        {
          "output_type": "stream",
          "name": "stdout",
          "text": [
            "count_value:  0 element_value:  9\n",
            "count_value:  1 element_value:  8\n",
            "count_value:  2 element_value:  6\n",
            "count_value:  3 element_value:  5\n",
            "count_value:  4 element_value:  1\n",
            "count_value:  5 element_value:  2\n",
            "count_value:  6 element_value:  10\n"
          ]
        }
      ]
    },
    {
      "cell_type": "code",
      "source": [
        "# enumerate illustration using list\n",
        "some_numbers_list = [9,8,6,5,1,2,10]\n",
        "sn_list_enum_obj = enumerate(some_numbers_list)\n",
        "print(\"sn_list_enum_obj : \", sn_list_enum_obj)\n",
        "list(sn_list_enum_obj)"
      ],
      "metadata": {
        "colab": {
          "base_uri": "https://localhost:8080/"
        },
        "id": "CLmBUPvCcM-f",
        "outputId": "6e8fff06-605d-4a47-bb24-75e3bbc14068"
      },
      "execution_count": null,
      "outputs": [
        {
          "output_type": "stream",
          "name": "stdout",
          "text": [
            "sn_list_enum_obj :  <enumerate object at 0x7f9952b8b4b0>\n"
          ]
        },
        {
          "output_type": "execute_result",
          "data": {
            "text/plain": [
              "[(0, 9), (1, 8), (2, 6), (3, 5), (4, 1), (5, 2), (6, 10)]"
            ]
          },
          "metadata": {},
          "execution_count": 12
        }
      ]
    },
    {
      "cell_type": "code",
      "source": [
        "for count_value, element_value in enumerate(some_numbers_list):\n",
        "    print(\"count_value: \", count_value, \" element_value: \", element_value)"
      ],
      "metadata": {
        "colab": {
          "base_uri": "https://localhost:8080/"
        },
        "id": "tZarollHcRzg",
        "outputId": "cb73c888-582d-4b4e-e97a-9bf2e7965e4d"
      },
      "execution_count": null,
      "outputs": [
        {
          "output_type": "stream",
          "name": "stdout",
          "text": [
            "count_value:  0  element_value:  9\n",
            "count_value:  1  element_value:  8\n",
            "count_value:  2  element_value:  6\n",
            "count_value:  3  element_value:  5\n",
            "count_value:  4  element_value:  1\n",
            "count_value:  5  element_value:  2\n",
            "count_value:  6  element_value:  10\n"
          ]
        }
      ]
    },
    {
      "cell_type": "code",
      "source": [
        "some_numbers_dict = { \"x\" : [9,8,7,6,5], \"y\": [1,2,10]}\n",
        "\n",
        "sn_dict_enum_obj = enumerate(some_numbers_dict)\n",
        "\n",
        "print(\"sn_dict_enum_obj : \", sn_dict_enum_obj)\n",
        "dict(sn_dict_enum_obj)"
      ],
      "metadata": {
        "colab": {
          "base_uri": "https://localhost:8080/"
        },
        "id": "da7GjbcocUBB",
        "outputId": "2dad39f2-00d0-47d9-f35b-51f9aaf442f5"
      },
      "execution_count": null,
      "outputs": [
        {
          "output_type": "stream",
          "name": "stdout",
          "text": [
            "sn_dict_enum_obj :  <enumerate object at 0x7f9952b85280>\n"
          ]
        },
        {
          "output_type": "execute_result",
          "data": {
            "text/plain": [
              "{0: 'x', 1: 'y'}"
            ]
          },
          "metadata": {},
          "execution_count": 14
        }
      ]
    },
    {
      "cell_type": "code",
      "source": [
        "for count_value, element_value in enumerate(some_numbers_dict):\n",
        "    print(\"count_value: \", count_value, \" element_value: \", element_value)"
      ],
      "metadata": {
        "colab": {
          "base_uri": "https://localhost:8080/"
        },
        "id": "hJMY7d3AcV7Q",
        "outputId": "92fb74cf-a119-4806-a1f1-f2c15e0e99c5"
      },
      "execution_count": null,
      "outputs": [
        {
          "output_type": "stream",
          "name": "stdout",
          "text": [
            "count_value:  0  element_value:  x\n",
            "count_value:  1  element_value:  y\n"
          ]
        }
      ]
    },
    {
      "cell_type": "code",
      "source": [
        "# zip illustration\n",
        "# create list person with column names\n",
        "# create list of values for person, and\n",
        "# zip both the lists\n",
        "\n",
        "person = [\"Name\", \"ID\", \"Degree\", \"Year\"]\n",
        "st1 = [\"Rohit\", 'B20210525', \"B.Tech.\", \"I Year\"]\n",
        "\n",
        "# create a zip object\n",
        "students = zip(person, st1)\n",
        "students"
      ],
      "metadata": {
        "colab": {
          "base_uri": "https://localhost:8080/"
        },
        "id": "lz-ieVI2cX2B",
        "outputId": "dc534044-3d5f-4517-d756-67945e0c7c0a"
      },
      "execution_count": null,
      "outputs": [
        {
          "output_type": "execute_result",
          "data": {
            "text/plain": [
              "<zip at 0x7f9955def690>"
            ]
          },
          "metadata": {},
          "execution_count": 16
        }
      ]
    },
    {
      "cell_type": "code",
      "source": [
        "for temp_var in students:\n",
        "    print(temp_var)"
      ],
      "metadata": {
        "colab": {
          "base_uri": "https://localhost:8080/"
        },
        "id": "0MAmWOvIcaFl",
        "outputId": "ca360fc0-f61a-4939-e3c3-82c583a4bc5f"
      },
      "execution_count": null,
      "outputs": [
        {
          "output_type": "stream",
          "name": "stdout",
          "text": [
            "('Name', 'Rohit')\n",
            "('ID', 'B20210525')\n",
            "('Degree', 'B.Tech.')\n",
            "('Year', 'I Year')\n"
          ]
        }
      ]
    },
    {
      "cell_type": "code",
      "source": [
        "# What if more than two iterations?\n",
        "person = [\"Name\", \"ID\", \"Degree\", \"Year\"]\n",
        "st1 = [\"Rohit\", 'B20210525', \"B.Tech.\", \"I Year\"]\n",
        "st2 = [\"Vaibhav\", 'B20210525', \"B.Tech.\", \"I Year\"]\n",
        "# create a zip object\n",
        "students = zip(person, st1, st2)\n",
        "students"
      ],
      "metadata": {
        "colab": {
          "base_uri": "https://localhost:8080/"
        },
        "id": "ZqQKdMt_ccMS",
        "outputId": "c97badac-9df0-4b70-9b28-862290096e71"
      },
      "execution_count": null,
      "outputs": [
        {
          "output_type": "execute_result",
          "data": {
            "text/plain": [
              "<zip at 0x7f9952b939b0>"
            ]
          },
          "metadata": {},
          "execution_count": 18
        }
      ]
    },
    {
      "cell_type": "code",
      "source": [
        "for temp_var in students:\n",
        "    print(temp_var)"
      ],
      "metadata": {
        "colab": {
          "base_uri": "https://localhost:8080/"
        },
        "id": "ACwmhpTsceI0",
        "outputId": "c3564cff-68c4-4621-b714-6c65c9b0ba60"
      },
      "execution_count": null,
      "outputs": [
        {
          "output_type": "stream",
          "name": "stdout",
          "text": [
            "('Name', 'Rohit', 'Vaibhav')\n",
            "('ID', 'B20210525', 'B20210525')\n",
            "('Degree', 'B.Tech.', 'B.Tech.')\n",
            "('Year', 'I Year', 'I Year')\n"
          ]
        }
      ]
    },
    {
      "cell_type": "code",
      "source": [
        "# What if the iterables in zip are of different length?\n",
        "letters = ['a', 'b', 'c', 'd', 'e']\n",
        "nums = [1,2,3]\n",
        "\n",
        "nl = zip(letters, nums)\n",
        "\n",
        "# check that zip object does not print d & e\n",
        "for temp_var in nl:\n",
        "    print(temp_var)"
      ],
      "metadata": {
        "colab": {
          "base_uri": "https://localhost:8080/"
        },
        "id": "37j3dkh4chSM",
        "outputId": "fb646031-3564-4408-adf7-98353c65ea87"
      },
      "execution_count": null,
      "outputs": [
        {
          "output_type": "stream",
          "name": "stdout",
          "text": [
            "('a', 1)\n",
            "('b', 2)\n",
            "('c', 3)\n"
          ]
        }
      ]
    },
    {
      "cell_type": "code",
      "source": [
        "# What if the iterables in zip are of different length?\n",
        "# use zip_longest() from itertools\n",
        "\n",
        "from itertools import zip_longest\n",
        "\n",
        "letters = ['a', 'b', 'c', 'd', 'e']\n",
        "nums = [1,2,3]\n",
        "\n",
        "nl = zip_longest(letters, nums)\n",
        "\n",
        "# check that zip object does not print d & e\n",
        "for temp_var in nl:\n",
        "    print(temp_var)"
      ],
      "metadata": {
        "colab": {
          "base_uri": "https://localhost:8080/"
        },
        "id": "yC1WvOGacjgo",
        "outputId": "c42fa633-48ba-4d9f-e701-85019f88a79c"
      },
      "execution_count": null,
      "outputs": [
        {
          "output_type": "stream",
          "name": "stdout",
          "text": [
            "('a', 1)\n",
            "('b', 2)\n",
            "('c', 3)\n",
            "('d', None)\n",
            "('e', None)\n"
          ]
        }
      ]
    },
    {
      "cell_type": "code",
      "source": [
        "# Unzipping\n",
        "list_of_typles = [(1,2), (3,4), (5,6), (7,8), (9,0)]\n",
        "\n",
        "odd, even = zip(*list_of_typles)\n",
        "\n",
        "print(\"unzipped even :\", even)\n",
        "\n",
        "print(\"unzipped odd: \", odd)"
      ],
      "metadata": {
        "colab": {
          "base_uri": "https://localhost:8080/"
        },
        "id": "La52mFErcl2X",
        "outputId": "d1130e95-f1c2-4a46-c5bd-435c8e591c54"
      },
      "execution_count": null,
      "outputs": [
        {
          "output_type": "stream",
          "name": "stdout",
          "text": [
            "unzipped even : (2, 4, 6, 8, 0)\n",
            "unzipped odd:  (1, 3, 5, 7, 9)\n"
          ]
        }
      ]
    },
    {
      "cell_type": "code",
      "source": [
        "# use enumerate with zip to get index of combined values\n",
        "person = [\"Name\", \"ID\", \"Degree\", \"Year\"]\n",
        "st1 = [\"Rohit\", 'B20210525', \"B.Tech.\", \"I Year\"]\n",
        "st2 = [\"Vaibhav\", 'B20210525', \"B.Tech.\", \"I Year\"]\n",
        "# create a zip object\n",
        "students = zip(person, st1, st2)\n",
        "print(\"students \\n\", students)\n",
        "\n",
        "for temp_var in enumerate(students):\n",
        "    print(temp_var)"
      ],
      "metadata": {
        "colab": {
          "base_uri": "https://localhost:8080/"
        },
        "id": "z6g0Gt4gcoMM",
        "outputId": "558d6c1d-fc78-474a-f03d-14c842dc5ea5"
      },
      "execution_count": null,
      "outputs": [
        {
          "output_type": "stream",
          "name": "stdout",
          "text": [
            "students \n",
            " <zip object at 0x7f9957635320>\n",
            "(0, ('Name', 'Rohit', 'Vaibhav'))\n",
            "(1, ('ID', 'B20210525', 'B20210525'))\n",
            "(2, ('Degree', 'B.Tech.', 'B.Tech.'))\n",
            "(3, ('Year', 'I Year', 'I Year'))\n"
          ]
        }
      ]
    },
    {
      "cell_type": "markdown",
      "source": [
        "# Map Function in Python\n",
        "* map() combines a function and iterables to apply function on the iterables\n",
        "* map() is in-built in Python, and helps avoid writing loops"
      ],
      "metadata": {
        "id": "8jwlJwOScvsV"
      }
    },
    {
      "cell_type": "code",
      "source": [
        "# Illustration of Map function\n",
        "nums = range(10)\n",
        "print(\"numers : \", nums)\n",
        "\n",
        "# find sum of nums using map()\n",
        "# the map() results in a map object which can be passed to iterable object such as list\n",
        "map(sum, nums)"
      ],
      "metadata": {
        "colab": {
          "base_uri": "https://localhost:8080/"
        },
        "id": "fnAMNP_wdCMK",
        "outputId": "077bf7b3-9ad3-4e79-c2b3-94bb5296d318"
      },
      "execution_count": null,
      "outputs": [
        {
          "output_type": "stream",
          "name": "stdout",
          "text": [
            "numers :  range(0, 10)\n"
          ]
        },
        {
          "output_type": "execute_result",
          "data": {
            "text/plain": [
              "<map at 0x7f9952b942d0>"
            ]
          },
          "metadata": {},
          "execution_count": 24
        }
      ]
    },
    {
      "cell_type": "code",
      "source": [
        "# use list() function to access the result of map()\n",
        "sum_nums=map(sum, [nums])\n",
        "list(sum_nums)"
      ],
      "metadata": {
        "colab": {
          "base_uri": "https://localhost:8080/"
        },
        "id": "MfS2e_7sdEpA",
        "outputId": "fbb1debf-a514-4d80-db85-6ac9f0a40bdd"
      },
      "execution_count": null,
      "outputs": [
        {
          "output_type": "execute_result",
          "data": {
            "text/plain": [
              "[45]"
            ]
          },
          "metadata": {},
          "execution_count": 25
        }
      ]
    },
    {
      "cell_type": "code",
      "source": [
        "# use list() function to access the result of map()\n",
        "list(map(sum, [nums]))"
      ],
      "metadata": {
        "id": "tih8vgXDdHBl",
        "colab": {
          "base_uri": "https://localhost:8080/"
        },
        "outputId": "3eaa515f-c852-4d52-bb31-a6c29e986ac4"
      },
      "execution_count": null,
      "outputs": [
        {
          "output_type": "execute_result",
          "data": {
            "text/plain": [
              "[45]"
            ]
          },
          "metadata": {},
          "execution_count": 26
        }
      ]
    },
    {
      "cell_type": "code",
      "source": [
        "# find the minimum value in the list of numbers\n",
        "min_nums=map(min, [nums])\n",
        "list(min_nums)"
      ],
      "metadata": {
        "colab": {
          "base_uri": "https://localhost:8080/"
        },
        "id": "KRp33P2BdI6f",
        "outputId": "35dcf450-aa82-4538-e45b-05c2ea7f0552"
      },
      "execution_count": null,
      "outputs": [
        {
          "output_type": "execute_result",
          "data": {
            "text/plain": [
              "[0]"
            ]
          },
          "metadata": {},
          "execution_count": 27
        }
      ]
    },
    {
      "cell_type": "code",
      "source": [
        "# calculate mean of numbers\n",
        "import numpy as np\n",
        "y=map(np.mean, [nums])\n",
        "list(y)"
      ],
      "metadata": {
        "colab": {
          "base_uri": "https://localhost:8080/"
        },
        "id": "sXOj8FgCdKwR",
        "outputId": "ff980bb9-9fef-4b39-8212-a91540e6eee4"
      },
      "execution_count": null,
      "outputs": [
        {
          "output_type": "execute_result",
          "data": {
            "text/plain": [
              "[4.5]"
            ]
          },
          "metadata": {},
          "execution_count": 28
        }
      ]
    },
    {
      "cell_type": "code",
      "source": [
        "# calculate median and standard deviation\n",
        "y=map(np.median, [nums])\n",
        "list(y)"
      ],
      "metadata": {
        "colab": {
          "base_uri": "https://localhost:8080/"
        },
        "id": "Y8g7CcKkdM1y",
        "outputId": "59d60c6e-75e4-4889-a8a8-33eb6fd4c156"
      },
      "execution_count": null,
      "outputs": [
        {
          "output_type": "execute_result",
          "data": {
            "text/plain": [
              "[4.5]"
            ]
          },
          "metadata": {},
          "execution_count": 29
        }
      ]
    },
    {
      "cell_type": "code",
      "source": [
        "# Create two lists: one from 0 to 10 numbers, and another from 0 to 100 numbers\n",
        "\n",
        "# list of 0 to 10 numbers\n",
        "num_list_1 = list(range(11))\n",
        "\n",
        "# list of 0 to 100 numbers\n",
        "num_list_2 = list(range(101))\n",
        "\n",
        "# combine both the lists\n",
        "list_of_list = [num_list_1, num_list_2]\n",
        "\n",
        "# use map() to calculate the mean\n",
        "list(map(np.mean, list_of_list))"
      ],
      "metadata": {
        "colab": {
          "base_uri": "https://localhost:8080/"
        },
        "id": "hnGI9N88dO0a",
        "outputId": "ade12433-ccb1-455e-a820-079468285560"
      },
      "execution_count": null,
      "outputs": [
        {
          "output_type": "execute_result",
          "data": {
            "text/plain": [
              "[5.0, 50.0]"
            ]
          },
          "metadata": {},
          "execution_count": 30
        }
      ]
    },
    {
      "cell_type": "code",
      "source": [
        "# function in map taking two inputs\n",
        "# say you want to create \n",
        "    # square of first number, \n",
        "    # square root of second number, \n",
        "    # cube of a third number\n",
        "    # reciprocal of fourth number\n",
        "\n",
        "# create a list of numbers\n",
        "\n",
        "nums_list = [1,2,3,4]\n",
        "powers_list = [2, 0.5, 3, -1]\n",
        "\n",
        "list(map(pow, nums_list, powers_list))"
      ],
      "metadata": {
        "colab": {
          "base_uri": "https://localhost:8080/"
        },
        "id": "InZ0OwNUdQ1F",
        "outputId": "abd65ead-4809-4db2-a9a5-9bae1829fdb3"
      },
      "execution_count": null,
      "outputs": [
        {
          "output_type": "execute_result",
          "data": {
            "text/plain": [
              "[1, 1.4142135623730951, 27, 0.25]"
            ]
          },
          "metadata": {},
          "execution_count": 31
        }
      ]
    },
    {
      "cell_type": "code",
      "source": [
        "# Create a list with strings, and capitalise the string \n",
        "str_list = ['PIEMR', 'Vijay Nagar', 'Indore', 'M.P.']\n",
        "\n",
        "# to capitalise the string, that is first letter in the string use str.capitalise()\n",
        "list(map(str.capitalize, str_list))"
      ],
      "metadata": {
        "colab": {
          "base_uri": "https://localhost:8080/"
        },
        "id": "lNBiCdrudTcg",
        "outputId": "380919a7-db9c-41e6-cd0e-b89fe58abb58"
      },
      "execution_count": null,
      "outputs": [
        {
          "output_type": "execute_result",
          "data": {
            "text/plain": [
              "['Piemr', 'Vijay nagar', 'Indore', 'M.p.']"
            ]
          },
          "metadata": {},
          "execution_count": 32
        }
      ]
    },
    {
      "cell_type": "code",
      "source": [
        "# Create a list with strings, and make the string in upper cases\n",
        "str_list = ['PIEMR', 'Vijay Nagar', 'Indore', 'M.P.']\n",
        "\n",
        "# to make the string in upper case, use str.upper()\n",
        "list(map(str.upper, str_list))"
      ],
      "metadata": {
        "colab": {
          "base_uri": "https://localhost:8080/"
        },
        "id": "rlWPWQz_dVwW",
        "outputId": "4d8ea0a2-5b93-404d-afad-b75af34d0bab"
      },
      "execution_count": null,
      "outputs": [
        {
          "output_type": "execute_result",
          "data": {
            "text/plain": [
              "['PIEMR', 'VIJAY NAGAR', 'INDORE', 'M.P.']"
            ]
          },
          "metadata": {},
          "execution_count": 33
        }
      ]
    },
    {
      "cell_type": "code",
      "source": [
        "# use lambda function within map\n",
        "nums_list= [1,2,3,4,5]\n",
        "constant_list = [10,10,10,10,10]\n",
        "\n",
        "print(\"Add :\", list(map(lambda x, y: x-y, nums_list, constant_list)))\n",
        "print(\"Subtract :\", list(map(lambda x, y: x+y, nums_list, constant_list)))\n",
        "print(\"Multiply :\" , list(map(lambda x, y: x*y, nums_list, constant_list)))\n",
        "print(\"Divide :\", list(map(lambda x, y: x/y, nums_list, constant_list)))"
      ],
      "metadata": {
        "colab": {
          "base_uri": "https://localhost:8080/"
        },
        "id": "4K-JecDqdXzb",
        "outputId": "43291e31-a185-4fad-8401-8e0a4c036ba5"
      },
      "execution_count": null,
      "outputs": [
        {
          "output_type": "stream",
          "name": "stdout",
          "text": [
            "Add : [-9, -8, -7, -6, -5]\n",
            "Subtract : [11, 12, 13, 14, 15]\n",
            "Multiply : [10, 20, 30, 40, 50]\n",
            "Divide : [0.1, 0.2, 0.3, 0.4, 0.5]\n"
          ]
        }
      ]
    },
    {
      "cell_type": "code",
      "source": [
        "# use lambda function within map\n",
        "nums_list= [1,2,3,4,5]\n",
        "constant_list = [10,10,10,10,10]\n",
        "third_list = [1,1,1,1,1]\n",
        "fourth_list = [5,5,5,5,5,]\n",
        "\n",
        "print(\"Add, Subtract, Multiply & Divide :\", list(map(lambda w, x, y, z: ((w+x)-y)*z, nums_list, constant_list, third_list, fourth_list)))"
      ],
      "metadata": {
        "colab": {
          "base_uri": "https://localhost:8080/"
        },
        "id": "uE-aWHk4dZqe",
        "outputId": "86f59fa0-5e79-45b5-cd23-5ca31365ea6a"
      },
      "execution_count": null,
      "outputs": [
        {
          "output_type": "stream",
          "name": "stdout",
          "text": [
            "Add, Subtract, Multiply & Divide : [50, 55, 60, 65, 70]\n"
          ]
        }
      ]
    }
  ]
}