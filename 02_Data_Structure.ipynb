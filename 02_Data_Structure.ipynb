{
  "nbformat": 4,
  "nbformat_minor": 0,
  "metadata": {
    "colab": {
      "name": "02 Data Structure.ipynb",
      "provenance": [],
      "include_colab_link": true
    },
    "kernelspec": {
      "name": "python3",
      "display_name": "Python 3"
    },
    "language_info": {
      "name": "python"
    }
  },
  "cells": [
    {
      "cell_type": "markdown",
      "metadata": {
        "id": "view-in-github",
        "colab_type": "text"
      },
      "source": [
        "<a href=\"https://colab.research.google.com/github/revendrat/AI-ML-Workshop-PIEMR-/blob/main/02_Data_Structure.ipynb\" target=\"_parent\"><img src=\"https://colab.research.google.com/assets/colab-badge.svg\" alt=\"Open In Colab\"/></a>"
      ]
    },
    {
      "cell_type": "markdown",
      "source": [
        "Types of Built in Data Structures in Python:\n",
        "\n",
        "1. List \n",
        "2. Tuple \n",
        "3. Dictionary\n",
        "4. Set\n",
        "\n"
      ],
      "metadata": {
        "id": "_nEJ2RJVN8aM"
      }
    },
    {
      "cell_type": "markdown",
      "source": [
        "# Lists\n",
        "\n",
        "* Used when sequential order of elements is preferred\n",
        "* List data structure in Python preserves order"
      ],
      "metadata": {
        "id": "sOwtUeTFOXk9"
      }
    },
    {
      "cell_type": "code",
      "source": [
        "# Illustration of a list\n",
        "# One may create list without using the keyword \"list\"\n",
        "# Here, creating a list by name python_list\n",
        "python_list = [2021, 'IPL top 4', ['DC', 'CSK', 'RCB', 'KKR'], [1, 2, 3, 4]]"
      ],
      "metadata": {
        "id": "_m4nRRmxOcmz"
      },
      "execution_count": null,
      "outputs": []
    },
    {
      "cell_type": "code",
      "source": [
        "# Check the contents of the created list python_list\n",
        "python_list"
      ],
      "metadata": {
        "colab": {
          "base_uri": "https://localhost:8080/"
        },
        "id": "90Pl1xjOPSOV",
        "outputId": "fadf45be-2ecc-4e3d-a939-202874d37d0b"
      },
      "execution_count": null,
      "outputs": [
        {
          "output_type": "execute_result",
          "data": {
            "text/plain": [
              "[2021, 'IPL top 4', ['DC', 'CSK', 'RCB', 'KKR'], [1, 2, 3, 4]]"
            ]
          },
          "metadata": {},
          "execution_count": 2
        }
      ]
    },
    {
      "cell_type": "code",
      "source": [
        "# Verify the data structure type of the python_list\n",
        "type(python_list)"
      ],
      "metadata": {
        "colab": {
          "base_uri": "https://localhost:8080/"
        },
        "id": "ZCPm0LFTPSU_",
        "outputId": "7a0095bf-7bfc-4b41-de87-23f21ef5fc30"
      },
      "execution_count": null,
      "outputs": [
        {
          "output_type": "execute_result",
          "data": {
            "text/plain": [
              "list"
            ]
          },
          "metadata": {},
          "execution_count": 3
        }
      ]
    },
    {
      "cell_type": "code",
      "source": [
        "# use len() function to verify the size of the list\n",
        "len(python_list)"
      ],
      "metadata": {
        "colab": {
          "base_uri": "https://localhost:8080/"
        },
        "id": "w9SOxJeTPSYh",
        "outputId": "234547a0-0ff5-474e-bba5-2beb4d1841ef"
      },
      "execution_count": null,
      "outputs": [
        {
          "output_type": "execute_result",
          "data": {
            "text/plain": [
              "4"
            ]
          },
          "metadata": {},
          "execution_count": 4
        }
      ]
    },
    {
      "cell_type": "markdown",
      "source": [
        "# Subsetting the list"
      ],
      "metadata": {
        "id": "1KuqUDqwPzL1"
      }
    },
    {
      "cell_type": "code",
      "source": [
        "# Access the first element of list using index-0\n",
        "python_list[0]"
      ],
      "metadata": {
        "colab": {
          "base_uri": "https://localhost:8080/"
        },
        "id": "u3JVcsVSPSce",
        "outputId": "be646e5b-4522-4c14-8029-1bf13e247761"
      },
      "execution_count": null,
      "outputs": [
        {
          "output_type": "execute_result",
          "data": {
            "text/plain": [
              "2021"
            ]
          },
          "metadata": {},
          "execution_count": 5
        }
      ]
    },
    {
      "cell_type": "code",
      "source": [
        "# Access the third element of list using index-2\n",
        "python_list[2]"
      ],
      "metadata": {
        "colab": {
          "base_uri": "https://localhost:8080/"
        },
        "id": "0R3OdMoPP3zV",
        "outputId": "16898646-6559-4cdc-b455-b73e38dfd1a9"
      },
      "execution_count": null,
      "outputs": [
        {
          "output_type": "execute_result",
          "data": {
            "text/plain": [
              "['DC', 'CSK', 'RCB', 'KKR']"
            ]
          },
          "metadata": {},
          "execution_count": 6
        }
      ]
    },
    {
      "cell_type": "code",
      "source": [
        "# The third element of list is a vector\n",
        "# Access the first value in third element of list using index-2 and index-0\n",
        "python_list[2][0]"
      ],
      "metadata": {
        "colab": {
          "base_uri": "https://localhost:8080/",
          "height": 35
        },
        "id": "YIoD3vokP32u",
        "outputId": "3d11c0bd-bf04-474c-d711-91acbeb14fed"
      },
      "execution_count": null,
      "outputs": [
        {
          "output_type": "execute_result",
          "data": {
            "text/plain": [
              "'DC'"
            ],
            "application/vnd.google.colaboratory.intrinsic+json": {
              "type": "string"
            }
          },
          "metadata": {},
          "execution_count": 7
        }
      ]
    },
    {
      "cell_type": "code",
      "source": [
        "# Python lists are mutable\n",
        "# The first element a.k.a zeroth-index of python_list is 2021\n",
        "# The first element is changed to value as shown below\n",
        "python_list[0] = '15-10-2021'"
      ],
      "metadata": {
        "id": "nIvWfVmNP36P"
      },
      "execution_count": null,
      "outputs": []
    },
    {
      "cell_type": "code",
      "source": [
        "# Verify the changes below\n",
        "python_list"
      ],
      "metadata": {
        "colab": {
          "base_uri": "https://localhost:8080/"
        },
        "id": "zj2573nCP4Cq",
        "outputId": "9d098c1d-c04f-474a-9099-c66a493a5ca7"
      },
      "execution_count": null,
      "outputs": [
        {
          "output_type": "execute_result",
          "data": {
            "text/plain": [
              "['15-10-2021', 'IPL top 4', ['DC', 'CSK', 'RCB', 'KKR'], [1, 2, 3, 4]]"
            ]
          },
          "metadata": {},
          "execution_count": 9
        }
      ]
    },
    {
      "cell_type": "code",
      "source": [
        "# access first two elements in list as shown below\n",
        "python_list[:2]"
      ],
      "metadata": {
        "colab": {
          "base_uri": "https://localhost:8080/"
        },
        "id": "TAwo-_uiQA-D",
        "outputId": "9fc341d7-89fe-4686-df92-9721b2a3c413"
      },
      "execution_count": null,
      "outputs": [
        {
          "output_type": "execute_result",
          "data": {
            "text/plain": [
              "['15-10-2021', 'IPL top 4']"
            ]
          },
          "metadata": {},
          "execution_count": 10
        }
      ]
    },
    {
      "cell_type": "code",
      "source": [
        "# Get the second and third values in a list\n",
        "python_list[1:3]"
      ],
      "metadata": {
        "colab": {
          "base_uri": "https://localhost:8080/"
        },
        "id": "aItE5vD_QBBa",
        "outputId": "f75256ec-54e9-4d64-da20-36455a322ccd"
      },
      "execution_count": null,
      "outputs": [
        {
          "output_type": "execute_result",
          "data": {
            "text/plain": [
              "['IPL top 4', ['DC', 'CSK', 'RCB', 'KKR']]"
            ]
          },
          "metadata": {},
          "execution_count": 11
        }
      ]
    },
    {
      "cell_type": "code",
      "source": [
        "# Replace the second and third values in a list\n",
        "python_list[1:3] = ['Bottom 4', ['MI', 'PBKS', 'RR', 'SRH'], 4]\n",
        "\n",
        "# Verify if the above changes are made\n",
        "python_list"
      ],
      "metadata": {
        "colab": {
          "base_uri": "https://localhost:8080/"
        },
        "id": "HqgB-L_4QBFG",
        "outputId": "af0b68ee-cba8-4565-8dcc-17841a38492c"
      },
      "execution_count": null,
      "outputs": [
        {
          "output_type": "execute_result",
          "data": {
            "text/plain": [
              "['15-10-2021', 'Bottom 4', ['MI', 'PBKS', 'RR', 'SRH'], 4, [1, 2, 3, 4]]"
            ]
          },
          "metadata": {},
          "execution_count": 12
        }
      ]
    },
    {
      "cell_type": "markdown",
      "source": [
        "# Expanding the list i.e., adding one more element to the list\n",
        "* Add an element at the end using + operator\n",
        "* Add an element at the end using append() function\n",
        "* Add an element any where, say nth position using insert(n, 'inserted element at n') function"
      ],
      "metadata": {
        "id": "TrM8_RlTQMN8"
      }
    },
    {
      "cell_type": "code",
      "source": [
        "# Following throws an error\n",
        "python_list[5] = ['Finalists']"
      ],
      "metadata": {
        "colab": {
          "base_uri": "https://localhost:8080/",
          "height": 184
        },
        "id": "FqYIsE3NQIN3",
        "outputId": "cea1459f-ed27-45d7-b5ff-535a85b6eec9"
      },
      "execution_count": null,
      "outputs": [
        {
          "output_type": "error",
          "ename": "IndexError",
          "evalue": "ignored",
          "traceback": [
            "\u001b[0;31m---------------------------------------------------------------------------\u001b[0m",
            "\u001b[0;31mIndexError\u001b[0m                                Traceback (most recent call last)",
            "\u001b[0;32m<ipython-input-14-4b8cee4e84b8>\u001b[0m in \u001b[0;36m<module>\u001b[0;34m()\u001b[0m\n\u001b[1;32m      1\u001b[0m \u001b[0;31m# Following throws an error\u001b[0m\u001b[0;34m\u001b[0m\u001b[0;34m\u001b[0m\u001b[0;34m\u001b[0m\u001b[0m\n\u001b[0;32m----> 2\u001b[0;31m \u001b[0mpython_list\u001b[0m\u001b[0;34m[\u001b[0m\u001b[0;36m5\u001b[0m\u001b[0;34m]\u001b[0m \u001b[0;34m=\u001b[0m \u001b[0;34m[\u001b[0m\u001b[0;34m'Finalists'\u001b[0m\u001b[0;34m]\u001b[0m\u001b[0;34m\u001b[0m\u001b[0;34m\u001b[0m\u001b[0m\n\u001b[0m",
            "\u001b[0;31mIndexError\u001b[0m: list assignment index out of range"
          ]
        }
      ]
    },
    {
      "cell_type": "code",
      "source": [
        "# In order to add one more element to list, use \"+\" operator\n",
        "python_list = python_list + ['Finalists']\n",
        "\n",
        " #Verify if the above changes are made\n",
        "python_list"
      ],
      "metadata": {
        "id": "M2636dq0QIRP",
        "colab": {
          "base_uri": "https://localhost:8080/"
        },
        "outputId": "0d4722b5-f56b-4b92-dcdd-a9869dac536a"
      },
      "execution_count": null,
      "outputs": [
        {
          "output_type": "execute_result",
          "data": {
            "text/plain": [
              "['15-10-2021',\n",
              " 'Bottom 4',\n",
              " ['MI', 'PBKS', 'RR', 'SRH'],\n",
              " 4,\n",
              " [1, 2, 3, 4],\n",
              " 'Finalists']"
            ]
          },
          "metadata": {},
          "execution_count": 15
        }
      ]
    },
    {
      "cell_type": "code",
      "source": [
        "# Another method to add one more element to list: use append() function\n",
        "python_list.append(['CSK', 'KKR'])\n",
        "\n",
        " #Verify if the above changes are made\n",
        "python_list"
      ],
      "metadata": {
        "id": "ljMIgXDMQIUQ",
        "colab": {
          "base_uri": "https://localhost:8080/"
        },
        "outputId": "d3a3993a-1ba5-4167-91fd-a69901551328"
      },
      "execution_count": null,
      "outputs": [
        {
          "output_type": "execute_result",
          "data": {
            "text/plain": [
              "['15-10-2021',\n",
              " 'Bottom 4',\n",
              " ['MI', 'PBKS', 'RR', 'SRH'],\n",
              " 4,\n",
              " [1, 2, 3, 4],\n",
              " 'Finalists',\n",
              " ['CSK', 'KKR']]"
            ]
          },
          "metadata": {},
          "execution_count": 16
        }
      ]
    },
    {
      "cell_type": "code",
      "source": [
        "# In case, a new element is to be added at the beginning: use insert(0, 'Element') function\n",
        "python_list.insert(0,'Inserted Element')\n",
        "\n",
        "#Verify if the above changes are made\n",
        "python_list"
      ],
      "metadata": {
        "id": "Mi9ZSLZYQIXq",
        "colab": {
          "base_uri": "https://localhost:8080/"
        },
        "outputId": "efc92a2e-f473-40c7-9784-03b85a5be12d"
      },
      "execution_count": null,
      "outputs": [
        {
          "output_type": "execute_result",
          "data": {
            "text/plain": [
              "['Inserted Element',\n",
              " '15-10-2021',\n",
              " 'Bottom 4',\n",
              " ['MI', 'PBKS', 'RR', 'SRH'],\n",
              " 4,\n",
              " [1, 2, 3, 4],\n",
              " 'Finalists',\n",
              " ['CSK', 'KKR']]"
            ]
          },
          "metadata": {},
          "execution_count": 17
        }
      ]
    },
    {
      "cell_type": "code",
      "source": [
        "# In case, a new element is to be added at the 4th position: use insert(4, 'Element 4') function\n",
        "python_list.insert(3,'Inserted Element 4')\n",
        "\n",
        "#Verify if the above changes are made\n",
        "python_list"
      ],
      "metadata": {
        "id": "hK73RGsxTC7H",
        "colab": {
          "base_uri": "https://localhost:8080/"
        },
        "outputId": "1340b3a5-1eec-4703-adb3-76565d948539"
      },
      "execution_count": null,
      "outputs": [
        {
          "output_type": "execute_result",
          "data": {
            "text/plain": [
              "['Inserted Element',\n",
              " '15-10-2021',\n",
              " 'Bottom 4',\n",
              " 'Inserted Element 4',\n",
              " ['MI', 'PBKS', 'RR', 'SRH'],\n",
              " 4,\n",
              " [1, 2, 3, 4],\n",
              " 'Finalists',\n",
              " ['CSK', 'KKR']]"
            ]
          },
          "metadata": {},
          "execution_count": 18
        }
      ]
    },
    {
      "cell_type": "markdown",
      "source": [
        "# Remove the element from a list\n",
        "\n",
        "* use remove() function to remove a particular element\n",
        "* use del function to delete particular element or elements from a list\n",
        "* use pop() function to remove particula element from a list"
      ],
      "metadata": {
        "id": "z_fWVDDoTJhF"
      }
    },
    {
      "cell_type": "code",
      "source": [
        "# delete the first element using del\n",
        "del python_list[0]\n",
        "\n",
        "#Verify if the above changes are made\n",
        "python_list"
      ],
      "metadata": {
        "colab": {
          "base_uri": "https://localhost:8080/"
        },
        "id": "d6-ZJf5CTF_U",
        "outputId": "95d4602f-8f8e-4476-b049-699bed580ee9"
      },
      "execution_count": null,
      "outputs": [
        {
          "output_type": "execute_result",
          "data": {
            "text/plain": [
              "['15-10-2021',\n",
              " 'Bottom 4',\n",
              " 'Inserted Element 4',\n",
              " ['MI', 'PBKS', 'RR', 'SRH'],\n",
              " 4,\n",
              " [1, 2, 3, 4],\n",
              " 'Finalists',\n",
              " ['CSK', 'KKR']]"
            ]
          },
          "metadata": {},
          "execution_count": 19
        }
      ]
    },
    {
      "cell_type": "code",
      "source": [
        "# remove the  element using remove() function, and specify the value to be removed\n",
        "# Following removes 'Inserted Element 4' positioned at index-2\n",
        "python_list.remove('Inserted Element 4')\n",
        "\n",
        "#Verify if the above changes are made\n",
        "python_list"
      ],
      "metadata": {
        "colab": {
          "base_uri": "https://localhost:8080/"
        },
        "id": "y5i_M6ZfTGOU",
        "outputId": "f99fb7a1-a4a6-4d10-d21a-9bfa6bbb2bef"
      },
      "execution_count": null,
      "outputs": [
        {
          "output_type": "execute_result",
          "data": {
            "text/plain": [
              "['15-10-2021',\n",
              " 'Bottom 4',\n",
              " ['MI', 'PBKS', 'RR', 'SRH'],\n",
              " 4,\n",
              " [1, 2, 3, 4],\n",
              " 'Finalists',\n",
              " ['CSK', 'KKR']]"
            ]
          },
          "metadata": {},
          "execution_count": 20
        }
      ]
    },
    {
      "cell_type": "code",
      "source": [
        "# In case more than one element to be removed positioned between n and m indexes, use del list_name(n-1,m)\n",
        "# Delete values positioned at between 5 and 6, including 5 and 6\n",
        "del python_list[4:6]\n",
        "\n",
        "#Verify if the above changes are made\n",
        "python_list"
      ],
      "metadata": {
        "colab": {
          "base_uri": "https://localhost:8080/"
        },
        "id": "ZckAv4pSTSe6",
        "outputId": "04208659-64a1-4de4-a5fa-f75fded7a7f9"
      },
      "execution_count": null,
      "outputs": [
        {
          "output_type": "execute_result",
          "data": {
            "text/plain": [
              "['15-10-2021', 'Bottom 4', ['MI', 'PBKS', 'RR', 'SRH'], 4, ['CSK', 'KKR']]"
            ]
          },
          "metadata": {},
          "execution_count": 21
        }
      ]
    },
    {
      "cell_type": "code",
      "source": [
        "# Use pop() function to delete an element from the list\n",
        "# delete the 2nd element from the list as illustrated below\n",
        "python_list.pop(1)"
      ],
      "metadata": {
        "colab": {
          "base_uri": "https://localhost:8080/",
          "height": 35
        },
        "id": "lOz8mdNkTYJ2",
        "outputId": "267c6f13-a4eb-4f66-e1fc-c2f0ff287088"
      },
      "execution_count": null,
      "outputs": [
        {
          "output_type": "execute_result",
          "data": {
            "text/plain": [
              "'Bottom 4'"
            ],
            "application/vnd.google.colaboratory.intrinsic+json": {
              "type": "string"
            }
          },
          "metadata": {},
          "execution_count": 22
        }
      ]
    },
    {
      "cell_type": "code",
      "source": [
        "#Verify if the 2nd element is removed through pop() function\n",
        "python_list"
      ],
      "metadata": {
        "colab": {
          "base_uri": "https://localhost:8080/"
        },
        "id": "m93XxAOWTaaL",
        "outputId": "5c646900-3084-4286-e3df-a6fc4d8c320f"
      },
      "execution_count": null,
      "outputs": [
        {
          "output_type": "execute_result",
          "data": {
            "text/plain": [
              "['15-10-2021', ['MI', 'PBKS', 'RR', 'SRH'], 4, ['CSK', 'KKR']]"
            ]
          },
          "metadata": {},
          "execution_count": 23
        }
      ]
    },
    {
      "cell_type": "markdown",
      "source": [
        "# Sort elements in a list\n",
        "* use function sorted()\n",
        "* use function sort()\n",
        "* Both use Timsort algorithm\n",
        "* Both the sorting functions cannot sort a mix of data types such as numeric and strings data types"
      ],
      "metadata": {
        "id": "ewpx3tO_Te-s"
      }
    },
    {
      "cell_type": "code",
      "source": [
        "# Sort using sorted() function on list with mixed data types\n",
        "# Expect that it throws an error\n",
        "sorted(python_list)"
      ],
      "metadata": {
        "colab": {
          "base_uri": "https://localhost:8080/",
          "height": 201
        },
        "id": "D9W9EEUSTaeW",
        "outputId": "ec894e18-5688-4f5f-fe30-dae747899a5c"
      },
      "execution_count": null,
      "outputs": [
        {
          "output_type": "error",
          "ename": "TypeError",
          "evalue": "ignored",
          "traceback": [
            "\u001b[0;31m---------------------------------------------------------------------------\u001b[0m",
            "\u001b[0;31mTypeError\u001b[0m                                 Traceback (most recent call last)",
            "\u001b[0;32m<ipython-input-25-709e56df6634>\u001b[0m in \u001b[0;36m<module>\u001b[0;34m()\u001b[0m\n\u001b[1;32m      1\u001b[0m \u001b[0;31m# Sort using sorted() function on list with mixed data types\u001b[0m\u001b[0;34m\u001b[0m\u001b[0;34m\u001b[0m\u001b[0;34m\u001b[0m\u001b[0m\n\u001b[1;32m      2\u001b[0m \u001b[0;31m# Expect that it throws an error\u001b[0m\u001b[0;34m\u001b[0m\u001b[0;34m\u001b[0m\u001b[0;34m\u001b[0m\u001b[0m\n\u001b[0;32m----> 3\u001b[0;31m \u001b[0msorted\u001b[0m\u001b[0;34m(\u001b[0m\u001b[0mpython_list\u001b[0m\u001b[0;34m)\u001b[0m\u001b[0;34m\u001b[0m\u001b[0;34m\u001b[0m\u001b[0m\n\u001b[0m",
            "\u001b[0;31mTypeError\u001b[0m: '<' not supported between instances of 'list' and 'str'"
          ]
        }
      ]
    },
    {
      "cell_type": "code",
      "source": [
        "# Sort using sort() function on list with mixed data types\n",
        "# Expect that it throws an error\n",
        "python_list.sort()"
      ],
      "metadata": {
        "colab": {
          "base_uri": "https://localhost:8080/",
          "height": 201
        },
        "id": "ZLUftEpiTqES",
        "outputId": "98e05644-fc35-4872-a70f-ff8d10cf7ac7"
      },
      "execution_count": null,
      "outputs": [
        {
          "output_type": "error",
          "ename": "TypeError",
          "evalue": "ignored",
          "traceback": [
            "\u001b[0;31m---------------------------------------------------------------------------\u001b[0m",
            "\u001b[0;31mTypeError\u001b[0m                                 Traceback (most recent call last)",
            "\u001b[0;32m<ipython-input-27-8f9e148a5d5a>\u001b[0m in \u001b[0;36m<module>\u001b[0;34m()\u001b[0m\n\u001b[1;32m      1\u001b[0m \u001b[0;31m# Sort using sort() function on list with mixed data types\u001b[0m\u001b[0;34m\u001b[0m\u001b[0;34m\u001b[0m\u001b[0;34m\u001b[0m\u001b[0m\n\u001b[1;32m      2\u001b[0m \u001b[0;31m# Expect that it throws an error\u001b[0m\u001b[0;34m\u001b[0m\u001b[0;34m\u001b[0m\u001b[0;34m\u001b[0m\u001b[0m\n\u001b[0;32m----> 3\u001b[0;31m \u001b[0mpython_list\u001b[0m\u001b[0;34m.\u001b[0m\u001b[0msort\u001b[0m\u001b[0;34m(\u001b[0m\u001b[0;34m)\u001b[0m\u001b[0;34m\u001b[0m\u001b[0;34m\u001b[0m\u001b[0m\n\u001b[0m",
            "\u001b[0;31mTypeError\u001b[0m: '<' not supported between instances of 'list' and 'str'"
          ]
        }
      ]
    },
    {
      "cell_type": "code",
      "source": [
        "# Create a new list (numeric_list_1 & numeric_list_2 are same)\n",
        "numeric_list_1 = [99, 87, 104, 22, 76, 54, 93]\n",
        "numeric_list_2 = [99, 87, 104, 22, 76, 54, 93]"
      ],
      "metadata": {
        "id": "aoORSm_qTqHY"
      },
      "execution_count": null,
      "outputs": []
    },
    {
      "cell_type": "code",
      "source": [
        "# Sort using sorted() function on list with numeric data types\n",
        "sorted(numeric_list_1)"
      ],
      "metadata": {
        "colab": {
          "base_uri": "https://localhost:8080/"
        },
        "id": "VhIdktQFTvCn",
        "outputId": "26bf1d5b-14fc-45c4-a0ac-c14fadc8eae1"
      },
      "execution_count": null,
      "outputs": [
        {
          "output_type": "execute_result",
          "data": {
            "text/plain": [
              "[22, 54, 76, 87, 93, 99, 104]"
            ]
          },
          "metadata": {},
          "execution_count": 29
        }
      ]
    },
    {
      "cell_type": "code",
      "source": [
        "# Sort using sort() function on list with numeric data types\n",
        "numeric_list_2.sort()"
      ],
      "metadata": {
        "id": "zi6I6orHTxRf"
      },
      "execution_count": null,
      "outputs": []
    },
    {
      "cell_type": "code",
      "source": [
        "# Verify if the list is sorted\n",
        "numeric_list_2"
      ],
      "metadata": {
        "colab": {
          "base_uri": "https://localhost:8080/"
        },
        "id": "ztx8w6T4Tzcf",
        "outputId": "07345611-85e6-4091-b5f4-b50828242380"
      },
      "execution_count": null,
      "outputs": [
        {
          "output_type": "execute_result",
          "data": {
            "text/plain": [
              "[22, 54, 76, 87, 93, 99, 104]"
            ]
          },
          "metadata": {},
          "execution_count": 31
        }
      ]
    },
    {
      "cell_type": "markdown",
      "source": [
        "# Tuples Data Structures\n",
        "\n",
        "* Tuples are similar to lists in Python\n",
        "* Tuples are immutable, whereas lists are mutable in Python\n",
        "* Tuples are used to create immutable sequences in Python\n",
        "* To create tuples separate elements by comma\n",
        "* To create tuple consisting of grouped elements, use paranthesis\n",
        "* Tuple eases memory management in Python\n",
        "\n",
        "Follow the Illustrations on Tuples to learn more"
      ],
      "metadata": {
        "id": "sZEUf_2JUP45"
      }
    },
    {
      "cell_type": "code",
      "source": [
        "# Create a tuple of digits is created\n",
        "python_tuple = 0, 1,2,3,4,5,6,7,8,9\n",
        "\n",
        "# Verify if tuple of digits is created\n",
        "python_tuple"
      ],
      "metadata": {
        "colab": {
          "base_uri": "https://localhost:8080/"
        },
        "id": "Q0cbMZrgUc0D",
        "outputId": "f7873563-608e-49da-9b64-26f5c2cc4210"
      },
      "execution_count": null,
      "outputs": [
        {
          "output_type": "execute_result",
          "data": {
            "text/plain": [
              "(0, 1, 2, 3, 4, 5, 6, 7, 8, 9)"
            ]
          },
          "metadata": {},
          "execution_count": 32
        }
      ]
    },
    {
      "cell_type": "code",
      "source": [
        "# verify if the created data structure is tuple or not\n",
        "type(python_tuple)"
      ],
      "metadata": {
        "colab": {
          "base_uri": "https://localhost:8080/"
        },
        "id": "uWEirDBaUc4B",
        "outputId": "9dca6f7b-915b-4e45-d094-445fec8056c3"
      },
      "execution_count": null,
      "outputs": [
        {
          "output_type": "execute_result",
          "data": {
            "text/plain": [
              "tuple"
            ]
          },
          "metadata": {},
          "execution_count": 33
        }
      ]
    },
    {
      "cell_type": "code",
      "source": [
        "# Create a immutable group of tuple\n",
        "it_stocks = ('INFY', 'HCL', 'TCS', 'WIPRO') # declare tuple with paranthesis\n",
        "\n",
        "# Verify if it_stocks tuple is created\n",
        "it_stocks"
      ],
      "metadata": {
        "colab": {
          "base_uri": "https://localhost:8080/"
        },
        "id": "cZzsfDndUc8D",
        "outputId": "90b7241a-22aa-42c5-b001-9dd8f4cdeb54"
      },
      "execution_count": null,
      "outputs": [
        {
          "output_type": "execute_result",
          "data": {
            "text/plain": [
              "('INFY', 'HCL', 'TCS', 'WIPRO')"
            ]
          },
          "metadata": {},
          "execution_count": 34
        }
      ]
    },
    {
      "cell_type": "markdown",
      "source": [
        "# To verify the immutable nature of tuples\n",
        "\n",
        "* Try to add one more value to tuple\n",
        "* Try to update a value in tuple\n",
        "* Try to remove a value in tuple"
      ],
      "metadata": {
        "id": "vUOfmasTUlMV"
      }
    },
    {
      "cell_type": "code",
      "source": [
        "# Try to add value in tuple\n",
        "# Append/insert 'TECH MAHINDRA' to the it_stocks tuple\n",
        "# Expect to throw an error\n",
        "it_stocks.append('TECH MAHINDRA')"
      ],
      "metadata": {
        "colab": {
          "base_uri": "https://localhost:8080/",
          "height": 201
        },
        "id": "FBkcn012Uc_p",
        "outputId": "a2d6f5df-c740-4aff-9c87-38968bd26d92"
      },
      "execution_count": null,
      "outputs": [
        {
          "output_type": "error",
          "ename": "AttributeError",
          "evalue": "ignored",
          "traceback": [
            "\u001b[0;31m---------------------------------------------------------------------------\u001b[0m",
            "\u001b[0;31mAttributeError\u001b[0m                            Traceback (most recent call last)",
            "\u001b[0;32m<ipython-input-36-0b6485a6214e>\u001b[0m in \u001b[0;36m<module>\u001b[0;34m()\u001b[0m\n\u001b[1;32m      2\u001b[0m \u001b[0;31m# Append/insert 'TECH MAHINDRA' to the it_stocks tuple\u001b[0m\u001b[0;34m\u001b[0m\u001b[0;34m\u001b[0m\u001b[0;34m\u001b[0m\u001b[0m\n\u001b[1;32m      3\u001b[0m \u001b[0;31m# Expect to throw an error\u001b[0m\u001b[0;34m\u001b[0m\u001b[0;34m\u001b[0m\u001b[0;34m\u001b[0m\u001b[0m\n\u001b[0;32m----> 4\u001b[0;31m \u001b[0mit_stocks\u001b[0m\u001b[0;34m.\u001b[0m\u001b[0mappend\u001b[0m\u001b[0;34m(\u001b[0m\u001b[0;34m'TECH MAHINDRA'\u001b[0m\u001b[0;34m)\u001b[0m\u001b[0;34m\u001b[0m\u001b[0;34m\u001b[0m\u001b[0m\n\u001b[0m",
            "\u001b[0;31mAttributeError\u001b[0m: 'tuple' object has no attribute 'append'"
          ]
        }
      ]
    },
    {
      "cell_type": "code",
      "source": [
        "# Try to add value in tuple\n",
        "# Append/insert 'TECH MAHINDRA' to the it_stocks tuple\n",
        "# Expect to throw an error\n",
        "it_stocks.insert(4, 'TECH MAHINDRA')"
      ],
      "metadata": {
        "colab": {
          "base_uri": "https://localhost:8080/",
          "height": 201
        },
        "id": "NUHTwrj4UdDE",
        "outputId": "d8d905c0-2a7c-4727-fd0e-ba42e53a1a0b"
      },
      "execution_count": null,
      "outputs": [
        {
          "output_type": "error",
          "ename": "AttributeError",
          "evalue": "ignored",
          "traceback": [
            "\u001b[0;31m---------------------------------------------------------------------------\u001b[0m",
            "\u001b[0;31mAttributeError\u001b[0m                            Traceback (most recent call last)",
            "\u001b[0;32m<ipython-input-38-229b9c07a81f>\u001b[0m in \u001b[0;36m<module>\u001b[0;34m()\u001b[0m\n\u001b[1;32m      2\u001b[0m \u001b[0;31m# Append/insert 'TECH MAHINDRA' to the it_stocks tuple\u001b[0m\u001b[0;34m\u001b[0m\u001b[0;34m\u001b[0m\u001b[0;34m\u001b[0m\u001b[0m\n\u001b[1;32m      3\u001b[0m \u001b[0;31m# Expect to throw an error\u001b[0m\u001b[0;34m\u001b[0m\u001b[0;34m\u001b[0m\u001b[0;34m\u001b[0m\u001b[0m\n\u001b[0;32m----> 4\u001b[0;31m \u001b[0mit_stocks\u001b[0m\u001b[0;34m.\u001b[0m\u001b[0minsert\u001b[0m\u001b[0;34m(\u001b[0m\u001b[0;36m4\u001b[0m\u001b[0;34m,\u001b[0m \u001b[0;34m'TECH MAHINDRA'\u001b[0m\u001b[0;34m)\u001b[0m\u001b[0;34m\u001b[0m\u001b[0;34m\u001b[0m\u001b[0m\n\u001b[0m",
            "\u001b[0;31mAttributeError\u001b[0m: 'tuple' object has no attribute 'insert'"
          ]
        }
      ]
    },
    {
      "cell_type": "code",
      "source": [
        "# Try to update value in tuple\n",
        "# change 'INFY' to 'INFOSYS'\n",
        "# Expect to throw an error\n",
        "it_stocks[0] = 'INFOSYS'"
      ],
      "metadata": {
        "colab": {
          "base_uri": "https://localhost:8080/",
          "height": 201
        },
        "id": "stCN84XSU9v5",
        "outputId": "f60e1f09-5de8-4969-b8e3-772ed4142f8b"
      },
      "execution_count": null,
      "outputs": [
        {
          "output_type": "error",
          "ename": "TypeError",
          "evalue": "ignored",
          "traceback": [
            "\u001b[0;31m---------------------------------------------------------------------------\u001b[0m",
            "\u001b[0;31mTypeError\u001b[0m                                 Traceback (most recent call last)",
            "\u001b[0;32m<ipython-input-56-8abe6c7ad9e4>\u001b[0m in \u001b[0;36m<module>\u001b[0;34m()\u001b[0m\n\u001b[1;32m      2\u001b[0m \u001b[0;31m# change 'INFY' to 'INFOSYS'\u001b[0m\u001b[0;34m\u001b[0m\u001b[0;34m\u001b[0m\u001b[0;34m\u001b[0m\u001b[0m\n\u001b[1;32m      3\u001b[0m \u001b[0;31m# Expect to throw an error\u001b[0m\u001b[0;34m\u001b[0m\u001b[0;34m\u001b[0m\u001b[0;34m\u001b[0m\u001b[0m\n\u001b[0;32m----> 4\u001b[0;31m \u001b[0mit_stocks\u001b[0m\u001b[0;34m[\u001b[0m\u001b[0;36m0\u001b[0m\u001b[0;34m]\u001b[0m \u001b[0;34m=\u001b[0m \u001b[0;34m'INFOSYS'\u001b[0m\u001b[0;34m\u001b[0m\u001b[0;34m\u001b[0m\u001b[0m\n\u001b[0m",
            "\u001b[0;31mTypeError\u001b[0m: 'tuple' object does not support item assignment"
          ]
        }
      ]
    },
    {
      "cell_type": "code",
      "source": [
        "# Try to remove value in tuple\n",
        "# Remove 'INFY' in the it_stocks tuple\n",
        "# Expect to throw an error\n",
        "it_stocks.remove('TECH MAHINDRA')"
      ],
      "metadata": {
        "id": "HHO8N7gvU92q",
        "colab": {
          "base_uri": "https://localhost:8080/",
          "height": 201
        },
        "outputId": "7c184e84-9308-42fe-a6b8-b87a094b5cb1"
      },
      "execution_count": null,
      "outputs": [
        {
          "output_type": "error",
          "ename": "AttributeError",
          "evalue": "ignored",
          "traceback": [
            "\u001b[0;31m---------------------------------------------------------------------------\u001b[0m",
            "\u001b[0;31mAttributeError\u001b[0m                            Traceback (most recent call last)",
            "\u001b[0;32m<ipython-input-58-446e2e4500e5>\u001b[0m in \u001b[0;36m<module>\u001b[0;34m()\u001b[0m\n\u001b[1;32m      2\u001b[0m \u001b[0;31m# Remove 'INFY' in the it_stocks tuple\u001b[0m\u001b[0;34m\u001b[0m\u001b[0;34m\u001b[0m\u001b[0;34m\u001b[0m\u001b[0m\n\u001b[1;32m      3\u001b[0m \u001b[0;31m# Expect to throw an error\u001b[0m\u001b[0;34m\u001b[0m\u001b[0;34m\u001b[0m\u001b[0;34m\u001b[0m\u001b[0m\n\u001b[0;32m----> 4\u001b[0;31m \u001b[0mit_stocks\u001b[0m\u001b[0;34m.\u001b[0m\u001b[0mremove\u001b[0m\u001b[0;34m(\u001b[0m\u001b[0;34m'TECH MAHINDRA'\u001b[0m\u001b[0;34m)\u001b[0m\u001b[0;34m\u001b[0m\u001b[0;34m\u001b[0m\u001b[0m\n\u001b[0m",
            "\u001b[0;31mAttributeError\u001b[0m: 'tuple' object has no attribute 'remove'"
          ]
        }
      ]
    },
    {
      "cell_type": "markdown",
      "source": [
        "# Tuples Unpacking\n",
        "* Unpack ungrouped tuples\n",
        "* Unpack grouped tuples\n",
        "* Unpacking is also called \"splat\" or \"de-structuring\""
      ],
      "metadata": {
        "id": "05EI0W2rVG0g"
      }
    },
    {
      "cell_type": "code",
      "source": [
        "# Declare the tuples unpack\n",
        "positive_number, negative_number, zero = 1,-1,0\n",
        "\n",
        "# Display each of the tuples unpack\n",
        "print(\"positive_number: \" +str(positive_number))\n",
        "print(\"negative_number: \" +str(negative_number))\n",
        "print(\"zero: \" +str(zero))"
      ],
      "metadata": {
        "colab": {
          "base_uri": "https://localhost:8080/"
        },
        "id": "egePRv0KU98G",
        "outputId": "037799c0-d882-46bf-9439-c8bc21eb197a"
      },
      "execution_count": null,
      "outputs": [
        {
          "output_type": "stream",
          "name": "stdout",
          "text": [
            "positive_number: 1\n",
            "negative_number: -1\n",
            "zero: 0\n"
          ]
        }
      ]
    },
    {
      "cell_type": "code",
      "source": [
        "# Declare unpack tuples in chunks using the * operator\n",
        "positive_number, *negative_numbers, zero = 1, -1,-2,-3,-4, -5, 0\n",
        "\n",
        "# Display each of the tuples unpack\n",
        "print(\"positive_number: \" +str(positive_number))\n",
        "print(\"negative_numbers: \" +str(negative_numbers))\n",
        "print(\"zero: \" +str(zero))"
      ],
      "metadata": {
        "colab": {
          "base_uri": "https://localhost:8080/"
        },
        "id": "GudoreaiVNft",
        "outputId": "cb96151c-a3b2-42f6-a365-402e3d2c7cd1"
      },
      "execution_count": null,
      "outputs": [
        {
          "output_type": "stream",
          "name": "stdout",
          "text": [
            "positive_number: 1\n",
            "negative_numbers: [-1, -2, -3, -4, -5]\n",
            "zero: 0\n"
          ]
        }
      ]
    },
    {
      "cell_type": "code",
      "source": [
        "# Change the order of the chunks in tuples unpack\n",
        "# Declare unpack tuples in chunks using the * operator\n",
        "*negative_numbers, zero, positive_number = -1,-2,-3,-4, -5, 0, 1\n",
        "\n",
        "# Display each of the tuples unpack\n",
        "print(\"negative_numbers: \" +str(negative_numbers))\n",
        "print(\"zero: \" +str(zero))\n",
        "print(\"positive_number: \" +str(positive_number))"
      ],
      "metadata": {
        "colab": {
          "base_uri": "https://localhost:8080/"
        },
        "id": "YiDbRbOUVPfM",
        "outputId": "e79517a4-f8d1-4526-c92f-a082e3653e65"
      },
      "execution_count": null,
      "outputs": [
        {
          "output_type": "stream",
          "name": "stdout",
          "text": [
            "negative_numbers: [-1, -2, -3, -4, -5]\n",
            "zero: 0\n",
            "positive_number: 1\n"
          ]
        }
      ]
    },
    {
      "cell_type": "markdown",
      "source": [
        "# Data Dictionaries\n",
        "* Data dictionaries contain pairs of elements commonly known as key-value pairs\n",
        "* Keys and values are mapped against each other in data dictionaries\n",
        "* Data dictionaries are equivalent to associative arrays or hash tables\n",
        "* Funtions and classe are built around data dictionaries in Python"
      ],
      "metadata": {
        "id": "Q4BhcbAIVnl1"
      }
    },
    {
      "cell_type": "code",
      "source": [
        "## Illustration of data dictionaries in Python\n",
        "\n",
        "city_codes = {\n",
        "    \"IDR\": \"Indore\",\n",
        "    \"BHO\": \"Bhopal\",\n",
        "    \"GWL\": \"Gwalior\",\n",
        "    \"JLR\": \"Jabalpur\"\n",
        "}\n",
        "\n",
        "# Verify if city_codes data dictionary is propery assigned\n",
        "city_codes"
      ],
      "metadata": {
        "colab": {
          "base_uri": "https://localhost:8080/"
        },
        "id": "NEuW4sDIVuoZ",
        "outputId": "6861c8a6-33dc-4348-8faa-2039cf459c8c"
      },
      "execution_count": null,
      "outputs": [
        {
          "output_type": "execute_result",
          "data": {
            "text/plain": [
              "{'BHO': 'Bhopal', 'GWL': 'Gwalior', 'IDR': 'Indore', 'JLR': 'Jabalpur'}"
            ]
          },
          "metadata": {},
          "execution_count": 62
        }
      ]
    },
    {
      "cell_type": "code",
      "source": [
        "## Another way of declaring dictionary\n",
        "city_codes_1 = dict(IDR= 'Indore',\n",
        "                     BHO = 'Bhopal',\n",
        "                     GWL = 'Gwalior',\n",
        "                     JLR = 'Jabalpur'\n",
        ")\n",
        "\n",
        "# Verify if city_codes_1 data dictionary is propery assigned\n",
        "city_codes_1"
      ],
      "metadata": {
        "colab": {
          "base_uri": "https://localhost:8080/"
        },
        "id": "3tHoqk-vVu5d",
        "outputId": "1e2d29c0-fce3-4098-f0a6-b01e6e730cd9"
      },
      "execution_count": null,
      "outputs": [
        {
          "output_type": "execute_result",
          "data": {
            "text/plain": [
              "{'BHO': 'Bhopal', 'GWL': 'Gwalior', 'IDR': 'Indore', 'JLR': 'Jabalpur'}"
            ]
          },
          "metadata": {},
          "execution_count": 63
        }
      ]
    },
    {
      "cell_type": "code",
      "source": [
        "## Check the type of data structure of city_codes and city_codes_1\n",
        "print(type(city_codes))\n",
        "\n",
        "print(type(city_codes_1))"
      ],
      "metadata": {
        "colab": {
          "base_uri": "https://localhost:8080/"
        },
        "id": "NSFp63YkVu-f",
        "outputId": "28ed298e-cf3c-4be1-acb9-b1339ac09aa6"
      },
      "execution_count": null,
      "outputs": [
        {
          "output_type": "stream",
          "name": "stdout",
          "text": [
            "<class 'dict'>\n",
            "<class 'dict'>\n"
          ]
        }
      ]
    },
    {
      "cell_type": "code",
      "source": [
        "# Get the length of data dictionary\n",
        "print(len(city_codes))\n",
        "print(len(city_codes_1))"
      ],
      "metadata": {
        "colab": {
          "base_uri": "https://localhost:8080/"
        },
        "id": "bPQq8P5YVvB1",
        "outputId": "be8efd02-6b0d-40c4-94e5-0da130c17bd4"
      },
      "execution_count": null,
      "outputs": [
        {
          "output_type": "stream",
          "name": "stdout",
          "text": [
            "4\n",
            "4\n"
          ]
        }
      ]
    },
    {
      "cell_type": "code",
      "source": [
        "# Retrieve values from keys\n",
        "# Retrieve value of city_codes code 'IDR' (Note: Here IDR is key to value of City Indore)\n",
        "print(city_codes['IDR'])\n",
        "print(city_codes_1['IDR'])"
      ],
      "metadata": {
        "colab": {
          "base_uri": "https://localhost:8080/"
        },
        "id": "U8kCEcS0V4cy",
        "outputId": "800aea49-bb57-45b3-a7eb-f5132ad50e8d"
      },
      "execution_count": null,
      "outputs": [
        {
          "output_type": "stream",
          "name": "stdout",
          "text": [
            "Indore\n",
            "Indore\n"
          ]
        }
      ]
    },
    {
      "cell_type": "code",
      "source": [
        "## Illustration of mutliple values for same key in data dictionaries\n",
        "stocks = {\n",
        "    \"IT\" : [\"HCL\", \"INFY\", \"TCS\", \"WIPRO\"],\n",
        "    \"BANKING\" : [\"AXIS\", \"HDFC\", \"INDUS IND\", \"KOTAK\"],\n",
        "    \"CEMENT\" : [\"SHREE CHEM\", \"ULTRATECH\", \"DALMIA\"] \n",
        "\n",
        "}\n",
        "\n",
        "# Verify if stocks data dictionary is properly assigned\n",
        "stocks"
      ],
      "metadata": {
        "colab": {
          "base_uri": "https://localhost:8080/"
        },
        "id": "Uh9ktAK1V4h8",
        "outputId": "966b6b82-5b5e-4a63-9ffc-2bb9a84b67fc"
      },
      "execution_count": null,
      "outputs": [
        {
          "output_type": "execute_result",
          "data": {
            "text/plain": [
              "{'BANKING': ['AXIS', 'HDFC', 'INDUS IND', 'KOTAK'],\n",
              " 'CEMENT': ['SHREE CHEM', 'ULTRATECH', 'DALMIA'],\n",
              " 'IT': ['HCL', 'INFY', 'TCS', 'WIPRO']}"
            ]
          },
          "metadata": {},
          "execution_count": 67
        }
      ]
    },
    {
      "cell_type": "code",
      "source": [
        "# Verify the type of data structure and length of data structure \"stocks\"\n",
        "\n",
        "print(type(stocks))\n",
        "print(len(stocks))"
      ],
      "metadata": {
        "colab": {
          "base_uri": "https://localhost:8080/"
        },
        "id": "bJpmrznjV9Ab",
        "outputId": "04bc1005-1c23-47b8-fbb5-2cb8460b525c"
      },
      "execution_count": null,
      "outputs": [
        {
          "output_type": "stream",
          "name": "stdout",
          "text": [
            "<class 'dict'>\n",
            "3\n"
          ]
        }
      ]
    },
    {
      "cell_type": "code",
      "source": [
        "# Retrieve CEMENT stocks using key \n",
        "stocks['CEMENT']"
      ],
      "metadata": {
        "colab": {
          "base_uri": "https://localhost:8080/"
        },
        "id": "B7PrOkcrV9Dj",
        "outputId": "41ffaa2c-df33-4a4a-81f9-786c3997f173"
      },
      "execution_count": null,
      "outputs": [
        {
          "output_type": "execute_result",
          "data": {
            "text/plain": [
              "['SHREE CHEM', 'ULTRATECH', 'DALMIA']"
            ]
          },
          "metadata": {},
          "execution_count": 69
        }
      ]
    },
    {
      "cell_type": "code",
      "source": [
        "# use keys() function to retrieve keys in data dictionary\n",
        "\n",
        "print(city_codes.keys())\n",
        "print(stocks.keys())"
      ],
      "metadata": {
        "colab": {
          "base_uri": "https://localhost:8080/"
        },
        "id": "Zr9Suf3OWBFS",
        "outputId": "cc18f46e-eab1-4cdd-87e6-6ffaa53faacc"
      },
      "execution_count": null,
      "outputs": [
        {
          "output_type": "stream",
          "name": "stdout",
          "text": [
            "dict_keys(['IDR', 'BHO', 'GWL', 'JLR'])\n",
            "dict_keys(['IT', 'BANKING', 'CEMENT'])\n"
          ]
        }
      ]
    },
    {
      "cell_type": "code",
      "source": [
        "# use values() function to retrieve values in data dictionary\n",
        "print(city_codes.values())\n",
        "print(stocks.values())"
      ],
      "metadata": {
        "id": "Qj7jbOnlWBLV",
        "colab": {
          "base_uri": "https://localhost:8080/"
        },
        "outputId": "042ff5e8-579c-411e-80ad-8b28e233a847"
      },
      "execution_count": null,
      "outputs": [
        {
          "output_type": "stream",
          "name": "stdout",
          "text": [
            "dict_values(['Indore', 'Bhopal', 'Gwalior', 'Jabalpur'])\n",
            "dict_values([['HCL', 'INFY', 'TCS', 'WIPRO'], ['AXIS', 'HDFC', 'INDUS IND', 'KOTAK'], ['SHREE CHEM', 'ULTRATECH', 'DALMIA']])\n"
          ]
        }
      ]
    },
    {
      "cell_type": "code",
      "source": [
        "# update data dictionary using updates() function\n",
        "# Add Bank of Baroda in stocks\n",
        "stocks.update({\"BANKING\" : [\"AXIS\", \"HDFC\", \"INDUS IND\", \"KOTAK\", \"BANK OF BARODA\"]})\n",
        "\n",
        "# Verify if stocks data dictionary is properly updated\n",
        "stocks"
      ],
      "metadata": {
        "colab": {
          "base_uri": "https://localhost:8080/"
        },
        "id": "1QTwyVodWBVD",
        "outputId": "afdf2e4d-bc9b-4f4c-df98-6c3a2726aa90"
      },
      "execution_count": null,
      "outputs": [
        {
          "output_type": "execute_result",
          "data": {
            "text/plain": [
              "{'BANKING': ['AXIS', 'HDFC', 'INDUS IND', 'KOTAK', 'BANK OF BARODA'],\n",
              " 'CEMENT': ['SHREE CHEM', 'ULTRATECH', 'DALMIA'],\n",
              " 'IT': ['HCL', 'INFY', 'TCS', 'WIPRO']}"
            ]
          },
          "metadata": {},
          "execution_count": 72
        }
      ]
    },
    {
      "cell_type": "markdown",
      "source": [
        "# Remove items from data dictionaries\n",
        "\n",
        "* pop() function to remove items with specified key names\n",
        "* popitem() function to remove the last inserted item\n",
        "* del keyword : similar to pop() function\n",
        "\n",
        "Illustrations provided below"
      ],
      "metadata": {
        "id": "4XNTSnboWMmb"
      }
    },
    {
      "cell_type": "code",
      "source": [
        "# pop() function to remove items with specified key names\n",
        "\n",
        "#check city_codes before using pop() function\n",
        "print(city_codes)\n",
        "\n",
        "# use pop() function\n",
        "print(city_codes.pop('I'))\n"
      ],
      "metadata": {
        "colab": {
          "base_uri": "https://localhost:8080/",
          "height": 218
        },
        "id": "YR1hmAv5WJRt",
        "outputId": "a2174205-0e93-4024-c3f5-cb96028ffd51"
      },
      "execution_count": null,
      "outputs": [
        {
          "output_type": "stream",
          "name": "stdout",
          "text": [
            "{'IDR': 'Indore', 'BHO': 'Bhopal', 'GWL': 'Gwalior', 'JLR': 'Jabalpur'}\n"
          ]
        },
        {
          "output_type": "error",
          "ename": "KeyError",
          "evalue": "ignored",
          "traceback": [
            "\u001b[0;31m---------------------------------------------------------------------------\u001b[0m",
            "\u001b[0;31mKeyError\u001b[0m                                  Traceback (most recent call last)",
            "\u001b[0;32m<ipython-input-74-53e17c4237c4>\u001b[0m in \u001b[0;36m<module>\u001b[0;34m()\u001b[0m\n\u001b[1;32m      5\u001b[0m \u001b[0;34m\u001b[0m\u001b[0m\n\u001b[1;32m      6\u001b[0m \u001b[0;31m# use pop() function\u001b[0m\u001b[0;34m\u001b[0m\u001b[0;34m\u001b[0m\u001b[0;34m\u001b[0m\u001b[0m\n\u001b[0;32m----> 7\u001b[0;31m \u001b[0mprint\u001b[0m\u001b[0;34m(\u001b[0m\u001b[0mcity_codes\u001b[0m\u001b[0;34m.\u001b[0m\u001b[0mpop\u001b[0m\u001b[0;34m(\u001b[0m\u001b[0;34m'I'\u001b[0m\u001b[0;34m)\u001b[0m\u001b[0;34m)\u001b[0m\u001b[0;34m\u001b[0m\u001b[0;34m\u001b[0m\u001b[0m\n\u001b[0m",
            "\u001b[0;31mKeyError\u001b[0m: 'I'"
          ]
        }
      ]
    },
    {
      "cell_type": "code",
      "source": [
        "#check city_codes after using pop() function\n",
        "print(city_codes)"
      ],
      "metadata": {
        "colab": {
          "base_uri": "https://localhost:8080/"
        },
        "id": "p9_zzn14WJVX",
        "outputId": "43ef6fa9-8c42-436a-86cc-474a8f89cedd"
      },
      "execution_count": null,
      "outputs": [
        {
          "output_type": "stream",
          "name": "stdout",
          "text": [
            "{'IDR': 'Indore', 'BHO': 'Bhopal', 'GWL': 'Gwalior', 'JLR': 'Jabalpur'}\n"
          ]
        }
      ]
    },
    {
      "cell_type": "code",
      "source": [
        "# use popitem() function to remove the last inserted item\n",
        "# check city_codes before using popitem() function\n",
        "print(city_codes)\n",
        "\n",
        "# use pop() function\n",
        "print(city_codes.popitem())\n",
        "\n",
        "# check city_codes after using popitem() function\n",
        "print(city_codes)"
      ],
      "metadata": {
        "colab": {
          "base_uri": "https://localhost:8080/"
        },
        "id": "mm1ioMTaW5EE",
        "outputId": "b179c857-454e-4b1b-939b-bcc4162b4b4b"
      },
      "execution_count": null,
      "outputs": [
        {
          "output_type": "stream",
          "name": "stdout",
          "text": [
            "{'IDR': 'Indore', 'BHO': 'Bhopal', 'GWL': 'Gwalior', 'JLR': 'Jabalpur'}\n",
            "('JLR', 'Jabalpur')\n",
            "{'IDR': 'Indore', 'BHO': 'Bhopal', 'GWL': 'Gwalior'}\n"
          ]
        }
      ]
    },
    {
      "cell_type": "code",
      "source": [
        "# Use del keyword to delete item based on key: similar to pop() function\n",
        "\n",
        "# check stocks before using del keyword\n",
        "print(stocks)\n",
        "\n",
        "# use del key work=d\n",
        "del stocks[\"BANKING\"]\n",
        "\n",
        "# check stocks after using del keyword\n",
        "print(stocks)"
      ],
      "metadata": {
        "colab": {
          "base_uri": "https://localhost:8080/"
        },
        "id": "-OHj9v6nW-Wn",
        "outputId": "b49bb221-3f39-44d9-e7d2-4031548fb706"
      },
      "execution_count": null,
      "outputs": [
        {
          "output_type": "stream",
          "name": "stdout",
          "text": [
            "{'IT': ['HCL', 'INFY', 'TCS', 'WIPRO'], 'BANKING': ['AXIS', 'HDFC', 'INDUS IND', 'KOTAK', 'BANK OF BARODA'], 'CEMENT': ['SHREE CHEM', 'ULTRATECH', 'DALMIA']}\n",
            "{'IT': ['HCL', 'INFY', 'TCS', 'WIPRO'], 'CEMENT': ['SHREE CHEM', 'ULTRATECH', 'DALMIA']}\n"
          ]
        }
      ]
    },
    {
      "cell_type": "markdown",
      "source": [
        "# In Python, mathematical set operations are provided using set() data structures"
      ],
      "metadata": {
        "id": "_aiPYWGUXBoL"
      }
    },
    {
      "cell_type": "code",
      "source": [
        "# Declare digits, even digits and odd digits using set() function mentioned below\n",
        "set_D = set([1, 2, 3, 4,  5, 6, 7, 8, 9, 0])\n",
        "set_E = set([2, 4, 6, 8, 0])\n",
        "set_O = set([1, 3, 5, 7, 9])"
      ],
      "metadata": {
        "id": "ip8xDpTKW-bF"
      },
      "execution_count": null,
      "outputs": []
    },
    {
      "cell_type": "code",
      "source": [
        "# Union operation or join two sets\n",
        "# use union() function as mentioned below to perform union operations in sets\n",
        "# Create a union of odd and even numbers\n",
        "set_E.union(set_O)"
      ],
      "metadata": {
        "colab": {
          "base_uri": "https://localhost:8080/"
        },
        "id": "RBS67_-wXfsp",
        "outputId": "c6b0d144-2967-462e-9ef9-ec8b76772b1d"
      },
      "execution_count": null,
      "outputs": [
        {
          "output_type": "execute_result",
          "data": {
            "text/plain": [
              "{0, 1, 2, 3, 4, 5, 6, 7, 8, 9}"
            ]
          },
          "metadata": {},
          "execution_count": 79
        }
      ]
    },
    {
      "cell_type": "code",
      "source": [
        "# Intersection operation or preserving duplicates\n",
        "# use intersectio() funtion for intersection operation\n",
        "# Extract odd numbers from odd set and digits set\n",
        "set_O.intersection(set_D)"
      ],
      "metadata": {
        "colab": {
          "base_uri": "https://localhost:8080/"
        },
        "id": "guXvOg_9Xfw3",
        "outputId": "9ba5ad7f-5fd2-439b-ce1f-51519eb271bd"
      },
      "execution_count": null,
      "outputs": [
        {
          "output_type": "execute_result",
          "data": {
            "text/plain": [
              "{1, 3, 5, 7, 9}"
            ]
          },
          "metadata": {},
          "execution_count": 80
        }
      ]
    },
    {
      "cell_type": "code",
      "source": [
        "# Intersection and compliment\n",
        "# Use symmetric_difference() function to get compliment of intesection of two sets\n",
        "# Extract even digits from intesection with all digits without using even numbers\n",
        "\n",
        "set_O.symmetric_difference(set_D)"
      ],
      "metadata": {
        "colab": {
          "base_uri": "https://localhost:8080/"
        },
        "id": "BIgwzTB8Xf05",
        "outputId": "e8a19968-986d-40f1-ce6a-ed3236b7570f"
      },
      "execution_count": null,
      "outputs": [
        {
          "output_type": "execute_result",
          "data": {
            "text/plain": [
              "{0, 2, 4, 6, 8}"
            ]
          },
          "metadata": {},
          "execution_count": 81
        }
      ]
    },
    {
      "cell_type": "code",
      "source": [
        "# Verify if subset using issubset() function\n",
        "print(set_O.issubset(set_D))\n",
        "print(set_E.issubset(set_D))"
      ],
      "metadata": {
        "colab": {
          "base_uri": "https://localhost:8080/"
        },
        "id": "7LDi5ge7XmKy",
        "outputId": "f0245608-30c4-419a-cf6f-d4e3b5c72fcc"
      },
      "execution_count": null,
      "outputs": [
        {
          "output_type": "stream",
          "name": "stdout",
          "text": [
            "True\n",
            "True\n"
          ]
        }
      ]
    },
    {
      "cell_type": "code",
      "source": [
        "# Verify if superset using issuperset() function\n",
        "print(set_D.issuperset(set_O))\n",
        "print(set_D.issuperset(set_O))"
      ],
      "metadata": {
        "colab": {
          "base_uri": "https://localhost:8080/"
        },
        "id": "UB4NMekXXmOh",
        "outputId": "75f60aa2-a106-45da-ea7e-d49594630c43"
      },
      "execution_count": null,
      "outputs": [
        {
          "output_type": "stream",
          "name": "stdout",
          "text": [
            "True\n",
            "True\n"
          ]
        }
      ]
    },
    {
      "cell_type": "code",
      "source": [
        "# Verify if disjoint using isdisjoint() function\n",
        "print(set_E.isdisjoint(set_O))\n",
        "print(set_E.isdisjoint(set_D))"
      ],
      "metadata": {
        "colab": {
          "base_uri": "https://localhost:8080/"
        },
        "id": "kZYQF32EXqlY",
        "outputId": "f7b48134-009e-4177-d10a-4bf0aac4b631"
      },
      "execution_count": null,
      "outputs": [
        {
          "output_type": "stream",
          "name": "stdout",
          "text": [
            "True\n",
            "False\n"
          ]
        }
      ]
    }
  ]
}