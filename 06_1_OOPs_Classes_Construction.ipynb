{
  "nbformat": 4,
  "nbformat_minor": 0,
  "metadata": {
    "colab": {
      "name": "06-1 OOPs Classes Construction.ipynb",
      "provenance": [],
      "include_colab_link": true
    },
    "kernelspec": {
      "name": "python3",
      "display_name": "Python 3"
    },
    "language_info": {
      "name": "python"
    }
  },
  "cells": [
    {
      "cell_type": "markdown",
      "metadata": {
        "id": "view-in-github",
        "colab_type": "text"
      },
      "source": [
        "<a href=\"https://colab.research.google.com/github/revendrat/AI-ML-Workshop-PIEMR-/blob/main/06_1_OOPs_Classes_Construction.ipynb\" target=\"_parent\"><img src=\"https://colab.research.google.com/assets/colab-badge.svg\" alt=\"Open In Colab\"/></a>"
      ]
    },
    {
      "cell_type": "code",
      "execution_count": 1,
      "metadata": {
        "id": "HzGyDW1ngogn"
      },
      "outputs": [],
      "source": [
        "# Illustration of Car Class Construction\n",
        "class Car():\n",
        "    def __init__(self, colour, manufacturer, model):\n",
        "        self.colour = colour\n",
        "        self.manufacturer = manufacturer\n",
        "        self.model = model\n",
        "\n",
        "    def greet(self):\n",
        "        print(\"Congratulations you purchased, \" + self.model + \" \" + self.manufacturer)\n",
        "    \n",
        "    def display_colour(self):\n",
        "        print(\"Colour of your car is \" + self.colour)"
      ]
    },
    {
      "cell_type": "code",
      "source": [
        "# Instance of car\n",
        "# Instance is also called object\n",
        "car_mustang = Car(colour= \"Red\", manufacturer=\"Ford\", model= \"Mustang\")"
      ],
      "metadata": {
        "id": "4QmLENAGg35Q"
      },
      "execution_count": 2,
      "outputs": []
    },
    {
      "cell_type": "code",
      "source": [
        "car_mustang.greet()\n",
        "car_mustang.display_colour()"
      ],
      "metadata": {
        "id": "CpzTuNbng39d",
        "colab": {
          "base_uri": "https://localhost:8080/"
        },
        "outputId": "fc450109-ffc5-4628-feb7-edf93ee283af"
      },
      "execution_count": 3,
      "outputs": [
        {
          "output_type": "stream",
          "name": "stdout",
          "text": [
            "Congratulations you purchased, Mustang Ford\n",
            "Colour of your car is Red\n"
          ]
        }
      ]
    },
    {
      "cell_type": "code",
      "source": [
        "print(car_mustang.colour)\n",
        "print(car_mustang.manufacturer)\n",
        "print(car_mustang.model)"
      ],
      "metadata": {
        "id": "xLEt2hfog4A0",
        "colab": {
          "base_uri": "https://localhost:8080/"
        },
        "outputId": "efc3010a-dbf0-4615-a571-8587eaf3b1e5"
      },
      "execution_count": 4,
      "outputs": [
        {
          "output_type": "stream",
          "name": "stdout",
          "text": [
            "Red\n",
            "Ford\n",
            "Mustang\n"
          ]
        }
      ]
    },
    {
      "cell_type": "code",
      "source": [
        "# Illustration of Customer Class Construction\n",
        "\n",
        "class Customer():\n",
        "    def __init__(self, email, phone, place_order, cancel_order):\n",
        "        self.email = email\n",
        "        self.phone = phone\n",
        "        self.place_order = place_order\n",
        "        self.cancel_order = cancel_order\n",
        "\n",
        "    def greet(self):\n",
        "        print(\"Welcome!\")\n",
        "        \n",
        "        if self.place_order == \"Y\":\n",
        "            print(\"Your order is placed.\")\n",
        "        else:\n",
        "            print(\"Your order is not placed.\")\n",
        "        if self.cancel_order == \"Y\":\n",
        "            print(\"Your order is cancelled.\")\n",
        "        else:\n",
        "            print(\"Your order is not cancelled.\")"
      ],
      "metadata": {
        "id": "P6iOogX-g4FM"
      },
      "execution_count": 5,
      "outputs": []
    },
    {
      "cell_type": "code",
      "source": [
        "# Illustration of Customer Class Construction\n",
        "\n",
        "class Customer():\n",
        "    def __init__(self, email, phone, place_order, cancel_order):\n",
        "        self.email = email\n",
        "        self.phone = phone\n",
        "        self.place_order = place_order\n",
        "        self.cancel_order = cancel_order\n",
        "\n",
        "    def greet(self):\n",
        "        print(\"Welcome!\")\n",
        "    \n",
        "    def display_place_order(self):\n",
        "        if self.place_order == \"Y\":\n",
        "            print(\"Your order is placed.\")\n",
        "        else:\n",
        "            print(\"Your order is not placed.\")\n",
        "    \n",
        "    def display_cancel_order(self):\n",
        "        if self.cancel_order == \"Y\":\n",
        "            print(\"Your order is cancelled.\")\n",
        "        else:\n",
        "            print(\"Your order is not cancelled.\")"
      ],
      "metadata": {
        "id": "YNEWnHogg4MY"
      },
      "execution_count": 6,
      "outputs": []
    },
    {
      "cell_type": "code",
      "source": [
        "# Instance of customer\n",
        "# Instance is also called object\n",
        "customer1 = Customer(email = \"lara@company.com\", phone = \"614-555-0177\", place_order=\"Y\", cancel_order = \"N\")"
      ],
      "metadata": {
        "id": "dpPztSBxhKHf"
      },
      "execution_count": 7,
      "outputs": []
    },
    {
      "cell_type": "code",
      "source": [
        "customer1.greet()\n",
        "customer1.display_place_order()\n",
        "customer1.display_cancel_order()"
      ],
      "metadata": {
        "id": "PwOVkAblhKKv",
        "colab": {
          "base_uri": "https://localhost:8080/"
        },
        "outputId": "a7f722b8-3754-46fd-d704-d7dd268e972f"
      },
      "execution_count": 8,
      "outputs": [
        {
          "output_type": "stream",
          "name": "stdout",
          "text": [
            "Welcome!\n",
            "Your order is placed.\n",
            "Your order is not cancelled.\n"
          ]
        }
      ]
    },
    {
      "cell_type": "code",
      "source": [
        "customer2 = Customer(email = \"dave@company.com\", phone = \"317-555-0188\", place_order=\"N\", cancel_order = \"Y\")"
      ],
      "metadata": {
        "id": "20g-GBa5hKN-"
      },
      "execution_count": 9,
      "outputs": []
    },
    {
      "cell_type": "code",
      "source": [
        "customer2.greet()\n",
        "customer2.display_place_order()\n",
        "customer2.display_cancel_order()"
      ],
      "metadata": {
        "id": "F_gGZzhvhKRF",
        "colab": {
          "base_uri": "https://localhost:8080/"
        },
        "outputId": "68b79de7-1c32-4005-8ffa-1b9f76a702b6"
      },
      "execution_count": 10,
      "outputs": [
        {
          "output_type": "stream",
          "name": "stdout",
          "text": [
            "Welcome!\n",
            "Your order is not placed.\n",
            "Your order is cancelled.\n"
          ]
        }
      ]
    },
    {
      "cell_type": "code",
      "source": [
        "class Customer():\n",
        "    count_customers = 0\n",
        "    def __init__(self, email, phone, place_order, cancel_order):\n",
        "        self.email = email\n",
        "        self.phone = phone\n",
        "        self.place_order = place_order\n",
        "        self.cancel_order = cancel_order\n",
        "        Customer.count_customers += 1\n",
        "\n",
        "    def greet(self):\n",
        "        print(\"Welcome!\")\n",
        "        if self.place_order == \"Y\":\n",
        "            print(\"Your order is placed.\")\n",
        "        else:\n",
        "            print(\"Your order is not placed.\")\n",
        "        if self.cancel_order == \"Y\":\n",
        "            print(\"Your order is cancelled.\")\n",
        "        else:\n",
        "            print(\"Your order is not cancelled.\")\n",
        "    \n",
        "    def num_of_customers(self):\n",
        "        print(\"Current number of customers are :\" +str(Customer.count_customers))"
      ],
      "metadata": {
        "id": "A6S6yCM1hRUb"
      },
      "execution_count": 11,
      "outputs": []
    },
    {
      "cell_type": "code",
      "source": [
        "customer1 = Customer(email = \"lara@company.com\", phone = \"614-555-0177\", place_order=\"Y\", cancel_order = \"N\")\n",
        "customer1.num_of_customers()\n",
        "\n",
        "customer2 = Customer(email = \"dave@company.com\", phone = \"317-555-0188\", place_order=\"N\", cancel_order = \"Y\")\n",
        "customer2.num_of_customers()"
      ],
      "metadata": {
        "id": "iBkocopthRXh",
        "colab": {
          "base_uri": "https://localhost:8080/"
        },
        "outputId": "d4835f9a-267e-4be2-fdfc-f633c3a44d00"
      },
      "execution_count": 12,
      "outputs": [
        {
          "output_type": "stream",
          "name": "stdout",
          "text": [
            "Current number of customers are :1\n",
            "Current number of customers are :2\n"
          ]
        }
      ]
    },
    {
      "cell_type": "code",
      "source": [
        "customer3 = Customer(email = \"sagar@kapoor.com\", phone = \"317-555-0188\", place_order=\"N\", cancel_order = \"N\")\n",
        "customer3.num_of_customers()"
      ],
      "metadata": {
        "id": "sajMTESZhRa8",
        "colab": {
          "base_uri": "https://localhost:8080/"
        },
        "outputId": "506d102d-ad1c-401f-ef5d-5901d53b35c8"
      },
      "execution_count": 13,
      "outputs": [
        {
          "output_type": "stream",
          "name": "stdout",
          "text": [
            "Current number of customers are :3\n"
          ]
        }
      ]
    },
    {
      "cell_type": "code",
      "source": [
        "customer4 = Customer(email = \"vaibhav@vaibhav.com\", phone = \"317-555-0188\", place_order=\"Y\", cancel_order = \"Y\")\n",
        "customer4.num_of_customers()"
      ],
      "metadata": {
        "id": "xK_sI0HMhbDE",
        "colab": {
          "base_uri": "https://localhost:8080/"
        },
        "outputId": "b2d6ce49-f15e-469a-8756-12aa3507c331"
      },
      "execution_count": 14,
      "outputs": [
        {
          "output_type": "stream",
          "name": "stdout",
          "text": [
            "Current number of customers are :4\n"
          ]
        }
      ]
    }
  ]
}