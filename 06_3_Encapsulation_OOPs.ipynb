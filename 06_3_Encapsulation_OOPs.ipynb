{
  "nbformat": 4,
  "nbformat_minor": 0,
  "metadata": {
    "colab": {
      "name": "06_3 Encapsulation OOPs.ipynb",
      "provenance": [],
      "authorship_tag": "ABX9TyOf7vr/4e4Rl8xel+Dkj31E",
      "include_colab_link": true
    },
    "kernelspec": {
      "name": "python3",
      "display_name": "Python 3"
    },
    "language_info": {
      "name": "python"
    }
  },
  "cells": [
    {
      "cell_type": "markdown",
      "metadata": {
        "id": "view-in-github",
        "colab_type": "text"
      },
      "source": [
        "<a href=\"https://colab.research.google.com/github/revendrat/AI-ML-Workshop-PIEMR-/blob/main/06_3_Encapsulation_OOPs.ipynb\" target=\"_parent\"><img src=\"https://colab.research.google.com/assets/colab-badge.svg\" alt=\"Open In Colab\"/></a>"
      ]
    },
    {
      "cell_type": "code",
      "execution_count": 1,
      "metadata": {
        "id": "GuKeU2mlgzXX"
      },
      "outputs": [],
      "source": [
        "stocks_dict = {\"INFY\":\"IT\", \"TCS\": \"IT\", \"HDFC\": \"BANK\", \"TATA MOTORS\": \"AUTO\" }\n",
        "\n",
        "# Create a class of Stock\n",
        "class Stock(): #note superclass is not used\n",
        "    def __init__(self, stock_name, ex_name):\n",
        "        self.stock_name = stock_name\n",
        "        self.ex_name    = ex_name\n",
        "    \n",
        "    def display_stock(self):\n",
        "        print(\"The selected stock is \" +self.stock_name )\n",
        "        print(\"The selected stock trades at exchange \" +self.ex_name )\n",
        "\n",
        "# Create a Stocksector() class and inherit name and exchange from Stock() class\n",
        "class Stocksector(Stock):\n",
        "    def display_sector(self):\n",
        "        x = stocks_dict[self.stock_name]\n",
        "        print(\"The selected stock sector is : \" + x)\n",
        "\n",
        "class Stockprice(Stocksector):\n",
        "    def __init__(self, stock_name, ex_name, stock_price):\n",
        "        super().__init__(stock_name, ex_name)\n",
        "        self.stock_price = stock_price\n",
        "\n",
        "    def display_stock_price(self):\n",
        "        print(\"The price of stock \"+ self.stock_name +\" is \" + str(self.stock_price))"
      ]
    },
    {
      "cell_type": "code",
      "source": [
        "## Encapsulation Illustration\n",
        "class StocksPurchased(Stockprice):\n",
        "    def __init__(self, stock_name, ex_name, stock_price, qty_purchased):\n",
        "        super().__init__(stock_name, ex_name, stock_price)\n",
        "        self.__qty_purchased = qty_purchased\n",
        "    \n",
        "    def display_qty_purchased(self):\n",
        "        print(\"The number of stocks purchased are : \" +str(self.__qty_purchased))"
      ],
      "metadata": {
        "id": "WRIMK7epg8yT"
      },
      "execution_count": 2,
      "outputs": []
    },
    {
      "cell_type": "code",
      "source": [
        "tata_motors_object = StocksPurchased(\"TATA MOTORS\", \"BSE\", 442, 20)\n",
        "tata_motors_object.display_stock()\n",
        "tata_motors_object.display_sector()\n",
        "tata_motors_object.display_stock_price()\n",
        "tata_motors_object.display_qty_purchased()"
      ],
      "metadata": {
        "colab": {
          "base_uri": "https://localhost:8080/"
        },
        "id": "PJmbK6-vhCri",
        "outputId": "200cd643-aeb8-42f2-bc35-754675d59a18"
      },
      "execution_count": 4,
      "outputs": [
        {
          "output_type": "stream",
          "name": "stdout",
          "text": [
            "The selected stock is TATA MOTORS\n",
            "The selected stock trades at exchange BSE\n",
            "The selected stock sector is : AUTO\n",
            "The price of stock TATA MOTORS is 442\n",
            "The number of stocks purchased are : 20\n"
          ]
        }
      ]
    },
    {
      "cell_type": "code",
      "source": [
        "# One cannot change the protected attributes.\n",
        "# The following change in quantity will not change the value\n",
        "tata_motors_object.display_stock_price()\n",
        "tata_motors_object.display_qty_purchased()\n",
        "tata_motors_object.stock_price = 508\n",
        "tata_motors_object.__qty_purchased = 50\n",
        "tata_motors_object.display_stock_price()\n",
        "tata_motors_object.display_qty_purchased()\n",
        "## Write separate getter and setter methods to fetch and change the stocks purchased values"
      ],
      "metadata": {
        "colab": {
          "base_uri": "https://localhost:8080/"
        },
        "id": "bTxkoYSshGFE",
        "outputId": "c6ebbddd-ed5f-412d-b347-1264ee874d3f"
      },
      "execution_count": 5,
      "outputs": [
        {
          "output_type": "stream",
          "name": "stdout",
          "text": [
            "The price of stock TATA MOTORS is 442\n",
            "The number of stocks purchased are : 20\n",
            "The price of stock TATA MOTORS is 508\n",
            "The number of stocks purchased are : 20\n"
          ]
        }
      ]
    },
    {
      "cell_type": "code",
      "source": [
        "class StocksPurchased(Stockprice):\n",
        "    def __init__(self, stock_name, ex_name, stock_price, qty_purchased):\n",
        "        super().__init__(stock_name, ex_name, stock_price)\n",
        "        self.__qty_purchased = 20\n",
        "    \n",
        "    def set_stock_qty(self, qty_purchased):\n",
        "        self.__qty_purchased = qty_purchased\n",
        "\n",
        "    def display_qty_purchased(self):\n",
        "        print(\"The number of stocks purchased are : \" +str(self.__qty_purchased))"
      ],
      "metadata": {
        "id": "u1Y2mH5thKdd"
      },
      "execution_count": 6,
      "outputs": []
    },
    {
      "cell_type": "code",
      "source": [
        "tata_motors_object = StocksPurchased(\"TATA MOTORS\", \"BSE\", 442, 20)\n",
        "#tata_motors_object.display_qty_purchased()\n",
        "#tata_motors_object.set_stock_qty(50)\n",
        "tata_motors_object.display_qty_purchased()"
      ],
      "metadata": {
        "colab": {
          "base_uri": "https://localhost:8080/"
        },
        "id": "D3abJI0MhOFH",
        "outputId": "72274cea-898e-445b-fd1c-40f62a3ad6e6"
      },
      "execution_count": 7,
      "outputs": [
        {
          "output_type": "stream",
          "name": "stdout",
          "text": [
            "The number of stocks purchased are : 20\n"
          ]
        }
      ]
    },
    {
      "cell_type": "code",
      "source": [
        "tata_motors_object.set_stock_qty(50)\n",
        "tata_motors_object.display_qty_purchased()"
      ],
      "metadata": {
        "colab": {
          "base_uri": "https://localhost:8080/"
        },
        "id": "wxIVFi69hRem",
        "outputId": "151db69a-9faa-4e77-f6c7-af9e9520c0bd"
      },
      "execution_count": 8,
      "outputs": [
        {
          "output_type": "stream",
          "name": "stdout",
          "text": [
            "The number of stocks purchased are : 50\n"
          ]
        }
      ]
    },
    {
      "cell_type": "code",
      "source": [
        "## Write a separate method that can be protected with enapsulation\n",
        "## use _ClassName.__method to access the same\n",
        "class StocksPurchased(Stockprice):\n",
        "    def __init__(self, stock_name, ex_name, stock_price, qty_purchased):\n",
        "        super().__init__(stock_name, ex_name, stock_price)\n",
        "        self.__qty_purchased = 20\n",
        "    \n",
        "    def set_stock_qty(self, qty_purchased):\n",
        "        self.__qty_purchased = qty_purchased\n",
        "\n",
        "    def display_qty_purchased(self):\n",
        "        print(\"The number of stocks purchased are : \" +str(self.__qty_purchased))\n",
        "    \n",
        "    def __amount_invested(self):\n",
        "        print(\"The amount invested : \" +str(self.__qty_purchased * self.stock_price))"
      ],
      "metadata": {
        "id": "ynLZrjhahTiP"
      },
      "execution_count": 9,
      "outputs": []
    },
    {
      "cell_type": "code",
      "source": [
        "tata_motors_object = StocksPurchased(\"TATA MOTORS\", \"BSE\", 442, 20)\n",
        "tata_motors_object.display_stock()\n",
        "tata_motors_object.display_sector()\n",
        "tata_motors_object.display_stock_price()\n",
        "tata_motors_object.display_qty_purchased()\n",
        "tata_motors_object._StocksPurchased__amount_invested()"
      ],
      "metadata": {
        "colab": {
          "base_uri": "https://localhost:8080/"
        },
        "id": "KFnQtv3BhW5W",
        "outputId": "6318a7f6-114f-474c-b5a5-1a4ff284e42a"
      },
      "execution_count": 11,
      "outputs": [
        {
          "output_type": "stream",
          "name": "stdout",
          "text": [
            "The selected stock is TATA MOTORS\n",
            "The selected stock trades at exchange BSE\n",
            "The selected stock sector is : AUTO\n",
            "The price of stock TATA MOTORS is 442\n",
            "The number of stocks purchased are : 20\n",
            "The amount invested : 8840\n"
          ]
        }
      ]
    },
    {
      "cell_type": "code",
      "source": [
        "tata_motors_object.set_stock_qty(50)\n",
        "tata_motors_object.display_qty_purchased()\n",
        "tata_motors_object._StocksPurchased__amount_invested()"
      ],
      "metadata": {
        "colab": {
          "base_uri": "https://localhost:8080/"
        },
        "id": "wEdsD1iqhZ0K",
        "outputId": "0926f45d-dce4-4e36-b4b3-618c8d3c3375"
      },
      "execution_count": 12,
      "outputs": [
        {
          "output_type": "stream",
          "name": "stdout",
          "text": [
            "The number of stocks purchased are : 50\n",
            "The amount invested : 22100\n"
          ]
        }
      ]
    }
  ]
}