{
  "nbformat": 4,
  "nbformat_minor": 0,
  "metadata": {
    "colab": {
      "name": "06_-4  Polymorphism OOPs.ipynb",
      "provenance": [],
      "authorship_tag": "ABX9TyML8OkzIftxhWCk+f/qj5xF",
      "include_colab_link": true
    },
    "kernelspec": {
      "name": "python3",
      "display_name": "Python 3"
    },
    "language_info": {
      "name": "python"
    }
  },
  "cells": [
    {
      "cell_type": "markdown",
      "metadata": {
        "id": "view-in-github",
        "colab_type": "text"
      },
      "source": [
        "<a href=\"https://colab.research.google.com/github/revendrat/AI-ML-Workshop-PIEMR-/blob/main/06__4_Polymorphism_OOPs.ipynb\" target=\"_parent\"><img src=\"https://colab.research.google.com/assets/colab-badge.svg\" alt=\"Open In Colab\"/></a>"
      ]
    },
    {
      "cell_type": "code",
      "execution_count": 2,
      "metadata": {
        "colab": {
          "base_uri": "https://localhost:8080/"
        },
        "id": "5hjxlXaShxDx",
        "outputId": "61f0d8b2-8463-425b-f833-1e7988f9c671"
      },
      "outputs": [
        {
          "output_type": "stream",
          "name": "stdout",
          "text": [
            "12\n",
            "PIEMR Indore\n"
          ]
        }
      ],
      "source": [
        "## Polymorphism\n",
        "a = 5\n",
        "b = 7\n",
        "print(a+b)\n",
        "\n",
        "a = \"PIEMR\"\n",
        "b = \" Indore\"\n",
        "print(a+b)"
      ]
    },
    {
      "cell_type": "code",
      "source": [
        "a = 5\n",
        "b = \"PIEMR\"\n",
        "str(a)+b"
      ],
      "metadata": {
        "colab": {
          "base_uri": "https://localhost:8080/",
          "height": 35
        },
        "id": "brPUpMEmh7Ge",
        "outputId": "99aed230-64fd-47a7-b45a-e3e6d88a6269"
      },
      "execution_count": 1,
      "outputs": [
        {
          "output_type": "execute_result",
          "data": {
            "text/plain": [
              "'5PIEMR'"
            ],
            "application/vnd.google.colaboratory.intrinsic+json": {
              "type": "string"
            }
          },
          "metadata": {},
          "execution_count": 1
        }
      ]
    },
    {
      "cell_type": "code",
      "source": [
        "# Polymorphism in user-defined methods\n",
        "# Reference\n",
        "from math import pi\n",
        "\n",
        "class Rectangle:\n",
        "   def __init__(self, length, breadth):\n",
        "      self.l = length\n",
        "      self.b = breadth\n",
        "   def perimeter(self):\n",
        "      return 2*(self.l + self.b)\n",
        "   def area(self):\n",
        "      return self.l * self.b\n",
        "\n",
        "class Circle:\n",
        "   def __init__(self, radius):\n",
        "      self.r = radius\n",
        "   def perimeter(self):\n",
        "      return 2 * pi * self.r\n",
        "   def area(self):\n",
        "      return pi * self.r ** 2\n",
        "\n",
        "class Square:\n",
        "   def __init__(self, side):\n",
        "      self.side = side\n",
        "   \n",
        "   def perimeter(self):\n",
        "      return self.side*4\n",
        "   \n",
        "   def area(self):\n",
        "      return self.side**2"
      ],
      "metadata": {
        "id": "D1pZ7T-fiDhx"
      },
      "execution_count": 3,
      "outputs": []
    },
    {
      "cell_type": "code",
      "source": [
        "# Initialize the classes\n",
        "rec = Rectangle(5,3)"
      ],
      "metadata": {
        "id": "oFzbhyU1iKti"
      },
      "execution_count": 4,
      "outputs": []
    },
    {
      "cell_type": "code",
      "source": [
        "rec.b\n",
        "rec.l\n",
        "rec.area()\n",
        "rec.perimeter()"
      ],
      "metadata": {
        "colab": {
          "base_uri": "https://localhost:8080/"
        },
        "id": "fDx_vRKoiNKT",
        "outputId": "2d9b7708-7f32-45c4-f888-f6efbbf782f8"
      },
      "execution_count": 5,
      "outputs": [
        {
          "output_type": "execute_result",
          "data": {
            "text/plain": [
              "16"
            ]
          },
          "metadata": {},
          "execution_count": 5
        }
      ]
    },
    {
      "cell_type": "code",
      "source": [
        "print(rec.b)\n",
        "print(rec.l)\n",
        "print(rec.area())\n",
        "print(rec.perimeter())"
      ],
      "metadata": {
        "colab": {
          "base_uri": "https://localhost:8080/"
        },
        "id": "IgFjIlsDiOxT",
        "outputId": "020bed41-6edb-46fc-8fce-ea5df012f66c"
      },
      "execution_count": 6,
      "outputs": [
        {
          "output_type": "stream",
          "name": "stdout",
          "text": [
            "3\n",
            "5\n",
            "15\n",
            "16\n"
          ]
        }
      ]
    },
    {
      "cell_type": "code",
      "source": [
        "print(\"Perimter of rectangle: \",rec.perimeter())\n",
        "print(\"Area of rectangle: \",rec.area())"
      ],
      "metadata": {
        "colab": {
          "base_uri": "https://localhost:8080/"
        },
        "id": "zxz9lk_2iQl5",
        "outputId": "d5fc9ef5-0155-45bb-bcff-4aa3f74476a4"
      },
      "execution_count": 7,
      "outputs": [
        {
          "output_type": "stream",
          "name": "stdout",
          "text": [
            "Perimter of rectangle:  16\n",
            "Area of rectangle:  15\n"
          ]
        }
      ]
    },
    {
      "cell_type": "code",
      "source": [
        "cr = Circle(4)\n",
        "print(\"Perimter of Circle: \",cr.perimeter())\n",
        "print(\"Area of Circle: \",cr.area())"
      ],
      "metadata": {
        "colab": {
          "base_uri": "https://localhost:8080/"
        },
        "id": "Rt6oSWqNiSpY",
        "outputId": "a9cb53ae-6569-40a8-aacf-86d893567fbc"
      },
      "execution_count": 8,
      "outputs": [
        {
          "output_type": "stream",
          "name": "stdout",
          "text": [
            "Perimter of Circle:  25.132741228718345\n",
            "Area of Circle:  50.26548245743669\n"
          ]
        }
      ]
    },
    {
      "cell_type": "code",
      "source": [
        "cr.r"
      ],
      "metadata": {
        "colab": {
          "base_uri": "https://localhost:8080/"
        },
        "id": "QFl9t6FciUaN",
        "outputId": "ca19eb2c-532e-421b-e0f6-cbe6d5d7318f"
      },
      "execution_count": 9,
      "outputs": [
        {
          "output_type": "execute_result",
          "data": {
            "text/plain": [
              "4"
            ]
          },
          "metadata": {},
          "execution_count": 9
        }
      ]
    },
    {
      "cell_type": "code",
      "source": [
        "cr.area()"
      ],
      "metadata": {
        "colab": {
          "base_uri": "https://localhost:8080/"
        },
        "id": "aKb_sEgbiV_P",
        "outputId": "c043dc75-178b-4a4b-b377-83241cd5b4af"
      },
      "execution_count": 10,
      "outputs": [
        {
          "output_type": "execute_result",
          "data": {
            "text/plain": [
              "50.26548245743669"
            ]
          },
          "metadata": {},
          "execution_count": 10
        }
      ]
    },
    {
      "cell_type": "code",
      "source": [
        "pi*4**2"
      ],
      "metadata": {
        "colab": {
          "base_uri": "https://localhost:8080/"
        },
        "id": "fzBqvsltiXaS",
        "outputId": "46ab0105-7c62-4231-9df4-72f8a3791cdd"
      },
      "execution_count": 11,
      "outputs": [
        {
          "output_type": "execute_result",
          "data": {
            "text/plain": [
              "50.26548245743669"
            ]
          },
          "metadata": {},
          "execution_count": 11
        }
      ]
    },
    {
      "cell_type": "code",
      "source": [
        "rec_s = Rectangle(5,5)\n",
        "sq_s = Square(5)\n",
        "\n",
        "print(rec_s.area())\n",
        "print(sq_s.area())\n",
        "\n",
        "print(rec_s.perimeter())\n",
        "print(sq_s.perimeter())"
      ],
      "metadata": {
        "colab": {
          "base_uri": "https://localhost:8080/"
        },
        "id": "CLj2xvMSiY4C",
        "outputId": "f6d66096-456d-48ac-fae6-a3a43317f4cf"
      },
      "execution_count": 12,
      "outputs": [
        {
          "output_type": "stream",
          "name": "stdout",
          "text": [
            "25\n",
            "25\n",
            "20\n",
            "20\n"
          ]
        }
      ]
    }
  ]
}