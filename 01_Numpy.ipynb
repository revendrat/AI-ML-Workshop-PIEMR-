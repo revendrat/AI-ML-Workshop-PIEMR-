{
  "nbformat": 4,
  "nbformat_minor": 0,
  "metadata": {
    "colab": {
      "name": "01 Numpy.ipynb",
      "provenance": [],
      "include_colab_link": true
    },
    "kernelspec": {
      "name": "python3",
      "display_name": "Python 3"
    },
    "language_info": {
      "name": "python"
    }
  },
  "cells": [
    {
      "cell_type": "markdown",
      "metadata": {
        "id": "view-in-github",
        "colab_type": "text"
      },
      "source": [
        "<a href=\"https://colab.research.google.com/github/revendrat/AI-ML-Workshop-PIEMR-/blob/main/01_Numpy.ipynb\" target=\"_parent\"><img src=\"https://colab.research.google.com/assets/colab-badge.svg\" alt=\"Open In Colab\"/></a>"
      ]
    },
    {
      "cell_type": "markdown",
      "source": [
        "# **NumPy Array**\n",
        "\n",
        "* NumPy is used to work with arrays. \n",
        "* The array object in ***NumPy*** is called ***ndarray***.\n",
        "\n",
        "***ndarray*** object can be created by using the ***array()*** function."
      ],
      "metadata": {
        "id": "ItfdY1LgBVr1"
      }
    },
    {
      "cell_type": "code",
      "execution_count": 1,
      "metadata": {
        "id": "kWdzxN0YBRko"
      },
      "outputs": [],
      "source": [
        "# import numpy library\n",
        "import numpy as np"
      ]
    },
    {
      "cell_type": "code",
      "source": [
        "# Use arange() to create random 15 value array (1-d).\n",
        "print(np.arange(15))\n",
        "\n",
        "# use reshape(m,n) to create mxn matrix\n",
        "print(np.arange(15).reshape(3,5))"
      ],
      "metadata": {
        "colab": {
          "base_uri": "https://localhost:8080/"
        },
        "id": "vcHFAiXqCIH9",
        "outputId": "a656dbaa-8452-4240-9132-30ef29fffe5f"
      },
      "execution_count": 2,
      "outputs": [
        {
          "output_type": "stream",
          "name": "stdout",
          "text": [
            "[ 0  1  2  3  4  5  6  7  8  9 10 11 12 13 14]\n",
            "[[ 0  1  2  3  4]\n",
            " [ 5  6  7  8  9]\n",
            " [10 11 12 13 14]]\n"
          ]
        }
      ]
    },
    {
      "cell_type": "code",
      "source": [
        "# Create a numpy array\n",
        "a = np.arange(15).reshape(3, 5)"
      ],
      "metadata": {
        "id": "hmPaIAlACIKy"
      },
      "execution_count": 3,
      "outputs": []
    },
    {
      "cell_type": "code",
      "source": [
        "# Check attributes\n",
        "# a.ndim \n",
        "# a.shape\n",
        "# a.size\n",
        "# a.dtype\n",
        "# a.itemsize\n",
        "# a.data\n",
        "\n",
        "print(\"a.ndim: \", a.ndim)\n",
        "print(\"a.shape: \", a.shape)\n",
        "print(\"a.size: \", a.size)\n",
        "print(\"a.dtype: \", a.dtype)\n",
        "print(\"a.itemsize: \", a.itemsize)\n",
        "print(\"a.data: \", a.data)"
      ],
      "metadata": {
        "colab": {
          "base_uri": "https://localhost:8080/"
        },
        "id": "Bj3Yp4vPCIOR",
        "outputId": "b0989b52-36b0-4c52-faff-8b063749f18a"
      },
      "execution_count": 4,
      "outputs": [
        {
          "output_type": "stream",
          "name": "stdout",
          "text": [
            "a.ndim:  2\n",
            "a.shape:  (3, 5)\n",
            "a.size:  15\n",
            "a.dtype:  int64\n",
            "a.itemsize:  8\n",
            "a.data:  <memory at 0x7f9f5d2679f0>\n"
          ]
        }
      ]
    },
    {
      "cell_type": "code",
      "source": [
        "# Create a ndarray similar to \"a\" using array() function\n",
        "b = np.array([np.arange(0,5), 5+ np.arange(0,5), 10+ np.arange(0,5) ])\n",
        "b"
      ],
      "metadata": {
        "colab": {
          "base_uri": "https://localhost:8080/"
        },
        "id": "CQlxboLFCOXG",
        "outputId": "6793b9a3-b056-47c9-c5a1-adecb64a3b2e"
      },
      "execution_count": 5,
      "outputs": [
        {
          "output_type": "execute_result",
          "data": {
            "text/plain": [
              "array([[ 0,  1,  2,  3,  4],\n",
              "       [ 5,  6,  7,  8,  9],\n",
              "       [10, 11, 12, 13, 14]])"
            ]
          },
          "metadata": {},
          "execution_count": 5
        }
      ]
    },
    {
      "cell_type": "code",
      "source": [
        "print(\"b.ndim: \", b.ndim)\n",
        "print(\"b.shape: \", b.shape)\n",
        "print(\"b.size: \", b.size)\n",
        "print(\"b.dtype: \", b.dtype)\n",
        "print(\"b.itemsize: \", b.itemsize)\n",
        "print(\"b.data: \", b.data)"
      ],
      "metadata": {
        "colab": {
          "base_uri": "https://localhost:8080/"
        },
        "id": "8YmvesETCQcm",
        "outputId": "f4d21162-3111-4bd6-cede-f63fbb4ed955"
      },
      "execution_count": 6,
      "outputs": [
        {
          "output_type": "stream",
          "name": "stdout",
          "text": [
            "b.ndim:  2\n",
            "b.shape:  (3, 5)\n",
            "b.size:  15\n",
            "b.dtype:  int64\n",
            "b.itemsize:  8\n",
            "b.data:  <memory at 0x7f9f5d267d70>\n"
          ]
        }
      ]
    },
    {
      "cell_type": "code",
      "source": [
        "# Create a complex numbers ndarray\n",
        "c = np.array([[1, 2], [3, 4]], dtype=complex)\n",
        "c"
      ],
      "metadata": {
        "colab": {
          "base_uri": "https://localhost:8080/"
        },
        "id": "HZz-4iOvCQjb",
        "outputId": "8cda86cf-0cd1-4309-b211-1be03b124d8f"
      },
      "execution_count": 7,
      "outputs": [
        {
          "output_type": "execute_result",
          "data": {
            "text/plain": [
              "array([[1.+0.j, 2.+0.j],\n",
              "       [3.+0.j, 4.+0.j]])"
            ]
          },
          "metadata": {},
          "execution_count": 7
        }
      ]
    },
    {
      "cell_type": "code",
      "source": [
        "print(\"c.ndim: \", c.ndim)\n",
        "print(\"c.shape: \", c.shape)\n",
        "print(\"c.size: \", c.size)\n",
        "print(\"c.dtype: \", c.dtype)\n",
        "print(\"c.itemsize: \", c.itemsize)\n",
        "print(\"c.data: \", c.data)"
      ],
      "metadata": {
        "colab": {
          "base_uri": "https://localhost:8080/"
        },
        "id": "LVyy7GokCUqR",
        "outputId": "36f8ec78-b80a-48cd-f6f7-94c20dfa0902"
      },
      "execution_count": 8,
      "outputs": [
        {
          "output_type": "stream",
          "name": "stdout",
          "text": [
            "c.ndim:  2\n",
            "c.shape:  (2, 2)\n",
            "c.size:  4\n",
            "c.dtype:  complex128\n",
            "c.itemsize:  16\n",
            "c.data:  <memory at 0x7f9f5d218050>\n"
          ]
        }
      ]
    },
    {
      "cell_type": "code",
      "source": [
        "# Create a matrix of zeros using zeros()\n",
        "np.zeros((4,4))"
      ],
      "metadata": {
        "colab": {
          "base_uri": "https://localhost:8080/"
        },
        "id": "kaQPkbJjCUtQ",
        "outputId": "0c1df93f-ea50-44b9-bf7f-f2bc8e2dcb94"
      },
      "execution_count": 9,
      "outputs": [
        {
          "output_type": "execute_result",
          "data": {
            "text/plain": [
              "array([[0., 0., 0., 0.],\n",
              "       [0., 0., 0., 0.],\n",
              "       [0., 0., 0., 0.],\n",
              "       [0., 0., 0., 0.]])"
            ]
          },
          "metadata": {},
          "execution_count": 9
        }
      ]
    },
    {
      "cell_type": "code",
      "source": [
        "# Create an identity matrix using ones()\n",
        "# make sure to use data type (dtype = int16)\n",
        "np.ones((4,4), dtype = np.int16)"
      ],
      "metadata": {
        "colab": {
          "base_uri": "https://localhost:8080/"
        },
        "id": "9fzyGYYtCUwc",
        "outputId": "8325dffe-2278-4080-b635-544ffbe17f04"
      },
      "execution_count": 10,
      "outputs": [
        {
          "output_type": "execute_result",
          "data": {
            "text/plain": [
              "array([[1, 1, 1, 1],\n",
              "       [1, 1, 1, 1],\n",
              "       [1, 1, 1, 1],\n",
              "       [1, 1, 1, 1]], dtype=int16)"
            ]
          },
          "metadata": {},
          "execution_count": 10
        }
      ]
    },
    {
      "cell_type": "code",
      "source": [
        "# Create an empty matrix using empty()\n",
        "# creates a matrix of infinitesimal small values\n",
        "np.empty((4,4))"
      ],
      "metadata": {
        "colab": {
          "base_uri": "https://localhost:8080/"
        },
        "id": "bTV77P27CcQp",
        "outputId": "13d5b805-4d64-4781-9bf4-f2d9396fb0de"
      },
      "execution_count": 11,
      "outputs": [
        {
          "output_type": "execute_result",
          "data": {
            "text/plain": [
              "array([[0., 0., 0., 0.],\n",
              "       [0., 0., 0., 0.],\n",
              "       [0., 0., 0., 0.],\n",
              "       [0., 0., 0., 0.]])"
            ]
          },
          "metadata": {},
          "execution_count": 11
        }
      ]
    },
    {
      "cell_type": "code",
      "source": [
        "# Use linspace() to create values between two numbers\n",
        "# create 10 values between 0 and 1\n",
        "print(np.linspace(0,1,10))\n",
        "\n",
        "# create 9 values between 0 and 10\n",
        "print(np.linspace(0,10,9))"
      ],
      "metadata": {
        "colab": {
          "base_uri": "https://localhost:8080/"
        },
        "id": "25x2HTgUCcTq",
        "outputId": "45f632aa-0e3e-4b94-eb5e-a9e326838dff"
      },
      "execution_count": 12,
      "outputs": [
        {
          "output_type": "stream",
          "name": "stdout",
          "text": [
            "[0.         0.11111111 0.22222222 0.33333333 0.44444444 0.55555556\n",
            " 0.66666667 0.77777778 0.88888889 1.        ]\n",
            "[ 0.    1.25  2.5   3.75  5.    6.25  7.5   8.75 10.  ]\n"
          ]
        }
      ]
    },
    {
      "cell_type": "code",
      "source": [
        "# Create multi-dimensional arrays\n",
        "print(\"1-d array\")\n",
        "print(np.arange(6)) # 1-d array\n",
        "print(\"2-d array\")\n",
        "print(np.arange(12).reshape(4, 3) ) #2-d array\n",
        "print(\"3-d array\")\n",
        "print(np.arange(24).reshape(2, 3, 4)) #3-d array\n",
        "print(\"4-d array\")\n",
        "print(np.arange(24).reshape(2, 3, 2, 2)) #4-d array"
      ],
      "metadata": {
        "colab": {
          "base_uri": "https://localhost:8080/"
        },
        "id": "zv1RbHOyCcWy",
        "outputId": "b6c36e31-8e9b-4267-ac5a-478540c622a9"
      },
      "execution_count": 13,
      "outputs": [
        {
          "output_type": "stream",
          "name": "stdout",
          "text": [
            "1-d array\n",
            "[0 1 2 3 4 5]\n",
            "2-d array\n",
            "[[ 0  1  2]\n",
            " [ 3  4  5]\n",
            " [ 6  7  8]\n",
            " [ 9 10 11]]\n",
            "3-d array\n",
            "[[[ 0  1  2  3]\n",
            "  [ 4  5  6  7]\n",
            "  [ 8  9 10 11]]\n",
            "\n",
            " [[12 13 14 15]\n",
            "  [16 17 18 19]\n",
            "  [20 21 22 23]]]\n",
            "4-d array\n",
            "[[[[ 0  1]\n",
            "   [ 2  3]]\n",
            "\n",
            "  [[ 4  5]\n",
            "   [ 6  7]]\n",
            "\n",
            "  [[ 8  9]\n",
            "   [10 11]]]\n",
            "\n",
            "\n",
            " [[[12 13]\n",
            "   [14 15]]\n",
            "\n",
            "  [[16 17]\n",
            "   [18 19]]\n",
            "\n",
            "  [[20 21]\n",
            "   [22 23]]]]\n"
          ]
        }
      ]
    },
    {
      "cell_type": "markdown",
      "source": [
        "# **Basic Operations**\n",
        "\n",
        "* Arithmetic operators on arrays apply elementwise.\n",
        "* A new array is created and filled with the result."
      ],
      "metadata": {
        "id": "ZsQkd_nZC5lS"
      }
    },
    {
      "cell_type": "code",
      "source": [
        "import numpy as np"
      ],
      "metadata": {
        "id": "LbvozF5MCcZj"
      },
      "execution_count": 14,
      "outputs": []
    },
    {
      "cell_type": "code",
      "source": [
        "# create a 1-d ndarray named \"a\"\n",
        "a = np.array([20, 30, 40, 50])\n",
        "\n",
        "# create a 1-d ndarray named \"b\"\n",
        "b = np.arange(4)\n",
        "\n",
        "print(\"a :\", a)\n",
        "print(\"b :\", b)"
      ],
      "metadata": {
        "colab": {
          "base_uri": "https://localhost:8080/"
        },
        "id": "kEvqi8N0DK8H",
        "outputId": "7c4a44e8-e3ea-46f6-f34d-39b31c58dcaf"
      },
      "execution_count": 15,
      "outputs": [
        {
          "output_type": "stream",
          "name": "stdout",
          "text": [
            "a : [20 30 40 50]\n",
            "b : [0 1 2 3]\n"
          ]
        }
      ]
    },
    {
      "cell_type": "code",
      "source": [
        "# addition operations\n",
        "print(\"a+b : \", a+b)\n",
        "print(\"a+b+b : \", a+b+b)"
      ],
      "metadata": {
        "colab": {
          "base_uri": "https://localhost:8080/"
        },
        "id": "DzwtRRO-DK_J",
        "outputId": "77f0d097-b6d2-414f-8d90-5583023d433a"
      },
      "execution_count": 16,
      "outputs": [
        {
          "output_type": "stream",
          "name": "stdout",
          "text": [
            "a+b :  [20 31 42 53]\n",
            "a+b+b :  [20 32 44 56]\n"
          ]
        }
      ]
    },
    {
      "cell_type": "code",
      "source": [
        "# subtraction operations\n",
        "c = a - b\n",
        "print(\"c: \", c)\n",
        "\n",
        "print(\"b-a: \", b-a)"
      ],
      "metadata": {
        "colab": {
          "base_uri": "https://localhost:8080/"
        },
        "id": "vRSkhTCUDLCU",
        "outputId": "bac08f5f-21ab-483a-81e7-78f9798c17fb"
      },
      "execution_count": 17,
      "outputs": [
        {
          "output_type": "stream",
          "name": "stdout",
          "text": [
            "c:  [20 29 38 47]\n",
            "b-a:  [-20 -29 -38 -47]\n"
          ]
        }
      ]
    },
    {
      "cell_type": "code",
      "source": [
        "# power operations\n",
        "b**2"
      ],
      "metadata": {
        "colab": {
          "base_uri": "https://localhost:8080/"
        },
        "id": "HJqE2HAfDLFo",
        "outputId": "d2a358f3-68cd-4e69-a7a7-a624cdab264e"
      },
      "execution_count": 18,
      "outputs": [
        {
          "output_type": "execute_result",
          "data": {
            "text/plain": [
              "array([0, 1, 4, 9])"
            ]
          },
          "metadata": {},
          "execution_count": 18
        }
      ]
    },
    {
      "cell_type": "code",
      "source": [
        "# multiplication operations\n",
        "10 * np.sin(a)"
      ],
      "metadata": {
        "colab": {
          "base_uri": "https://localhost:8080/"
        },
        "id": "-WyimFXKDLI0",
        "outputId": "c39e6f0a-bb74-4dd7-da83-c7b48e7e2ae6"
      },
      "execution_count": 19,
      "outputs": [
        {
          "output_type": "execute_result",
          "data": {
            "text/plain": [
              "array([ 9.12945251, -9.88031624,  7.4511316 , -2.62374854])"
            ]
          },
          "metadata": {},
          "execution_count": 19
        }
      ]
    },
    {
      "cell_type": "code",
      "source": [
        "# boolean operations\n",
        "a < 35"
      ],
      "metadata": {
        "colab": {
          "base_uri": "https://localhost:8080/"
        },
        "id": "-ed5r7BbDLMI",
        "outputId": "d83030f4-be32-46a7-8694-29b87c8cb545"
      },
      "execution_count": 20,
      "outputs": [
        {
          "output_type": "execute_result",
          "data": {
            "text/plain": [
              "array([ True,  True, False, False])"
            ]
          },
          "metadata": {},
          "execution_count": 20
        }
      ]
    },
    {
      "cell_type": "markdown",
      "source": [
        "# **Unary operations**\n",
        "* Numpy unary operations are performed as methods of Numpy Objects"
      ],
      "metadata": {
        "id": "grMPRUP7DXKR"
      }
    },
    {
      "cell_type": "code",
      "source": [
        "x = np.array((1,2,3,4,5), dtype = int)\n",
        "print(\"x : \", x)\n",
        "print(\"sum of x : \", x.sum())\n",
        "print(\"min of x : \", x.min() )\n",
        "print(\"max of x : \", x.max() )\n",
        "print(\"mean of x : \", x.mean() )\n",
        "#print(\"median of x : \", x.median() )\n",
        "#print(\"sd of x : \", x.sd() )"
      ],
      "metadata": {
        "colab": {
          "base_uri": "https://localhost:8080/"
        },
        "id": "dWabP2o8DW0y",
        "outputId": "44badf24-ff28-4c20-9c8b-c91a68ccb8f8"
      },
      "execution_count": 21,
      "outputs": [
        {
          "output_type": "stream",
          "name": "stdout",
          "text": [
            "x :  [1 2 3 4 5]\n",
            "sum of x :  15\n",
            "min of x :  1\n",
            "max of x :  5\n",
            "mean of x :  3.0\n"
          ]
        }
      ]
    },
    {
      "cell_type": "markdown",
      "source": [
        "# **Matrix Operations**\n",
        "* The product operator * operates elementwise in NumPy arrays.\n",
        "* The matrix product performed using the @ operator (in python >=3.5) or the dot function or method."
      ],
      "metadata": {
        "id": "keakig8GDkZj"
      }
    },
    {
      "cell_type": "code",
      "source": [
        "# Create two matrices A and B using Numpy array() function\n",
        "A = np.array([[1, 1],\n",
        "             [0, 1]])\n",
        "B = np.array([[2, 0],\n",
        "             [3, 4]])\n",
        "\n",
        "print(\"Matrix A: \\n\", A)\n",
        "print(\"Matrix B: \\n\", B)"
      ],
      "metadata": {
        "colab": {
          "base_uri": "https://localhost:8080/"
        },
        "id": "2ySSyxd3DLPC",
        "outputId": "85a22475-1020-4e73-a186-2733de3aa5b0"
      },
      "execution_count": 22,
      "outputs": [
        {
          "output_type": "stream",
          "name": "stdout",
          "text": [
            "Matrix A: \n",
            " [[1 1]\n",
            " [0 1]]\n",
            "Matrix B: \n",
            " [[2 0]\n",
            " [3 4]]\n"
          ]
        }
      ]
    },
    {
      "cell_type": "code",
      "source": [
        "# Element-wise product\n",
        "A * B   "
      ],
      "metadata": {
        "colab": {
          "base_uri": "https://localhost:8080/"
        },
        "id": "7SySUWaCDseN",
        "outputId": "0ccb952c-68f4-4ade-c82c-48c3aaa4ec09"
      },
      "execution_count": 23,
      "outputs": [
        {
          "output_type": "execute_result",
          "data": {
            "text/plain": [
              "array([[2, 0],\n",
              "       [0, 4]])"
            ]
          },
          "metadata": {},
          "execution_count": 23
        }
      ]
    },
    {
      "cell_type": "code",
      "source": [
        "# matrix product\n",
        "A @ B  "
      ],
      "metadata": {
        "colab": {
          "base_uri": "https://localhost:8080/"
        },
        "id": "UPBsbWg0DurU",
        "outputId": "1e7831c5-c071-427a-f702-e48858c946b4"
      },
      "execution_count": 24,
      "outputs": [
        {
          "output_type": "execute_result",
          "data": {
            "text/plain": [
              "array([[5, 4],\n",
              "       [3, 4]])"
            ]
          },
          "metadata": {},
          "execution_count": 24
        }
      ]
    },
    {
      "cell_type": "code",
      "source": [
        "# another way of achieveing matrix product\n",
        "A.dot(B)"
      ],
      "metadata": {
        "colab": {
          "base_uri": "https://localhost:8080/"
        },
        "id": "SxW1EYanDx5v",
        "outputId": "d8deba0e-315e-4095-96c1-a515d91dd669"
      },
      "execution_count": 25,
      "outputs": [
        {
          "output_type": "execute_result",
          "data": {
            "text/plain": [
              "array([[5, 4],\n",
              "       [3, 4]])"
            ]
          },
          "metadata": {},
          "execution_count": 25
        }
      ]
    },
    {
      "cell_type": "code",
      "source": [
        "# operators such as *= and += act as modifying existing arrays instead of creating new arrays\n",
        "\n",
        "print( \"A : \\n\", A)\n",
        "\n",
        "A *= 3\n",
        "\n",
        "print( \"A *= 3 : \\n \", A)"
      ],
      "metadata": {
        "colab": {
          "base_uri": "https://localhost:8080/"
        },
        "id": "GsLFRbARDyCC",
        "outputId": "45433e67-ab0f-471a-e529-63e658051684"
      },
      "execution_count": 26,
      "outputs": [
        {
          "output_type": "stream",
          "name": "stdout",
          "text": [
            "A : \n",
            " [[1 1]\n",
            " [0 1]]\n",
            "A *= 3 : \n",
            "  [[3 3]\n",
            " [0 3]]\n"
          ]
        }
      ]
    },
    {
      "cell_type": "code",
      "source": [
        "C = np.ones((2,2), dtype=int)\n",
        "print(\"C : \\n\", C)\n",
        "A += C\n",
        "print(\"A : \\n\", A)"
      ],
      "metadata": {
        "colab": {
          "base_uri": "https://localhost:8080/"
        },
        "id": "ANzCqz6LD1ts",
        "outputId": "a7b0f02e-6585-4e34-f52c-6fe20dc36036"
      },
      "execution_count": 27,
      "outputs": [
        {
          "output_type": "stream",
          "name": "stdout",
          "text": [
            "C : \n",
            " [[1 1]\n",
            " [1 1]]\n",
            "A : \n",
            " [[4 4]\n",
            " [1 4]]\n"
          ]
        }
      ]
    },
    {
      "cell_type": "markdown",
      "source": [
        "# **Universal functions**\n",
        "* np.add\n",
        "* np.exp\n",
        "* np.log\n",
        "* np.sqrt\n",
        "* np.square\n",
        "and many more"
      ],
      "metadata": {
        "id": "YjyL3g3PD6I3"
      }
    },
    {
      "cell_type": "code",
      "source": [
        "print(\"A : \\n\", A)\n",
        "print(\"B : \\n\", B)\n",
        "\n",
        "print(\"A+B : \\n\", np.add(A,B))"
      ],
      "metadata": {
        "colab": {
          "base_uri": "https://localhost:8080/"
        },
        "id": "FhWKzWpwD1zT",
        "outputId": "e5f0ece0-1900-4c64-f111-016fa74119b6"
      },
      "execution_count": 28,
      "outputs": [
        {
          "output_type": "stream",
          "name": "stdout",
          "text": [
            "A : \n",
            " [[4 4]\n",
            " [1 4]]\n",
            "B : \n",
            " [[2 0]\n",
            " [3 4]]\n",
            "A+B : \n",
            " [[6 4]\n",
            " [4 8]]\n"
          ]
        }
      ]
    },
    {
      "cell_type": "code",
      "source": [
        "print(\"A : \\n\", A)\n",
        "print(\"exponential of A : \\n\", np.exp(A))\n",
        "\n",
        "print(\"Log of A : \\n\", np.log(A))"
      ],
      "metadata": {
        "colab": {
          "base_uri": "https://localhost:8080/"
        },
        "id": "jAo21FcWEEfH",
        "outputId": "9ecccce2-bf71-4f57-e48e-a39e2140c09d"
      },
      "execution_count": 29,
      "outputs": [
        {
          "output_type": "stream",
          "name": "stdout",
          "text": [
            "A : \n",
            " [[4 4]\n",
            " [1 4]]\n",
            "exponential of A : \n",
            " [[54.59815003 54.59815003]\n",
            " [ 2.71828183 54.59815003]]\n",
            "Log of A : \n",
            " [[1.38629436 1.38629436]\n",
            " [0.         1.38629436]]\n"
          ]
        }
      ]
    },
    {
      "cell_type": "code",
      "source": [
        "print(\"A : \\n\", A)\n",
        "print(\"Square of A : \\n\", np.square(A))\n",
        "\n",
        "print(\"Square root of A : \\n\", np.sqrt(A))"
      ],
      "metadata": {
        "colab": {
          "base_uri": "https://localhost:8080/"
        },
        "id": "XUUxA0y8EEiy",
        "outputId": "ec785b10-9836-471f-e53e-0e8344c00d37"
      },
      "execution_count": 30,
      "outputs": [
        {
          "output_type": "stream",
          "name": "stdout",
          "text": [
            "A : \n",
            " [[4 4]\n",
            " [1 4]]\n",
            "Square of A : \n",
            " [[16 16]\n",
            " [ 1 16]]\n",
            "Square root of A : \n",
            " [[2. 2.]\n",
            " [1. 2.]]\n"
          ]
        }
      ]
    },
    {
      "cell_type": "markdown",
      "source": [
        "# **Indexing, Slicing and Iterating**\n",
        "* One-dimensional arrays can be indexed, sliced and iterated over, much like lists and other Python sequences.\n",
        "* Multi-dimensional arrays"
      ],
      "metadata": {
        "id": "dJgF3QrTEKeo"
      }
    },
    {
      "cell_type": "code",
      "source": [
        "a = np.arange(10)**3\n",
        "a"
      ],
      "metadata": {
        "colab": {
          "base_uri": "https://localhost:8080/"
        },
        "id": "F0-zHiAiEEmE",
        "outputId": "783c36a4-8043-4302-ae55-abf2b6166caa"
      },
      "execution_count": 31,
      "outputs": [
        {
          "output_type": "execute_result",
          "data": {
            "text/plain": [
              "array([  0,   1,   8,  27,  64, 125, 216, 343, 512, 729])"
            ]
          },
          "metadata": {},
          "execution_count": 31
        }
      ]
    },
    {
      "cell_type": "code",
      "source": [
        "# extract the fourth element\n",
        "a[3]"
      ],
      "metadata": {
        "colab": {
          "base_uri": "https://localhost:8080/"
        },
        "id": "bq0VZR-WEQDD",
        "outputId": "2d4ecff3-2940-432e-a46f-ed9734e4a45a"
      },
      "execution_count": 32,
      "outputs": [
        {
          "output_type": "execute_result",
          "data": {
            "text/plain": [
              "27"
            ]
          },
          "metadata": {},
          "execution_count": 32
        }
      ]
    },
    {
      "cell_type": "code",
      "source": [
        "# extract all elements\n",
        "a[:]"
      ],
      "metadata": {
        "colab": {
          "base_uri": "https://localhost:8080/"
        },
        "id": "ZaiYtCh8EQKv",
        "outputId": "15122435-46de-4b03-9593-1ef7f3979ec3"
      },
      "execution_count": 33,
      "outputs": [
        {
          "output_type": "execute_result",
          "data": {
            "text/plain": [
              "array([  0,   1,   8,  27,  64, 125, 216, 343, 512, 729])"
            ]
          },
          "metadata": {},
          "execution_count": 33
        }
      ]
    },
    {
      "cell_type": "code",
      "source": [
        "# extract all elements from 5th to 8th positions\n",
        "a[4:8]"
      ],
      "metadata": {
        "colab": {
          "base_uri": "https://localhost:8080/"
        },
        "id": "Xinz-X5mEQRk",
        "outputId": "84800cda-32c0-4279-c8ad-e1bb09424507"
      },
      "execution_count": 34,
      "outputs": [
        {
          "output_type": "execute_result",
          "data": {
            "text/plain": [
              "array([ 64, 125, 216, 343])"
            ]
          },
          "metadata": {},
          "execution_count": 34
        }
      ]
    },
    {
      "cell_type": "code",
      "source": [
        "# from 5th element to last element in array\n",
        "a[4:]"
      ],
      "metadata": {
        "colab": {
          "base_uri": "https://localhost:8080/"
        },
        "id": "tXtj1KYQEUzm",
        "outputId": "bff44175-d671-4bf7-e9d4-bdaf26760e1b"
      },
      "execution_count": 35,
      "outputs": [
        {
          "output_type": "execute_result",
          "data": {
            "text/plain": [
              "array([ 64, 125, 216, 343, 512, 729])"
            ]
          },
          "metadata": {},
          "execution_count": 35
        }
      ]
    },
    {
      "cell_type": "code",
      "source": [
        "# from the first element in an array upto 8th element (including 8th element)\n",
        "a[:8]"
      ],
      "metadata": {
        "colab": {
          "base_uri": "https://localhost:8080/"
        },
        "id": "OODq1IZDEU6W",
        "outputId": "df071f4c-b191-46c3-e74f-fff6dc1097e3"
      },
      "execution_count": 36,
      "outputs": [
        {
          "output_type": "execute_result",
          "data": {
            "text/plain": [
              "array([  0,   1,   8,  27,  64, 125, 216, 343])"
            ]
          },
          "metadata": {},
          "execution_count": 36
        }
      ]
    },
    {
      "cell_type": "markdown",
      "source": [
        "# **Multidimensional array**\n",
        "* Indexing, Slicing and Iterating"
      ],
      "metadata": {
        "id": "Hc35brG8EYmJ"
      }
    },
    {
      "cell_type": "code",
      "source": [
        "# a 3D array (two stacked 2D arrays)\n",
        "c = np.array([[[  0,  1,  2],  \n",
        "               [ 10, 12, 13]],\n",
        "              [[100, 101, 102],\n",
        "               [110, 112, 113]]])\n",
        "c"
      ],
      "metadata": {
        "colab": {
          "base_uri": "https://localhost:8080/"
        },
        "id": "Gw6HuwdCEfKi",
        "outputId": "7c92d36d-8738-453d-decf-7794bf004ef6"
      },
      "execution_count": 37,
      "outputs": [
        {
          "output_type": "execute_result",
          "data": {
            "text/plain": [
              "array([[[  0,   1,   2],\n",
              "        [ 10,  12,  13]],\n",
              "\n",
              "       [[100, 101, 102],\n",
              "        [110, 112, 113]]])"
            ]
          },
          "metadata": {},
          "execution_count": 37
        }
      ]
    },
    {
      "cell_type": "code",
      "source": [
        "# Check the dimenstions of c ndarray\n",
        "c.shape"
      ],
      "metadata": {
        "colab": {
          "base_uri": "https://localhost:8080/"
        },
        "id": "Qej2ENweEf6r",
        "outputId": "f22d41af-3403-4560-beb7-25439d6f3df2"
      },
      "execution_count": 38,
      "outputs": [
        {
          "output_type": "execute_result",
          "data": {
            "text/plain": [
              "(2, 2, 3)"
            ]
          },
          "metadata": {},
          "execution_count": 38
        }
      ]
    },
    {
      "cell_type": "code",
      "source": [
        "# extract all elements\n",
        "c[::]"
      ],
      "metadata": {
        "colab": {
          "base_uri": "https://localhost:8080/"
        },
        "id": "64eCFNC7Ehpg",
        "outputId": "5585f988-488b-41c3-904d-d51dad77830a"
      },
      "execution_count": 39,
      "outputs": [
        {
          "output_type": "execute_result",
          "data": {
            "text/plain": [
              "array([[[  0,   1,   2],\n",
              "        [ 10,  12,  13]],\n",
              "\n",
              "       [[100, 101, 102],\n",
              "        [110, 112, 113]]])"
            ]
          },
          "metadata": {},
          "execution_count": 39
        }
      ]
    },
    {
      "cell_type": "code",
      "source": [
        "# extract all elements\n",
        "c[0:,:]"
      ],
      "metadata": {
        "colab": {
          "base_uri": "https://localhost:8080/"
        },
        "id": "DzNtWS3aEjPh",
        "outputId": "05fb1554-db3d-468c-fe7d-3d18d9a339f8"
      },
      "execution_count": 40,
      "outputs": [
        {
          "output_type": "execute_result",
          "data": {
            "text/plain": [
              "array([[[  0,   1,   2],\n",
              "        [ 10,  12,  13]],\n",
              "\n",
              "       [[100, 101, 102],\n",
              "        [110, 112, 113]]])"
            ]
          },
          "metadata": {},
          "execution_count": 40
        }
      ]
    },
    {
      "cell_type": "code",
      "source": [
        "# extract first elements (2x3 matrix) on first axis\n",
        "c[0:1,:]"
      ],
      "metadata": {
        "colab": {
          "base_uri": "https://localhost:8080/"
        },
        "id": "z-uuk6s7EjWv",
        "outputId": "30ff285e-4292-4b5c-caea-03787f7a4606"
      },
      "execution_count": 41,
      "outputs": [
        {
          "output_type": "execute_result",
          "data": {
            "text/plain": [
              "array([[[ 0,  1,  2],\n",
              "        [10, 12, 13]]])"
            ]
          },
          "metadata": {},
          "execution_count": 41
        }
      ]
    },
    {
      "cell_type": "code",
      "source": [
        "# extract second elements (2x3 matrix) on first axis\n",
        "c[1:,:]"
      ],
      "metadata": {
        "colab": {
          "base_uri": "https://localhost:8080/"
        },
        "id": "Dz58kI8yEmrK",
        "outputId": "0035027e-0cc9-490b-e117-91bca69847e1"
      },
      "execution_count": 42,
      "outputs": [
        {
          "output_type": "execute_result",
          "data": {
            "text/plain": [
              "array([[[100, 101, 102],\n",
              "        [110, 112, 113]]])"
            ]
          },
          "metadata": {},
          "execution_count": 42
        }
      ]
    },
    {
      "cell_type": "code",
      "source": [
        "# In both the matrices, fetch 2nd row 3rd & 2nd elements\n",
        "c[:,1,[2,1]]"
      ],
      "metadata": {
        "colab": {
          "base_uri": "https://localhost:8080/"
        },
        "id": "COeTEtekEmxS",
        "outputId": "8c9706ee-274c-4b33-fca6-912ab676e6a4"
      },
      "execution_count": 43,
      "outputs": [
        {
          "output_type": "execute_result",
          "data": {
            "text/plain": [
              "array([[ 13,  12],\n",
              "       [113, 112]])"
            ]
          },
          "metadata": {},
          "execution_count": 43
        }
      ]
    },
    {
      "cell_type": "code",
      "source": [
        "# In the 2nd matrix, fetch 2nd row 3rd & 2nd elements\n",
        "c[1:,1,[2,1]]"
      ],
      "metadata": {
        "colab": {
          "base_uri": "https://localhost:8080/"
        },
        "id": "0_DrERI9Em41",
        "outputId": "07622ba3-fef5-4414-bffe-e4b877db79ae"
      },
      "execution_count": 44,
      "outputs": [
        {
          "output_type": "execute_result",
          "data": {
            "text/plain": [
              "array([[113, 112]])"
            ]
          },
          "metadata": {},
          "execution_count": 44
        }
      ]
    },
    {
      "cell_type": "markdown",
      "source": [
        "# **Create field names for numpy array, and index by field names**"
      ],
      "metadata": {
        "id": "s6vdv2mFEsHW"
      }
    },
    {
      "cell_type": "code",
      "source": [
        "# Create field names n numpy array \n",
        "x = np.array([(1,2)], dtype=[('value','f4'), ('amount','c8')])"
      ],
      "metadata": {
        "id": "WRDh8Q7yEyKf"
      },
      "execution_count": 45,
      "outputs": []
    },
    {
      "cell_type": "code",
      "source": [
        "# Access the elements by field names in numpy array\n",
        "print(x['amount'])\n",
        "print(x['value'])"
      ],
      "metadata": {
        "colab": {
          "base_uri": "https://localhost:8080/"
        },
        "id": "oCzJPZHGE0Fz",
        "outputId": "13d38ded-2e7b-468b-ee86-62860f1b6138"
      },
      "execution_count": 46,
      "outputs": [
        {
          "output_type": "stream",
          "name": "stdout",
          "text": [
            "[2.+0.j]\n",
            "[1.]\n"
          ]
        }
      ]
    },
    {
      "cell_type": "markdown",
      "source": [
        "# **Stacking numpy arrays**\n",
        "* hstack for horizontal stacking\n",
        "* vstack for vertical stacking\n",
        "* c_ for column-wise stacking\n",
        "* r_ for row-wise stacking"
      ],
      "metadata": {
        "id": "UqccD5j4E3xI"
      }
    },
    {
      "cell_type": "code",
      "source": [
        "# Create numpy arrays\n",
        "x = np.arange(7)\n",
        "y = np.square(x)\n",
        "print(\"x : \", x)\n",
        "print(\"y : \", y)"
      ],
      "metadata": {
        "colab": {
          "base_uri": "https://localhost:8080/"
        },
        "id": "NfFyzbXuE1ty",
        "outputId": "b58f82b2-e1e0-45df-dfd2-4a64da743a64"
      },
      "execution_count": 47,
      "outputs": [
        {
          "output_type": "stream",
          "name": "stdout",
          "text": [
            "x :  [0 1 2 3 4 5 6]\n",
            "y :  [ 0  1  4  9 16 25 36]\n"
          ]
        }
      ]
    },
    {
      "cell_type": "code",
      "source": [
        "# hstack Horizontal stacking\n",
        "np.hstack([x,y])"
      ],
      "metadata": {
        "colab": {
          "base_uri": "https://localhost:8080/"
        },
        "id": "CowIwHzvE-XV",
        "outputId": "37487768-6f4d-4d36-f598-96bc5ffd73c1"
      },
      "execution_count": 48,
      "outputs": [
        {
          "output_type": "execute_result",
          "data": {
            "text/plain": [
              "array([ 0,  1,  2,  3,  4,  5,  6,  0,  1,  4,  9, 16, 25, 36])"
            ]
          },
          "metadata": {},
          "execution_count": 48
        }
      ]
    },
    {
      "cell_type": "code",
      "source": [
        "# vstack Vertical stacking\n",
        "np.vstack([x,y])"
      ],
      "metadata": {
        "colab": {
          "base_uri": "https://localhost:8080/"
        },
        "id": "obnEye4tE-ce",
        "outputId": "920d6683-2034-4d4e-cfae-561fc2699ce3"
      },
      "execution_count": 49,
      "outputs": [
        {
          "output_type": "execute_result",
          "data": {
            "text/plain": [
              "array([[ 0,  1,  2,  3,  4,  5,  6],\n",
              "       [ 0,  1,  4,  9, 16, 25, 36]])"
            ]
          },
          "metadata": {},
          "execution_count": 49
        }
      ]
    },
    {
      "cell_type": "code",
      "source": [
        "# c_ Column-wise stacking\n",
        "np.c_[x,y]"
      ],
      "metadata": {
        "colab": {
          "base_uri": "https://localhost:8080/"
        },
        "id": "tRg49bfrE-hj",
        "outputId": "343eeb1f-3c2f-4c45-b965-4636840cc47f"
      },
      "execution_count": 50,
      "outputs": [
        {
          "output_type": "execute_result",
          "data": {
            "text/plain": [
              "array([[ 0,  0],\n",
              "       [ 1,  1],\n",
              "       [ 2,  4],\n",
              "       [ 3,  9],\n",
              "       [ 4, 16],\n",
              "       [ 5, 25],\n",
              "       [ 6, 36]])"
            ]
          },
          "metadata": {},
          "execution_count": 50
        }
      ]
    },
    {
      "cell_type": "code",
      "source": [
        "# r_ Row-wise stacking\n",
        "np.r_[x,y]"
      ],
      "metadata": {
        "colab": {
          "base_uri": "https://localhost:8080/"
        },
        "id": "iivqpX9yFEQ6",
        "outputId": "052f9624-e8c3-4b25-a64a-ad9703662c33"
      },
      "execution_count": 51,
      "outputs": [
        {
          "output_type": "execute_result",
          "data": {
            "text/plain": [
              "array([ 0,  1,  2,  3,  4,  5,  6,  0,  1,  4,  9, 16, 25, 36])"
            ]
          },
          "metadata": {},
          "execution_count": 51
        }
      ]
    },
    {
      "cell_type": "markdown",
      "source": [
        "# **Duplicate numpy arrays**\n",
        "* Use repeat and tile methods\n",
        "* repeat for duplicating elements in numpy array\n",
        "* tile for a layout that creates a matrix of required shape"
      ],
      "metadata": {
        "id": "YoGHT9atFInP"
      }
    },
    {
      "cell_type": "code",
      "source": [
        "# use repeat to duplicate numpy array values\n",
        "print(\"x : \", x)\n",
        "print(\"duplicate x values two times : \", np.repeat(x,2))"
      ],
      "metadata": {
        "colab": {
          "base_uri": "https://localhost:8080/"
        },
        "id": "k2bs_LkhFEZc",
        "outputId": "73c13d27-7c43-4db1-b107-e079f1e92a3a"
      },
      "execution_count": 52,
      "outputs": [
        {
          "output_type": "stream",
          "name": "stdout",
          "text": [
            "x :  [0 1 2 3 4 5 6]\n",
            "duplicate x values two times :  [0 0 1 1 2 2 3 3 4 4 5 5 6 6]\n"
          ]
        }
      ]
    },
    {
      "cell_type": "code",
      "source": [
        "# use tile to duplicate numpy array in a matrix format\n",
        "print(\"x : \", x)\n",
        "print(\"create a duplication of x two times in two rows of matrix : \\n\", np.tile(x,(2,1)))"
      ],
      "metadata": {
        "colab": {
          "base_uri": "https://localhost:8080/"
        },
        "id": "zT-f7bqwFOKw",
        "outputId": "69b07bb6-46d1-44de-e0b3-7aeeac94e3f3"
      },
      "execution_count": 53,
      "outputs": [
        {
          "output_type": "stream",
          "name": "stdout",
          "text": [
            "x :  [0 1 2 3 4 5 6]\n",
            "create a duplication of x two times in two rows of matrix : \n",
            " [[0 1 2 3 4 5 6]\n",
            " [0 1 2 3 4 5 6]]\n"
          ]
        }
      ]
    },
    {
      "cell_type": "markdown",
      "source": [
        "# **Reshape numpy arrays using reshape method**"
      ],
      "metadata": {
        "id": "kCGldnsAFSn-"
      }
    },
    {
      "cell_type": "code",
      "source": [
        "x = np.arange(8)\n",
        "print(\"x : \", x)\n",
        "print(\"Reshape x array into 2x4 matrix  : \\n\", np.reshape(x,(2,4)))\n",
        "print(\"Reshape x array into 4x2 matrix : \\n\", x.reshape(4,2))"
      ],
      "metadata": {
        "colab": {
          "base_uri": "https://localhost:8080/"
        },
        "id": "41pGxh0eFOOC",
        "outputId": "a454b4d9-64ed-45ec-86f0-cbb440d7a6da"
      },
      "execution_count": 54,
      "outputs": [
        {
          "output_type": "stream",
          "name": "stdout",
          "text": [
            "x :  [0 1 2 3 4 5 6 7]\n",
            "Reshape x array into 2x4 matrix  : \n",
            " [[0 1 2 3]\n",
            " [4 5 6 7]]\n",
            "Reshape x array into 4x2 matrix : \n",
            " [[0 1]\n",
            " [2 3]\n",
            " [4 5]\n",
            " [6 7]]\n"
          ]
        }
      ]
    },
    {
      "cell_type": "code",
      "source": [
        "# reshape numpy arrays using Transpose using .T or .transpose()\n",
        "print(\"x : \", x.reshape(2,4))\n",
        "print(\"x.reshape(2,4) shape : \", x.reshape(2,4).shape)\n",
        "print(\"x.reshape(2,4) transpose using .T : \", x.reshape(2,4).T)\n",
        "print(\"x.reshape(2,4).T shape : \", x.reshape(2,4).T.shape)\n",
        "print(\"x.reshape(2,4) transpose using transpose() method : \", x.reshape(2,4).transpose())\n",
        "print(\"x.reshape(2,4).transpose(). shape : \", x.reshape(2,4).transpose().shape)"
      ],
      "metadata": {
        "colab": {
          "base_uri": "https://localhost:8080/"
        },
        "id": "nVd_QtlxFORW",
        "outputId": "eb4800b9-8c08-483b-d18e-57886b82dad3"
      },
      "execution_count": 55,
      "outputs": [
        {
          "output_type": "stream",
          "name": "stdout",
          "text": [
            "x :  [[0 1 2 3]\n",
            " [4 5 6 7]]\n",
            "x.reshape(2,4) shape :  (2, 4)\n",
            "x.reshape(2,4) transpose using .T :  [[0 4]\n",
            " [1 5]\n",
            " [2 6]\n",
            " [3 7]]\n",
            "x.reshape(2,4).T shape :  (4, 2)\n",
            "x.reshape(2,4) transpose using transpose() method :  [[0 4]\n",
            " [1 5]\n",
            " [2 6]\n",
            " [3 7]]\n",
            "x.reshape(2,4).transpose(). shape :  (4, 2)\n"
          ]
        }
      ]
    },
    {
      "cell_type": "markdown",
      "source": [
        "# **Logical operations**"
      ],
      "metadata": {
        "id": "OUeENC4vFb4Q"
      }
    },
    {
      "cell_type": "code",
      "source": [
        "print(\"x : \", x)\n",
        "print(\"values in x greater than 3 : \", x>3)\n",
        "print(\"values in x greater than 3 : \",np.where(x>3))"
      ],
      "metadata": {
        "colab": {
          "base_uri": "https://localhost:8080/"
        },
        "id": "wqyPMD5kFY0a",
        "outputId": "94ca10d0-1165-4784-e99d-285dd4904bfe"
      },
      "execution_count": 56,
      "outputs": [
        {
          "output_type": "stream",
          "name": "stdout",
          "text": [
            "x :  [0 1 2 3 4 5 6 7]\n",
            "values in x greater than 3 :  [False False False False  True  True  True  True]\n",
            "values in x greater than 3 :  (array([4, 5, 6, 7]),)\n"
          ]
        }
      ]
    }
  ]
}