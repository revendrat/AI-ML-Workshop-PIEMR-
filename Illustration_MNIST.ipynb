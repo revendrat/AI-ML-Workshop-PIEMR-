{
  "nbformat": 4,
  "nbformat_minor": 0,
  "metadata": {
    "colab": {
      "name": "Illustration MNIST.ipynb",
      "provenance": [],
      "collapsed_sections": [],
      "authorship_tag": "ABX9TyPTnNyVaD5g5VSJZJWZYr5J",
      "include_colab_link": true
    },
    "kernelspec": {
      "name": "python3",
      "display_name": "Python 3"
    },
    "language_info": {
      "name": "python"
    }
  },
  "cells": [
    {
      "cell_type": "markdown",
      "metadata": {
        "id": "view-in-github",
        "colab_type": "text"
      },
      "source": [
        "<a href=\"https://colab.research.google.com/github/revendrat/AI-ML-Workshop-PIEMR-/blob/main/Illustration_MNIST.ipynb\" target=\"_parent\"><img src=\"https://colab.research.google.com/assets/colab-badge.svg\" alt=\"Open In Colab\"/></a>"
      ]
    },
    {
      "cell_type": "markdown",
      "source": [
        "## Import packages and set the default values for random values generation, epochs and batch size"
      ],
      "metadata": {
        "id": "ndfVNwF7RyQK"
      }
    },
    {
      "cell_type": "code",
      "execution_count": null,
      "metadata": {
        "id": "gcANq_uZRkd3"
      },
      "outputs": [],
      "source": [
        "import tensorflow as tf\n",
        "from tensorflow import keras\n",
        "from tensorflow.keras.utils import to_categorical\n",
        "import numpy as np\n",
        "import logging\n",
        "\n",
        "tf.get_logger().setLevel(logging.ERROR)\n",
        "tf.random.set_seed(7)\n",
        "EPOCHS = 20\n",
        "BATCH_SIZE = 1"
      ]
    },
    {
      "cell_type": "markdown",
      "source": [
        "## Load and Prepare the Training and Test Datasets"
      ],
      "metadata": {
        "id": "PzIh4UbyR6bv"
      }
    },
    {
      "cell_type": "code",
      "source": [
        "# Load training and test datasets.\n",
        "mnist = keras.datasets.mnist\n",
        "(train_images, train_labels), (test_images,\n",
        "                               test_labels) = mnist.load_data()"
      ],
      "metadata": {
        "colab": {
          "base_uri": "https://localhost:8080/"
        },
        "id": "otBBFPUoRvyY",
        "outputId": "b79824de-0e4c-46c2-89e6-eeeee1b3868e"
      },
      "execution_count": null,
      "outputs": [
        {
          "output_type": "stream",
          "name": "stdout",
          "text": [
            "Downloading data from https://storage.googleapis.com/tensorflow/tf-keras-datasets/mnist.npz\n",
            "11493376/11490434 [==============================] - 0s 0us/step\n",
            "11501568/11490434 [==============================] - 0s 0us/step\n"
          ]
        }
      ]
    },
    {
      "cell_type": "code",
      "source": [
        "# Standardize the data.\n",
        "mean = np.mean(train_images)\n",
        "stddev = np.std(train_images)\n",
        "train_images = (train_images - mean) / stddev\n",
        "test_images = (test_images - mean) / stddev"
      ],
      "metadata": {
        "id": "bQizTtwJR_oT"
      },
      "execution_count": null,
      "outputs": []
    },
    {
      "cell_type": "code",
      "source": [
        "# One-hot encode labels.\n",
        "train_labels = to_categorical(train_labels, num_classes=10)\n",
        "test_labels = to_categorical(test_labels, num_classes=10)"
      ],
      "metadata": {
        "id": "bXrAnIj3SAsT"
      },
      "execution_count": null,
      "outputs": []
    },
    {
      "cell_type": "markdown",
      "source": [
        "## Create the Neural Network"
      ],
      "metadata": {
        "id": "FV_Rmj_rSJFX"
      }
    },
    {
      "cell_type": "code",
      "source": [
        "# Object used to initialize weights.\n",
        "initializer = keras.initializers.RandomUniform(\n",
        "    minval=-0.1, maxval=0.1)\n",
        "# Create a Sequential model.\n",
        "# 784 inputs.\n",
        "# Two Dense (fully connected) layers with 25 and 10 neurons.\n",
        "# tanh as activation function for hidden layer.\n",
        "# Logistic (sigmoid) as activation function for output layer.\n",
        "model = keras.Sequential([\n",
        "keras.layers.Flatten(input_shape=(28, 28)), \n",
        "keras.layers.Dense(25, activation='tanh', kernel_initializer=initializer, bias_initializer='zeros'), \n",
        "keras.layers.Dense(10, activation='sigmoid', kernel_initializer=initializer, bias_initializer='zeros')])"
      ],
      "metadata": {
        "id": "uwe37nR5SBbP"
      },
      "execution_count": null,
      "outputs": []
    },
    {
      "cell_type": "markdown",
      "source": [
        "## Train the network"
      ],
      "metadata": {
        "id": "p8t0ERVCe4ma"
      }
    },
    {
      "cell_type": "code",
      "source": [
        "# Use stochastic gradient descent (SGD) with\n",
        "# learning rate of 0.01 and no other bells and whistles.\n",
        "# MSE as loss function and report accuracy during training.\n",
        "opt = keras.optimizers.SGD(learning_rate=0.01)\n",
        "model.compile(loss='mean_squared_error', optimizer = opt, metrics =['accuracy'])\n",
        "# Train the model for 20 epochs.\n",
        "# Shuffle (randomize) order.\n",
        "# Update weights after each example (batch_size=1).\n",
        "history = model.fit(train_images, train_labels,\n",
        "                    validation_data=(test_images, test_labels),\n",
        "                    epochs=EPOCHS, batch_size=BATCH_SIZE,\n",
        "                    verbose=2, shuffle=True)"
      ],
      "metadata": {
        "colab": {
          "base_uri": "https://localhost:8080/"
        },
        "id": "upcrNUtqSO_4",
        "outputId": "30e00387-5655-4aa3-c3b9-82a641acf41c"
      },
      "execution_count": 14,
      "outputs": [
        {
          "output_type": "stream",
          "name": "stdout",
          "text": [
            "Epoch 1/20\n",
            "60000/60000 - 71s - loss: 0.0493 - accuracy: 0.7168 - val_loss: 0.0242 - val_accuracy: 0.9007 - 71s/epoch - 1ms/step\n",
            "Epoch 2/20\n",
            "60000/60000 - 67s - loss: 0.0200 - accuracy: 0.9038 - val_loss: 0.0165 - val_accuracy: 0.9185 - 67s/epoch - 1ms/step\n",
            "Epoch 3/20\n",
            "60000/60000 - 67s - loss: 0.0158 - accuracy: 0.9161 - val_loss: 0.0143 - val_accuracy: 0.9238 - 67s/epoch - 1ms/step\n",
            "Epoch 4/20\n",
            "60000/60000 - 67s - loss: 0.0141 - accuracy: 0.9230 - val_loss: 0.0132 - val_accuracy: 0.9256 - 67s/epoch - 1ms/step\n",
            "Epoch 5/20\n",
            "60000/60000 - 68s - loss: 0.0130 - accuracy: 0.9279 - val_loss: 0.0124 - val_accuracy: 0.9286 - 68s/epoch - 1ms/step\n",
            "Epoch 6/20\n",
            "60000/60000 - 67s - loss: 0.0123 - accuracy: 0.9312 - val_loss: 0.0119 - val_accuracy: 0.9317 - 67s/epoch - 1ms/step\n",
            "Epoch 7/20\n",
            "60000/60000 - 68s - loss: 0.0117 - accuracy: 0.9340 - val_loss: 0.0115 - val_accuracy: 0.9333 - 68s/epoch - 1ms/step\n",
            "Epoch 8/20\n",
            "60000/60000 - 68s - loss: 0.0113 - accuracy: 0.9365 - val_loss: 0.0112 - val_accuracy: 0.9343 - 68s/epoch - 1ms/step\n",
            "Epoch 9/20\n",
            "60000/60000 - 66s - loss: 0.0109 - accuracy: 0.9383 - val_loss: 0.0110 - val_accuracy: 0.9370 - 66s/epoch - 1ms/step\n",
            "Epoch 10/20\n",
            "60000/60000 - 67s - loss: 0.0105 - accuracy: 0.9401 - val_loss: 0.0108 - val_accuracy: 0.9369 - 67s/epoch - 1ms/step\n",
            "Epoch 11/20\n",
            "60000/60000 - 66s - loss: 0.0103 - accuracy: 0.9414 - val_loss: 0.0106 - val_accuracy: 0.9376 - 66s/epoch - 1ms/step\n",
            "Epoch 12/20\n",
            "60000/60000 - 67s - loss: 0.0100 - accuracy: 0.9423 - val_loss: 0.0106 - val_accuracy: 0.9373 - 67s/epoch - 1ms/step\n",
            "Epoch 13/20\n",
            "60000/60000 - 66s - loss: 0.0098 - accuracy: 0.9438 - val_loss: 0.0103 - val_accuracy: 0.9391 - 66s/epoch - 1ms/step\n",
            "Epoch 14/20\n",
            "60000/60000 - 67s - loss: 0.0096 - accuracy: 0.9456 - val_loss: 0.0102 - val_accuracy: 0.9397 - 67s/epoch - 1ms/step\n",
            "Epoch 15/20\n",
            "60000/60000 - 67s - loss: 0.0094 - accuracy: 0.9462 - val_loss: 0.0103 - val_accuracy: 0.9396 - 67s/epoch - 1ms/step\n",
            "Epoch 16/20\n",
            "60000/60000 - 67s - loss: 0.0092 - accuracy: 0.9469 - val_loss: 0.0099 - val_accuracy: 0.9418 - 67s/epoch - 1ms/step\n",
            "Epoch 17/20\n",
            "60000/60000 - 66s - loss: 0.0091 - accuracy: 0.9479 - val_loss: 0.0100 - val_accuracy: 0.9391 - 66s/epoch - 1ms/step\n",
            "Epoch 18/20\n",
            "60000/60000 - 67s - loss: 0.0089 - accuracy: 0.9486 - val_loss: 0.0099 - val_accuracy: 0.9425 - 67s/epoch - 1ms/step\n",
            "Epoch 19/20\n",
            "60000/60000 - 66s - loss: 0.0088 - accuracy: 0.9495 - val_loss: 0.0100 - val_accuracy: 0.9405 - 66s/epoch - 1ms/step\n",
            "Epoch 20/20\n",
            "60000/60000 - 66s - loss: 0.0087 - accuracy: 0.9507 - val_loss: 0.0097 - val_accuracy: 0.9438 - 66s/epoch - 1ms/step\n"
          ]
        }
      ]
    },
    {
      "cell_type": "code",
      "source": [
        ""
      ],
      "metadata": {
        "id": "IuQAcPfde69G"
      },
      "execution_count": 14,
      "outputs": []
    }
  ]
}