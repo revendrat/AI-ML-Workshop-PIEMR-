{
  "nbformat": 4,
  "nbformat_minor": 0,
  "metadata": {
    "colab": {
      "name": "05 Functions.ipynb",
      "provenance": [],
      "collapsed_sections": [],
      "include_colab_link": true
    },
    "kernelspec": {
      "name": "python3",
      "display_name": "Python 3"
    },
    "language_info": {
      "name": "python"
    }
  },
  "cells": [
    {
      "cell_type": "markdown",
      "metadata": {
        "id": "view-in-github",
        "colab_type": "text"
      },
      "source": [
        "<a href=\"https://colab.research.google.com/github/revendrat/AI-ML-Workshop-PIEMR-/blob/main/05_Functions.ipynb\" target=\"_parent\"><img src=\"https://colab.research.google.com/assets/colab-badge.svg\" alt=\"Open In Colab\"/></a>"
      ]
    },
    {
      "cell_type": "markdown",
      "source": [
        "# Functions\n",
        "* In-built\n",
        "* User defined\n",
        "\n",
        "# Components of functions\n",
        "* function header\n",
        " * begins with keyword def and ends with :\n",
        " * function body\n",
        "   * each line is indented by four white spaces\n",
        "   * Descrptive string constitutes documentation\n",
        "   * function code logic statements\n",
        "   * return statement to return objects\n",
        "\n",
        "# Construction of user-defined function\n",
        "\n",
        "def function_name(argument_1, argument_1, ...):\n",
        "\n",
        "     code block of function\n",
        "     return any_ouput_results  # This is optional\n",
        "\n"
      ],
      "metadata": {
        "id": "0aSl6IpKeVQj"
      }
    },
    {
      "cell_type": "code",
      "source": [
        "## Illustration of function\n",
        "## Write a function to add two numbers\n",
        "\n",
        "def add_two_nums(a=0, b=0):\n",
        "    add_two = a+b\n",
        "    return add_two"
      ],
      "metadata": {
        "id": "K2_D7rRge0db"
      },
      "execution_count": null,
      "outputs": []
    },
    {
      "cell_type": "code",
      "source": [
        "# What is the output of the following?\n",
        "add_two_nums(4,5)"
      ],
      "metadata": {
        "id": "Nld_AIuce90L",
        "colab": {
          "base_uri": "https://localhost:8080/"
        },
        "outputId": "63ea172d-ee76-4779-ea16-c34c8600642e"
      },
      "execution_count": null,
      "outputs": [
        {
          "output_type": "execute_result",
          "data": {
            "text/plain": [
              "9"
            ]
          },
          "metadata": {},
          "execution_count": 2
        }
      ]
    },
    {
      "cell_type": "code",
      "source": [
        "# What is the output of the following?\n",
        "add_two_nums(4)"
      ],
      "metadata": {
        "id": "PazmMm09e946",
        "colab": {
          "base_uri": "https://localhost:8080/"
        },
        "outputId": "afd8e122-d6d7-4dc0-ff0e-41f6f78ff4c0"
      },
      "execution_count": null,
      "outputs": [
        {
          "output_type": "execute_result",
          "data": {
            "text/plain": [
              "4"
            ]
          },
          "metadata": {},
          "execution_count": 3
        }
      ]
    },
    {
      "cell_type": "code",
      "source": [
        "def sub_two_nums(a, b):\n",
        "    sub_two = a-b\n",
        "    return sub_two"
      ],
      "metadata": {
        "id": "peGMf_I4e98x"
      },
      "execution_count": null,
      "outputs": []
    },
    {
      "cell_type": "code",
      "source": [
        "# What is the output of the following?\n",
        "sub_two_nums(4, 9)"
      ],
      "metadata": {
        "id": "KZl1EDGffMWb",
        "colab": {
          "base_uri": "https://localhost:8080/"
        },
        "outputId": "570d10f5-0acd-4d06-f4fb-bdbfaca780d0"
      },
      "execution_count": null,
      "outputs": [
        {
          "output_type": "execute_result",
          "data": {
            "text/plain": [
              "-5"
            ]
          },
          "metadata": {},
          "execution_count": 5
        }
      ]
    },
    {
      "cell_type": "code",
      "source": [
        "# What is the output of the following?\n",
        "sub_two_nums(4)"
      ],
      "metadata": {
        "id": "aNCprNLjfO0x",
        "colab": {
          "base_uri": "https://localhost:8080/",
          "height": 184
        },
        "outputId": "b570e5f4-b34b-4ae8-fb25-e91d35295587"
      },
      "execution_count": null,
      "outputs": [
        {
          "output_type": "error",
          "ename": "TypeError",
          "evalue": "ignored",
          "traceback": [
            "\u001b[0;31m---------------------------------------------------------------------------\u001b[0m",
            "\u001b[0;31mTypeError\u001b[0m                                 Traceback (most recent call last)",
            "\u001b[0;32m<ipython-input-7-772a0be8615b>\u001b[0m in \u001b[0;36m<module>\u001b[0;34m()\u001b[0m\n\u001b[1;32m      1\u001b[0m \u001b[0;31m# What is the output of the following?\u001b[0m\u001b[0;34m\u001b[0m\u001b[0;34m\u001b[0m\u001b[0;34m\u001b[0m\u001b[0m\n\u001b[0;32m----> 2\u001b[0;31m \u001b[0msub_two_nums\u001b[0m\u001b[0;34m(\u001b[0m\u001b[0;36m4\u001b[0m\u001b[0;34m)\u001b[0m\u001b[0;34m\u001b[0m\u001b[0;34m\u001b[0m\u001b[0m\n\u001b[0m",
            "\u001b[0;31mTypeError\u001b[0m: sub_two_nums() missing 1 required positional argument: 'b'"
          ]
        }
      ]
    },
    {
      "cell_type": "markdown",
      "source": [
        "# Documentation for function\n",
        "* Use three single quotes between the documentation\n",
        "* Example: ''' this function takes three numbers as inputs and returns their sum '''\n",
        "* use help() function to get the documentation of a given function"
      ],
      "metadata": {
        "id": "w4U8ujArfTET"
      }
    },
    {
      "cell_type": "code",
      "source": [
        "# Illustration of documentation\n",
        "def add_three_nums(a, b, c):\n",
        "    '''add_three_nums() function takes three numbers as inputs and returns their sum\n",
        "       arguments a, b, c are numbers\n",
        "       returns a+b+c\n",
        "    '''\n",
        "    return a+b+c"
      ],
      "metadata": {
        "id": "vVrYDo0vfQ80"
      },
      "execution_count": null,
      "outputs": []
    },
    {
      "cell_type": "code",
      "source": [
        "# Use help() function to get documentation on function\n",
        "help(add_three_nums)"
      ],
      "metadata": {
        "id": "oNIcnY8hfQ_y",
        "colab": {
          "base_uri": "https://localhost:8080/"
        },
        "outputId": "42b13f22-7d88-4c82-9006-0f3a969c8555"
      },
      "execution_count": null,
      "outputs": [
        {
          "output_type": "stream",
          "name": "stdout",
          "text": [
            "Help on function add_three_nums in module __main__:\n",
            "\n",
            "add_three_nums(a, b, c)\n",
            "    add_three_nums() function takes three numbers as inputs and returns their sum\n",
            "    arguments a, b, c are numbers\n",
            "    returns a+b+c\n",
            "\n"
          ]
        }
      ]
    },
    {
      "cell_type": "markdown",
      "source": [
        "# Inline or anonymous functions\n",
        "* use lambda keyword to write inline or anyonymus functions\n",
        "* does not require using def keyword to create function\n",
        "\n",
        "# Construction of Lambda function\n",
        "lambda arguments: expressions"
      ],
      "metadata": {
        "id": "ky1Jbur2fh7q"
      }
    },
    {
      "cell_type": "code",
      "source": [
        "# Write an inline function to create a cube of a number\n",
        "f_cube = lambda x: x**3"
      ],
      "metadata": {
        "id": "9FJvgpYvff_Y"
      },
      "execution_count": null,
      "outputs": []
    },
    {
      "cell_type": "code",
      "source": [
        "print(\"cube of 2 is: \", f_cube(2))\n",
        "print(\"cube of 3 is: \", f_cube(3))"
      ],
      "metadata": {
        "id": "20_YUvFFfgHB",
        "colab": {
          "base_uri": "https://localhost:8080/"
        },
        "outputId": "f68cfb31-bedd-434d-cb2f-8f3327a25309"
      },
      "execution_count": null,
      "outputs": [
        {
          "output_type": "stream",
          "name": "stdout",
          "text": [
            "cube of 2 is:  8\n",
            "cube of 3 is:  27\n"
          ]
        }
      ]
    },
    {
      "cell_type": "code",
      "source": [
        "# Write an inline function to add two numbers\n",
        "f_add_two = lambda x,y: x+y"
      ],
      "metadata": {
        "id": "sI79X7-7fwON"
      },
      "execution_count": null,
      "outputs": []
    },
    {
      "cell_type": "code",
      "source": [
        "print(\"Sum of 4 & 5 is: \", f_add_two(4,5))\n",
        "print(\"Sum of 101 & 98 is: \", f_add_two(101,98))"
      ],
      "metadata": {
        "id": "qdV4Gb2mfyKP",
        "colab": {
          "base_uri": "https://localhost:8080/"
        },
        "outputId": "a7abd425-eb91-4d9c-b8ec-e32810beac52"
      },
      "execution_count": null,
      "outputs": [
        {
          "output_type": "stream",
          "name": "stdout",
          "text": [
            "Sum of 4 & 5 is:  9\n",
            "Sum of 101 & 98 is:  199\n"
          ]
        }
      ]
    },
    {
      "cell_type": "markdown",
      "source": [
        "# Nested Functions\n",
        "* A function within a function (parent function)"
      ],
      "metadata": {
        "id": "nP4YSX-3f2OF"
      }
    },
    {
      "cell_type": "code",
      "source": [
        "# Illustration of nested function\n",
        "def add_three_nums_nested(a,b,c):\n",
        "    def add_two_nums_nested(a, b):\n",
        "        print(a+b)\n",
        "        return a+b\n",
        "    return add_two_nums_nested(a, b)+c "
      ],
      "metadata": {
        "id": "noTbZwwaf0ab"
      },
      "execution_count": null,
      "outputs": []
    },
    {
      "cell_type": "code",
      "source": [
        "add_three_nums_nested(1,2,3)"
      ],
      "metadata": {
        "id": "fWAB5CSDf9Wd",
        "colab": {
          "base_uri": "https://localhost:8080/"
        },
        "outputId": "079c59ac-00a3-4d7a-817d-ff8d159bf88b"
      },
      "execution_count": null,
      "outputs": [
        {
          "output_type": "stream",
          "name": "stdout",
          "text": [
            "3\n"
          ]
        },
        {
          "output_type": "execute_result",
          "data": {
            "text/plain": [
              "6"
            ]
          },
          "metadata": {},
          "execution_count": 15
        }
      ]
    },
    {
      "cell_type": "markdown",
      "source": [
        "# Function as an argument to a function\n",
        "* pass a function as an argument to another function\n",
        "* In the illustration, a function adds three numbers, and an other function adding two numbers is passed"
      ],
      "metadata": {
        "id": "d4FvqUaZf_t2"
      }
    },
    {
      "cell_type": "code",
      "source": [
        "# Function to add two numbers\n",
        "def add_three_nums_ff(a, b, c, add_two_nums ):\n",
        "    return (a + add_two_nums(b,c))"
      ],
      "metadata": {
        "id": "504fGgsvgGzw"
      },
      "execution_count": null,
      "outputs": []
    },
    {
      "cell_type": "code",
      "source": [
        "# add three numbers 1,2,3\n",
        "add_three_nums_ff(1,2,3, add_two_nums)"
      ],
      "metadata": {
        "id": "BzA6IDI4gHY9",
        "colab": {
          "base_uri": "https://localhost:8080/"
        },
        "outputId": "f4117cfe-1f08-44fe-c634-2ada94e1e30e"
      },
      "execution_count": null,
      "outputs": [
        {
          "output_type": "execute_result",
          "data": {
            "text/plain": [
              "6"
            ]
          },
          "metadata": {},
          "execution_count": 17
        }
      ]
    },
    {
      "cell_type": "markdown",
      "source": [
        "# Recursive function\n",
        "* Calling a function within that same function\n",
        "* Illustration with factorial of a number"
      ],
      "metadata": {
        "id": "RjrYz39ggKfF"
      }
    },
    {
      "cell_type": "code",
      "source": [
        "def fact(n):\n",
        "    '''Factorial of a number n using concept of recursive function'''\n",
        "    if n == 1:\n",
        "        return 1\n",
        "    else:\n",
        "        return n*fact(n-1)"
      ],
      "metadata": {
        "id": "4atuh9lmgZWF"
      },
      "execution_count": null,
      "outputs": []
    },
    {
      "cell_type": "code",
      "source": [
        "fact(5)"
      ],
      "metadata": {
        "id": "PYgmhVCGgbnI",
        "colab": {
          "base_uri": "https://localhost:8080/"
        },
        "outputId": "0a2d0de4-7711-47fc-d68f-1417e2d4ecea"
      },
      "execution_count": null,
      "outputs": [
        {
          "output_type": "execute_result",
          "data": {
            "text/plain": [
              "120"
            ]
          },
          "metadata": {},
          "execution_count": 19
        }
      ]
    },
    {
      "cell_type": "code",
      "source": [
        "def fact_1(n):\n",
        "    '''factorial using recursive concept and in-line if else'''\n",
        "    return 1  if n==1 else n*fact_1(n-1)"
      ],
      "metadata": {
        "id": "cBn60J0DgdiW"
      },
      "execution_count": null,
      "outputs": []
    },
    {
      "cell_type": "code",
      "source": [
        "fact_1(5)"
      ],
      "metadata": {
        "id": "TsWrN0k-gg_d",
        "colab": {
          "base_uri": "https://localhost:8080/"
        },
        "outputId": "22b93c13-72f8-4ec0-83b5-82969e2b8985"
      },
      "execution_count": null,
      "outputs": [
        {
          "output_type": "execute_result",
          "data": {
            "text/plain": [
              "120"
            ]
          },
          "metadata": {},
          "execution_count": 21
        }
      ]
    }
  ]
}