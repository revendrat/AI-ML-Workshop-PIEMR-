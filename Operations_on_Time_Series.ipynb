{
  "nbformat": 4,
  "nbformat_minor": 0,
  "metadata": {
    "colab": {
      "name": "Operations on Time Series.ipynb",
      "provenance": [],
      "include_colab_link": true
    },
    "kernelspec": {
      "name": "python3",
      "display_name": "Python 3"
    },
    "language_info": {
      "name": "python"
    }
  },
  "cells": [
    {
      "cell_type": "markdown",
      "metadata": {
        "id": "view-in-github",
        "colab_type": "text"
      },
      "source": [
        "<a href=\"https://colab.research.google.com/github/revendrat/AI-ML-Workshop-PIEMR-/blob/main/Operations_on_Time_Series.ipynb\" target=\"_parent\"><img src=\"https://colab.research.google.com/assets/colab-badge.svg\" alt=\"Open In Colab\"/></a>"
      ]
    },
    {
      "cell_type": "markdown",
      "source": [
        "# **Operations on Time series**\n",
        "\n",
        "* For flexible operations on dates, use Timestamp constructor in pandas library\n",
        "* Using Timestamp, the dates operations performed on: MM-DD-YYYY, MM/DD/YYYY, MMDDYY etc.\n",
        "* Import time series data\n",
        "* Rolling operations\n",
        "* Filling operations\n",
        "\n",
        "**Require two important packages:**\n",
        "\n",
        "* ***pandas_datareader*** for reading data from web\n",
        "* ***datetime*** package to manipulate on date column"
      ],
      "metadata": {
        "id": "5VBRKssldMyD"
      }
    },
    {
      "cell_type": "code",
      "execution_count": 1,
      "metadata": {
        "colab": {
          "base_uri": "https://localhost:8080/"
        },
        "id": "ewH0E2NjdD5u",
        "outputId": "3aff451e-197d-49fe-ea41-961c1c0d9c5c"
      },
      "outputs": [
        {
          "output_type": "stream",
          "name": "stdout",
          "text": [
            "Requirement already satisfied: pandas_datareader in /usr/local/lib/python3.7/dist-packages (0.10.0)\n",
            "Requirement already satisfied: requests>=2.19.0 in /usr/local/lib/python3.7/dist-packages (from pandas_datareader) (2.23.0)\n",
            "Requirement already satisfied: lxml in /usr/local/lib/python3.7/dist-packages (from pandas_datareader) (4.2.6)\n",
            "Requirement already satisfied: pandas>=0.23 in /usr/local/lib/python3.7/dist-packages (from pandas_datareader) (1.3.5)\n",
            "Requirement already satisfied: pytz>=2017.3 in /usr/local/lib/python3.7/dist-packages (from pandas>=0.23->pandas_datareader) (2022.1)\n",
            "Requirement already satisfied: numpy>=1.17.3 in /usr/local/lib/python3.7/dist-packages (from pandas>=0.23->pandas_datareader) (1.21.6)\n",
            "Requirement already satisfied: python-dateutil>=2.7.3 in /usr/local/lib/python3.7/dist-packages (from pandas>=0.23->pandas_datareader) (2.8.2)\n",
            "Requirement already satisfied: six>=1.5 in /usr/local/lib/python3.7/dist-packages (from python-dateutil>=2.7.3->pandas>=0.23->pandas_datareader) (1.15.0)\n",
            "Requirement already satisfied: urllib3!=1.25.0,!=1.25.1,<1.26,>=1.21.1 in /usr/local/lib/python3.7/dist-packages (from requests>=2.19.0->pandas_datareader) (1.24.3)\n",
            "Requirement already satisfied: certifi>=2017.4.17 in /usr/local/lib/python3.7/dist-packages (from requests>=2.19.0->pandas_datareader) (2021.10.8)\n",
            "Requirement already satisfied: idna<3,>=2.5 in /usr/local/lib/python3.7/dist-packages (from requests>=2.19.0->pandas_datareader) (2.10)\n",
            "Requirement already satisfied: chardet<4,>=3.0.2 in /usr/local/lib/python3.7/dist-packages (from requests>=2.19.0->pandas_datareader) (3.0.4)\n"
          ]
        }
      ],
      "source": [
        "# install library pandas_datareader\n",
        "!pip install pandas_datareader"
      ]
    },
    {
      "cell_type": "code",
      "source": [
        "!pip install datetime"
      ],
      "metadata": {
        "colab": {
          "base_uri": "https://localhost:8080/"
        },
        "id": "Q7fCtL64drEy",
        "outputId": "e7445e82-4016-4493-b74d-75c6f35e38f7"
      },
      "execution_count": 2,
      "outputs": [
        {
          "output_type": "stream",
          "name": "stdout",
          "text": [
            "Requirement already satisfied: datetime in /usr/local/lib/python3.7/dist-packages (4.4)\n",
            "Requirement already satisfied: pytz in /usr/local/lib/python3.7/dist-packages (from datetime) (2022.1)\n",
            "Requirement already satisfied: zope.interface in /usr/local/lib/python3.7/dist-packages (from datetime) (5.4.0)\n",
            "Requirement already satisfied: setuptools in /usr/local/lib/python3.7/dist-packages (from zope.interface->datetime) (57.4.0)\n"
          ]
        }
      ]
    },
    {
      "cell_type": "code",
      "source": [
        "!pip install --upgrade pandas\n",
        "!pip install --upgrade pandas-datareader"
      ],
      "metadata": {
        "colab": {
          "base_uri": "https://localhost:8080/"
        },
        "id": "uEz9ymv5VNwj",
        "outputId": "645ba6af-295d-49fb-de40-6dd12a2479d1"
      },
      "execution_count": 3,
      "outputs": [
        {
          "output_type": "stream",
          "name": "stdout",
          "text": [
            "Requirement already satisfied: pandas in /usr/local/lib/python3.7/dist-packages (1.3.5)\n",
            "Requirement already satisfied: pytz>=2017.3 in /usr/local/lib/python3.7/dist-packages (from pandas) (2022.1)\n",
            "Requirement already satisfied: numpy>=1.17.3 in /usr/local/lib/python3.7/dist-packages (from pandas) (1.21.6)\n",
            "Requirement already satisfied: python-dateutil>=2.7.3 in /usr/local/lib/python3.7/dist-packages (from pandas) (2.8.2)\n",
            "Requirement already satisfied: six>=1.5 in /usr/local/lib/python3.7/dist-packages (from python-dateutil>=2.7.3->pandas) (1.15.0)\n",
            "Requirement already satisfied: pandas-datareader in /usr/local/lib/python3.7/dist-packages (0.10.0)\n",
            "Requirement already satisfied: lxml in /usr/local/lib/python3.7/dist-packages (from pandas-datareader) (4.2.6)\n",
            "Requirement already satisfied: pandas>=0.23 in /usr/local/lib/python3.7/dist-packages (from pandas-datareader) (1.3.5)\n",
            "Requirement already satisfied: requests>=2.19.0 in /usr/local/lib/python3.7/dist-packages (from pandas-datareader) (2.23.0)\n",
            "Requirement already satisfied: numpy>=1.17.3 in /usr/local/lib/python3.7/dist-packages (from pandas>=0.23->pandas-datareader) (1.21.6)\n",
            "Requirement already satisfied: pytz>=2017.3 in /usr/local/lib/python3.7/dist-packages (from pandas>=0.23->pandas-datareader) (2022.1)\n",
            "Requirement already satisfied: python-dateutil>=2.7.3 in /usr/local/lib/python3.7/dist-packages (from pandas>=0.23->pandas-datareader) (2.8.2)\n",
            "Requirement already satisfied: six>=1.5 in /usr/local/lib/python3.7/dist-packages (from python-dateutil>=2.7.3->pandas>=0.23->pandas-datareader) (1.15.0)\n",
            "Requirement already satisfied: certifi>=2017.4.17 in /usr/local/lib/python3.7/dist-packages (from requests>=2.19.0->pandas-datareader) (2021.10.8)\n",
            "Requirement already satisfied: chardet<4,>=3.0.2 in /usr/local/lib/python3.7/dist-packages (from requests>=2.19.0->pandas-datareader) (3.0.4)\n",
            "Requirement already satisfied: idna<3,>=2.5 in /usr/local/lib/python3.7/dist-packages (from requests>=2.19.0->pandas-datareader) (2.10)\n",
            "Requirement already satisfied: urllib3!=1.25.0,!=1.25.1,<1.26,>=1.21.1 in /usr/local/lib/python3.7/dist-packages (from requests>=2.19.0->pandas-datareader) (1.24.3)\n"
          ]
        }
      ]
    },
    {
      "cell_type": "code",
      "source": [
        "# Let's understand dates\n",
        "\n",
        "# import datetime library\n",
        "\n",
        "import datetime as dt"
      ],
      "metadata": {
        "id": "-DKJQmMddtFf"
      },
      "execution_count": 4,
      "outputs": []
    },
    {
      "cell_type": "code",
      "source": [
        "last_day_1 = dt.date(2021, 11, 30)\n",
        "# above line is same as:\n",
        "last_day_2 = dt.date(year = 2021, month= 11, day = 30)\n",
        "print(\"last_day_1 \", last_day_1)\n",
        "print(\"last_day_1 type \", type(last_day_1))\n",
        "print(\"last_day_2 \", last_day_2)\n",
        "print(\"last_day_2 type \", type(last_day_2))"
      ],
      "metadata": {
        "colab": {
          "base_uri": "https://localhost:8080/"
        },
        "id": "3yt0zHAtdu1v",
        "outputId": "4df03eeb-87e2-40e3-85c4-3e76e816f5c3"
      },
      "execution_count": 5,
      "outputs": [
        {
          "output_type": "stream",
          "name": "stdout",
          "text": [
            "last_day_1  2021-11-30\n",
            "last_day_1 type  <class 'datetime.date'>\n",
            "last_day_2  2021-11-30\n",
            "last_day_2 type  <class 'datetime.date'>\n"
          ]
        }
      ]
    },
    {
      "cell_type": "code",
      "source": [
        "# Fetch year, month & day of last_day_1\n",
        "print(\"year \", last_day_1.year)\n",
        "print(\"month \", last_day_1.month)\n",
        "print(\"day \", last_day_1.day)"
      ],
      "metadata": {
        "colab": {
          "base_uri": "https://localhost:8080/"
        },
        "id": "LpE_kuN-du41",
        "outputId": "20ae0ec3-e170-48c1-e945-44e9ad7c21d4"
      },
      "execution_count": 6,
      "outputs": [
        {
          "output_type": "stream",
          "name": "stdout",
          "text": [
            "year  2021\n",
            "month  11\n",
            "day  30\n"
          ]
        }
      ]
    },
    {
      "cell_type": "code",
      "source": [
        "# create a datetime variable with the following\n",
        "# last_dt with 2021 30 November 16:54:20 (4:54pm 20 seconds)\n",
        "last_dt = dt.datetime(year = 2021, month= 11, day = 30, hour=16, minute = 54, second=20)"
      ],
      "metadata": {
        "id": "1iD_FNgUdu8K"
      },
      "execution_count": 7,
      "outputs": []
    },
    {
      "cell_type": "code",
      "source": [
        "# check the values of last_dt\n",
        "last_dt"
      ],
      "metadata": {
        "colab": {
          "base_uri": "https://localhost:8080/"
        },
        "id": "pxL9f5CZdu_n",
        "outputId": "de2462e6-fe08-468e-8305-b951dffa194d"
      },
      "execution_count": 8,
      "outputs": [
        {
          "output_type": "execute_result",
          "data": {
            "text/plain": [
              "datetime.datetime(2021, 11, 30, 16, 54, 20)"
            ]
          },
          "metadata": {},
          "execution_count": 8
        }
      ]
    },
    {
      "cell_type": "code",
      "source": [
        "# fetch hour, minute and seconds from last_dt\n",
        "print(\"last_dt hour : \", last_dt.hour)\n",
        "print(\"last_dt minute : \", last_dt.minute)\n",
        "print(\"last_dt second : \", last_dt.second)"
      ],
      "metadata": {
        "colab": {
          "base_uri": "https://localhost:8080/"
        },
        "id": "HYFdtCSUd2q0",
        "outputId": "f9fe293b-dc85-4818-88a6-b375fea0a29c"
      },
      "execution_count": 9,
      "outputs": [
        {
          "output_type": "stream",
          "name": "stdout",
          "text": [
            "last_dt hour :  16\n",
            "last_dt minute :  54\n",
            "last_dt second :  20\n"
          ]
        }
      ]
    },
    {
      "cell_type": "code",
      "source": [
        "# import numpy & pandas libraries\n",
        "import numpy as np\n",
        "import pandas as pd"
      ],
      "metadata": {
        "id": "BEEHDqgCd2uG"
      },
      "execution_count": 10,
      "outputs": []
    },
    {
      "cell_type": "code",
      "source": [
        "# create a last_dt variable with the following as Timestamp object\n",
        "# last_ts with 2021 30 November 16:54:20 (4:54pm 20 seconds)\n",
        "last_ts = pd.Timestamp(year = 2021, month= 11, day = 30, hour=16, minute = 54, second=20)"
      ],
      "metadata": {
        "id": "8qzk_-XBd2xk"
      },
      "execution_count": 11,
      "outputs": []
    },
    {
      "cell_type": "code",
      "source": [
        "# check values of last_ts\n",
        "last_ts"
      ],
      "metadata": {
        "colab": {
          "base_uri": "https://localhost:8080/"
        },
        "id": "kdp7TwDtd9L5",
        "outputId": "bd63f3a9-e455-47c9-df2e-fb5f9b45ac78"
      },
      "execution_count": 12,
      "outputs": [
        {
          "output_type": "execute_result",
          "data": {
            "text/plain": [
              "Timestamp('2021-11-30 16:54:20')"
            ]
          },
          "metadata": {},
          "execution_count": 12
        }
      ]
    },
    {
      "cell_type": "code",
      "source": [
        "# verify the attributes of last_ts object\n",
        "print(\"year \", last_ts.year)\n",
        "print(\"month : \", last_ts.month)\n",
        "print(\"day : \", last_ts.day)\n",
        "print(\"hour : \", last_ts.hour)\n",
        "print(\"minute : \", last_ts.minute)\n",
        "print(\"second : \", last_ts.second)"
      ],
      "metadata": {
        "colab": {
          "base_uri": "https://localhost:8080/"
        },
        "id": "6MyluHwyd9PN",
        "outputId": "01f9e942-7e5e-47dc-8601-dda47f6e98d8"
      },
      "execution_count": 13,
      "outputs": [
        {
          "output_type": "stream",
          "name": "stdout",
          "text": [
            "year  2021\n",
            "month :  11\n",
            "day :  30\n",
            "hour :  16\n",
            "minute :  54\n",
            "second :  20\n"
          ]
        }
      ]
    },
    {
      "cell_type": "code",
      "source": [
        "# convert date strings into Timestamp objects\n",
        "x = 'Nov-30-2021'\n",
        "\n",
        "# convert x to Timestamp object using to_datetime() in Pandas\n",
        "# same applicable to columns in pandas dataframe when you need to convert strings to Timestamp\n",
        "x_dt = pd.to_datetime(x)\n",
        "\n",
        "# check the type of x_dt object\n",
        "x_dt"
      ],
      "metadata": {
        "colab": {
          "base_uri": "https://localhost:8080/"
        },
        "id": "hfCxKUPQd9S4",
        "outputId": "7748d43c-2bf5-4728-d99a-d0ca0112c788"
      },
      "execution_count": 14,
      "outputs": [
        {
          "output_type": "execute_result",
          "data": {
            "text/plain": [
              "Timestamp('2021-11-30 00:00:00')"
            ]
          },
          "metadata": {},
          "execution_count": 14
        }
      ]
    },
    {
      "cell_type": "code",
      "source": [
        "# get the day name of x_dt\n",
        "x_dt.day_name()"
      ],
      "metadata": {
        "colab": {
          "base_uri": "https://localhost:8080/",
          "height": 35
        },
        "id": "9XHMVhaad9Vt",
        "outputId": "fdf8ed98-c4d6-4943-bdf1-0a8894ae11ef"
      },
      "execution_count": 15,
      "outputs": [
        {
          "output_type": "execute_result",
          "data": {
            "text/plain": [
              "'Tuesday'"
            ],
            "application/vnd.google.colaboratory.intrinsic+json": {
              "type": "string"
            }
          },
          "metadata": {},
          "execution_count": 15
        }
      ]
    },
    {
      "cell_type": "code",
      "source": [
        "# Add 5 days to x_dt using DateOffset() in Pandas\n",
        "x_dt + pd.DateOffset(days=5)"
      ],
      "metadata": {
        "colab": {
          "base_uri": "https://localhost:8080/"
        },
        "id": "ZwPXUWnBd9Y5",
        "outputId": "749ea644-bb30-4684-984e-21c85bbbadae"
      },
      "execution_count": 16,
      "outputs": [
        {
          "output_type": "execute_result",
          "data": {
            "text/plain": [
              "Timestamp('2021-12-05 00:00:00')"
            ]
          },
          "metadata": {},
          "execution_count": 16
        }
      ]
    },
    {
      "cell_type": "code",
      "source": [
        "# Subtract 5 days to x_dt using DateOffset() in Pandas\n",
        "x_dt - pd.DateOffset(days=5)"
      ],
      "metadata": {
        "colab": {
          "base_uri": "https://localhost:8080/"
        },
        "id": "ELtPrdVhd9cN",
        "outputId": "daacaba3-ee21-4de9-ebd7-f534c4a41a4b"
      },
      "execution_count": 17,
      "outputs": [
        {
          "output_type": "execute_result",
          "data": {
            "text/plain": [
              "Timestamp('2021-11-25 00:00:00')"
            ]
          },
          "metadata": {},
          "execution_count": 17
        }
      ]
    },
    {
      "cell_type": "code",
      "source": [
        "# import data  from pandas_datareader\n",
        "from pandas_datareader import data\n",
        "# read INFOSYS stock from 01-Jan-2021 to 30-Nov-2021 from Yahoo, and reset the index\n",
        "ts_df = data.DataReader(\"INFY.NS\", 'yahoo', '20210101', '20211130').reset_index()\n",
        "\n",
        "# Check the head values of Infy dataframe\n",
        "ts_df.head"
      ],
      "metadata": {
        "colab": {
          "base_uri": "https://localhost:8080/"
        },
        "id": "wTg5sfNQeJa5",
        "outputId": "69564de0-bbd7-4bb9-ea20-7bb1044bdcb2"
      },
      "execution_count": 18,
      "outputs": [
        {
          "output_type": "execute_result",
          "data": {
            "text/plain": [
              "<bound method NDFrame.head of           Date         High          Low         Open        Close  \\\n",
              "0   2021-01-01  1265.500000  1255.800049  1257.900024  1260.449951   \n",
              "1   2021-01-04  1290.000000  1261.150024  1269.000000  1288.250000   \n",
              "2   2021-01-05  1299.000000  1275.050049  1282.000000  1293.800049   \n",
              "3   2021-01-06  1302.000000  1268.050049  1300.000000  1282.099976   \n",
              "4   2021-01-07  1297.650024  1255.500000  1296.000000  1262.150024   \n",
              "..         ...          ...          ...          ...          ...   \n",
              "221 2021-11-25  1726.199951  1696.949951  1700.000000  1722.400024   \n",
              "222 2021-11-26  1718.349976  1684.000000  1702.550049  1691.650024   \n",
              "223 2021-11-29  1712.000000  1669.150024  1691.000000  1696.349976   \n",
              "224 2021-11-30  1729.900024  1700.050049  1704.550049  1712.650024   \n",
              "225 2021-12-01  1741.900024  1713.000000  1715.000000  1714.900024   \n",
              "\n",
              "         Volume    Adj Close  \n",
              "0     4253550.0  1236.039307  \n",
              "1     7208454.0  1263.301025  \n",
              "2     8145280.0  1268.743530  \n",
              "3     7161715.0  1257.270142  \n",
              "4    10954918.0  1237.706543  \n",
              "..          ...          ...  \n",
              "221   4476260.0  1722.400024  \n",
              "222   4494181.0  1691.650024  \n",
              "223   3942776.0  1696.349976  \n",
              "224  14808963.0  1712.650024  \n",
              "225   5193264.0  1714.900024  \n",
              "\n",
              "[226 rows x 7 columns]>"
            ]
          },
          "metadata": {},
          "execution_count": 18
        }
      ]
    },
    {
      "cell_type": "code",
      "source": [
        "# Check the tail values of Infy dataframe\n",
        "ts_df.tail()"
      ],
      "metadata": {
        "id": "jc3zlziReJeM",
        "colab": {
          "base_uri": "https://localhost:8080/",
          "height": 206
        },
        "outputId": "4a136519-4eea-422c-e1ae-eb2ff9f77c66"
      },
      "execution_count": 19,
      "outputs": [
        {
          "output_type": "execute_result",
          "data": {
            "text/plain": [
              "          Date         High          Low         Open        Close  \\\n",
              "221 2021-11-25  1726.199951  1696.949951  1700.000000  1722.400024   \n",
              "222 2021-11-26  1718.349976  1684.000000  1702.550049  1691.650024   \n",
              "223 2021-11-29  1712.000000  1669.150024  1691.000000  1696.349976   \n",
              "224 2021-11-30  1729.900024  1700.050049  1704.550049  1712.650024   \n",
              "225 2021-12-01  1741.900024  1713.000000  1715.000000  1714.900024   \n",
              "\n",
              "         Volume    Adj Close  \n",
              "221   4476260.0  1722.400024  \n",
              "222   4494181.0  1691.650024  \n",
              "223   3942776.0  1696.349976  \n",
              "224  14808963.0  1712.650024  \n",
              "225   5193264.0  1714.900024  "
            ],
            "text/html": [
              "\n",
              "  <div id=\"df-83bc27bf-8a3f-4f7c-b942-53dc094387ea\">\n",
              "    <div class=\"colab-df-container\">\n",
              "      <div>\n",
              "<style scoped>\n",
              "    .dataframe tbody tr th:only-of-type {\n",
              "        vertical-align: middle;\n",
              "    }\n",
              "\n",
              "    .dataframe tbody tr th {\n",
              "        vertical-align: top;\n",
              "    }\n",
              "\n",
              "    .dataframe thead th {\n",
              "        text-align: right;\n",
              "    }\n",
              "</style>\n",
              "<table border=\"1\" class=\"dataframe\">\n",
              "  <thead>\n",
              "    <tr style=\"text-align: right;\">\n",
              "      <th></th>\n",
              "      <th>Date</th>\n",
              "      <th>High</th>\n",
              "      <th>Low</th>\n",
              "      <th>Open</th>\n",
              "      <th>Close</th>\n",
              "      <th>Volume</th>\n",
              "      <th>Adj Close</th>\n",
              "    </tr>\n",
              "  </thead>\n",
              "  <tbody>\n",
              "    <tr>\n",
              "      <th>221</th>\n",
              "      <td>2021-11-25</td>\n",
              "      <td>1726.199951</td>\n",
              "      <td>1696.949951</td>\n",
              "      <td>1700.000000</td>\n",
              "      <td>1722.400024</td>\n",
              "      <td>4476260.0</td>\n",
              "      <td>1722.400024</td>\n",
              "    </tr>\n",
              "    <tr>\n",
              "      <th>222</th>\n",
              "      <td>2021-11-26</td>\n",
              "      <td>1718.349976</td>\n",
              "      <td>1684.000000</td>\n",
              "      <td>1702.550049</td>\n",
              "      <td>1691.650024</td>\n",
              "      <td>4494181.0</td>\n",
              "      <td>1691.650024</td>\n",
              "    </tr>\n",
              "    <tr>\n",
              "      <th>223</th>\n",
              "      <td>2021-11-29</td>\n",
              "      <td>1712.000000</td>\n",
              "      <td>1669.150024</td>\n",
              "      <td>1691.000000</td>\n",
              "      <td>1696.349976</td>\n",
              "      <td>3942776.0</td>\n",
              "      <td>1696.349976</td>\n",
              "    </tr>\n",
              "    <tr>\n",
              "      <th>224</th>\n",
              "      <td>2021-11-30</td>\n",
              "      <td>1729.900024</td>\n",
              "      <td>1700.050049</td>\n",
              "      <td>1704.550049</td>\n",
              "      <td>1712.650024</td>\n",
              "      <td>14808963.0</td>\n",
              "      <td>1712.650024</td>\n",
              "    </tr>\n",
              "    <tr>\n",
              "      <th>225</th>\n",
              "      <td>2021-12-01</td>\n",
              "      <td>1741.900024</td>\n",
              "      <td>1713.000000</td>\n",
              "      <td>1715.000000</td>\n",
              "      <td>1714.900024</td>\n",
              "      <td>5193264.0</td>\n",
              "      <td>1714.900024</td>\n",
              "    </tr>\n",
              "  </tbody>\n",
              "</table>\n",
              "</div>\n",
              "      <button class=\"colab-df-convert\" onclick=\"convertToInteractive('df-83bc27bf-8a3f-4f7c-b942-53dc094387ea')\"\n",
              "              title=\"Convert this dataframe to an interactive table.\"\n",
              "              style=\"display:none;\">\n",
              "        \n",
              "  <svg xmlns=\"http://www.w3.org/2000/svg\" height=\"24px\"viewBox=\"0 0 24 24\"\n",
              "       width=\"24px\">\n",
              "    <path d=\"M0 0h24v24H0V0z\" fill=\"none\"/>\n",
              "    <path d=\"M18.56 5.44l.94 2.06.94-2.06 2.06-.94-2.06-.94-.94-2.06-.94 2.06-2.06.94zm-11 1L8.5 8.5l.94-2.06 2.06-.94-2.06-.94L8.5 2.5l-.94 2.06-2.06.94zm10 10l.94 2.06.94-2.06 2.06-.94-2.06-.94-.94-2.06-.94 2.06-2.06.94z\"/><path d=\"M17.41 7.96l-1.37-1.37c-.4-.4-.92-.59-1.43-.59-.52 0-1.04.2-1.43.59L10.3 9.45l-7.72 7.72c-.78.78-.78 2.05 0 2.83L4 21.41c.39.39.9.59 1.41.59.51 0 1.02-.2 1.41-.59l7.78-7.78 2.81-2.81c.8-.78.8-2.07 0-2.86zM5.41 20L4 18.59l7.72-7.72 1.47 1.35L5.41 20z\"/>\n",
              "  </svg>\n",
              "      </button>\n",
              "      \n",
              "  <style>\n",
              "    .colab-df-container {\n",
              "      display:flex;\n",
              "      flex-wrap:wrap;\n",
              "      gap: 12px;\n",
              "    }\n",
              "\n",
              "    .colab-df-convert {\n",
              "      background-color: #E8F0FE;\n",
              "      border: none;\n",
              "      border-radius: 50%;\n",
              "      cursor: pointer;\n",
              "      display: none;\n",
              "      fill: #1967D2;\n",
              "      height: 32px;\n",
              "      padding: 0 0 0 0;\n",
              "      width: 32px;\n",
              "    }\n",
              "\n",
              "    .colab-df-convert:hover {\n",
              "      background-color: #E2EBFA;\n",
              "      box-shadow: 0px 1px 2px rgba(60, 64, 67, 0.3), 0px 1px 3px 1px rgba(60, 64, 67, 0.15);\n",
              "      fill: #174EA6;\n",
              "    }\n",
              "\n",
              "    [theme=dark] .colab-df-convert {\n",
              "      background-color: #3B4455;\n",
              "      fill: #D2E3FC;\n",
              "    }\n",
              "\n",
              "    [theme=dark] .colab-df-convert:hover {\n",
              "      background-color: #434B5C;\n",
              "      box-shadow: 0px 1px 3px 1px rgba(0, 0, 0, 0.15);\n",
              "      filter: drop-shadow(0px 1px 2px rgba(0, 0, 0, 0.3));\n",
              "      fill: #FFFFFF;\n",
              "    }\n",
              "  </style>\n",
              "\n",
              "      <script>\n",
              "        const buttonEl =\n",
              "          document.querySelector('#df-83bc27bf-8a3f-4f7c-b942-53dc094387ea button.colab-df-convert');\n",
              "        buttonEl.style.display =\n",
              "          google.colab.kernel.accessAllowed ? 'block' : 'none';\n",
              "\n",
              "        async function convertToInteractive(key) {\n",
              "          const element = document.querySelector('#df-83bc27bf-8a3f-4f7c-b942-53dc094387ea');\n",
              "          const dataTable =\n",
              "            await google.colab.kernel.invokeFunction('convertToInteractive',\n",
              "                                                     [key], {});\n",
              "          if (!dataTable) return;\n",
              "\n",
              "          const docLinkHtml = 'Like what you see? Visit the ' +\n",
              "            '<a target=\"_blank\" href=https://colab.research.google.com/notebooks/data_table.ipynb>data table notebook</a>'\n",
              "            + ' to learn more about interactive tables.';\n",
              "          element.innerHTML = '';\n",
              "          dataTable['output_type'] = 'display_data';\n",
              "          await google.colab.output.renderOutput(dataTable, element);\n",
              "          const docLink = document.createElement('div');\n",
              "          docLink.innerHTML = docLinkHtml;\n",
              "          element.appendChild(docLink);\n",
              "        }\n",
              "      </script>\n",
              "    </div>\n",
              "  </div>\n",
              "  "
            ]
          },
          "metadata": {},
          "execution_count": 19
        }
      ]
    },
    {
      "cell_type": "code",
      "source": [
        "# Check the columns data types\n",
        "ts_df.info()"
      ],
      "metadata": {
        "id": "A1XmZacweJhu",
        "colab": {
          "base_uri": "https://localhost:8080/"
        },
        "outputId": "839cf598-d819-4d02-f8b9-ef02bc380f40"
      },
      "execution_count": 20,
      "outputs": [
        {
          "output_type": "stream",
          "name": "stdout",
          "text": [
            "<class 'pandas.core.frame.DataFrame'>\n",
            "RangeIndex: 226 entries, 0 to 225\n",
            "Data columns (total 7 columns):\n",
            " #   Column     Non-Null Count  Dtype         \n",
            "---  ------     --------------  -----         \n",
            " 0   Date       226 non-null    datetime64[ns]\n",
            " 1   High       226 non-null    float64       \n",
            " 2   Low        226 non-null    float64       \n",
            " 3   Open       226 non-null    float64       \n",
            " 4   Close      226 non-null    float64       \n",
            " 5   Volume     226 non-null    float64       \n",
            " 6   Adj Close  226 non-null    float64       \n",
            "dtypes: datetime64[ns](1), float64(6)\n",
            "memory usage: 12.5 KB\n"
          ]
        }
      ]
    },
    {
      "cell_type": "code",
      "source": [
        "# Create returns column using shift() method\n",
        "ts_df['returns'] = (ts_df['Adj Close'] - ts_df['Adj Close'].shift(1))/ts_df['Adj Close'].shift(1)"
      ],
      "metadata": {
        "id": "eP5lyME6eJki"
      },
      "execution_count": 21,
      "outputs": []
    },
    {
      "cell_type": "code",
      "source": [
        "ts_df.head()"
      ],
      "metadata": {
        "id": "qyjjeTyxeJn3",
        "colab": {
          "base_uri": "https://localhost:8080/",
          "height": 206
        },
        "outputId": "fa77a243-8d38-47db-dcdb-00aac7385585"
      },
      "execution_count": 22,
      "outputs": [
        {
          "output_type": "execute_result",
          "data": {
            "text/plain": [
              "        Date         High          Low         Open        Close      Volume  \\\n",
              "0 2021-01-01  1265.500000  1255.800049  1257.900024  1260.449951   4253550.0   \n",
              "1 2021-01-04  1290.000000  1261.150024  1269.000000  1288.250000   7208454.0   \n",
              "2 2021-01-05  1299.000000  1275.050049  1282.000000  1293.800049   8145280.0   \n",
              "3 2021-01-06  1302.000000  1268.050049  1300.000000  1282.099976   7161715.0   \n",
              "4 2021-01-07  1297.650024  1255.500000  1296.000000  1262.150024  10954918.0   \n",
              "\n",
              "     Adj Close   returns  \n",
              "0  1236.039307       NaN  \n",
              "1  1263.301025  0.022056  \n",
              "2  1268.743530  0.004308  \n",
              "3  1257.270142 -0.009043  \n",
              "4  1237.706543 -0.015560  "
            ],
            "text/html": [
              "\n",
              "  <div id=\"df-15f71869-c8fe-469d-8584-39b5cbedfd15\">\n",
              "    <div class=\"colab-df-container\">\n",
              "      <div>\n",
              "<style scoped>\n",
              "    .dataframe tbody tr th:only-of-type {\n",
              "        vertical-align: middle;\n",
              "    }\n",
              "\n",
              "    .dataframe tbody tr th {\n",
              "        vertical-align: top;\n",
              "    }\n",
              "\n",
              "    .dataframe thead th {\n",
              "        text-align: right;\n",
              "    }\n",
              "</style>\n",
              "<table border=\"1\" class=\"dataframe\">\n",
              "  <thead>\n",
              "    <tr style=\"text-align: right;\">\n",
              "      <th></th>\n",
              "      <th>Date</th>\n",
              "      <th>High</th>\n",
              "      <th>Low</th>\n",
              "      <th>Open</th>\n",
              "      <th>Close</th>\n",
              "      <th>Volume</th>\n",
              "      <th>Adj Close</th>\n",
              "      <th>returns</th>\n",
              "    </tr>\n",
              "  </thead>\n",
              "  <tbody>\n",
              "    <tr>\n",
              "      <th>0</th>\n",
              "      <td>2021-01-01</td>\n",
              "      <td>1265.500000</td>\n",
              "      <td>1255.800049</td>\n",
              "      <td>1257.900024</td>\n",
              "      <td>1260.449951</td>\n",
              "      <td>4253550.0</td>\n",
              "      <td>1236.039307</td>\n",
              "      <td>NaN</td>\n",
              "    </tr>\n",
              "    <tr>\n",
              "      <th>1</th>\n",
              "      <td>2021-01-04</td>\n",
              "      <td>1290.000000</td>\n",
              "      <td>1261.150024</td>\n",
              "      <td>1269.000000</td>\n",
              "      <td>1288.250000</td>\n",
              "      <td>7208454.0</td>\n",
              "      <td>1263.301025</td>\n",
              "      <td>0.022056</td>\n",
              "    </tr>\n",
              "    <tr>\n",
              "      <th>2</th>\n",
              "      <td>2021-01-05</td>\n",
              "      <td>1299.000000</td>\n",
              "      <td>1275.050049</td>\n",
              "      <td>1282.000000</td>\n",
              "      <td>1293.800049</td>\n",
              "      <td>8145280.0</td>\n",
              "      <td>1268.743530</td>\n",
              "      <td>0.004308</td>\n",
              "    </tr>\n",
              "    <tr>\n",
              "      <th>3</th>\n",
              "      <td>2021-01-06</td>\n",
              "      <td>1302.000000</td>\n",
              "      <td>1268.050049</td>\n",
              "      <td>1300.000000</td>\n",
              "      <td>1282.099976</td>\n",
              "      <td>7161715.0</td>\n",
              "      <td>1257.270142</td>\n",
              "      <td>-0.009043</td>\n",
              "    </tr>\n",
              "    <tr>\n",
              "      <th>4</th>\n",
              "      <td>2021-01-07</td>\n",
              "      <td>1297.650024</td>\n",
              "      <td>1255.500000</td>\n",
              "      <td>1296.000000</td>\n",
              "      <td>1262.150024</td>\n",
              "      <td>10954918.0</td>\n",
              "      <td>1237.706543</td>\n",
              "      <td>-0.015560</td>\n",
              "    </tr>\n",
              "  </tbody>\n",
              "</table>\n",
              "</div>\n",
              "      <button class=\"colab-df-convert\" onclick=\"convertToInteractive('df-15f71869-c8fe-469d-8584-39b5cbedfd15')\"\n",
              "              title=\"Convert this dataframe to an interactive table.\"\n",
              "              style=\"display:none;\">\n",
              "        \n",
              "  <svg xmlns=\"http://www.w3.org/2000/svg\" height=\"24px\"viewBox=\"0 0 24 24\"\n",
              "       width=\"24px\">\n",
              "    <path d=\"M0 0h24v24H0V0z\" fill=\"none\"/>\n",
              "    <path d=\"M18.56 5.44l.94 2.06.94-2.06 2.06-.94-2.06-.94-.94-2.06-.94 2.06-2.06.94zm-11 1L8.5 8.5l.94-2.06 2.06-.94-2.06-.94L8.5 2.5l-.94 2.06-2.06.94zm10 10l.94 2.06.94-2.06 2.06-.94-2.06-.94-.94-2.06-.94 2.06-2.06.94z\"/><path d=\"M17.41 7.96l-1.37-1.37c-.4-.4-.92-.59-1.43-.59-.52 0-1.04.2-1.43.59L10.3 9.45l-7.72 7.72c-.78.78-.78 2.05 0 2.83L4 21.41c.39.39.9.59 1.41.59.51 0 1.02-.2 1.41-.59l7.78-7.78 2.81-2.81c.8-.78.8-2.07 0-2.86zM5.41 20L4 18.59l7.72-7.72 1.47 1.35L5.41 20z\"/>\n",
              "  </svg>\n",
              "      </button>\n",
              "      \n",
              "  <style>\n",
              "    .colab-df-container {\n",
              "      display:flex;\n",
              "      flex-wrap:wrap;\n",
              "      gap: 12px;\n",
              "    }\n",
              "\n",
              "    .colab-df-convert {\n",
              "      background-color: #E8F0FE;\n",
              "      border: none;\n",
              "      border-radius: 50%;\n",
              "      cursor: pointer;\n",
              "      display: none;\n",
              "      fill: #1967D2;\n",
              "      height: 32px;\n",
              "      padding: 0 0 0 0;\n",
              "      width: 32px;\n",
              "    }\n",
              "\n",
              "    .colab-df-convert:hover {\n",
              "      background-color: #E2EBFA;\n",
              "      box-shadow: 0px 1px 2px rgba(60, 64, 67, 0.3), 0px 1px 3px 1px rgba(60, 64, 67, 0.15);\n",
              "      fill: #174EA6;\n",
              "    }\n",
              "\n",
              "    [theme=dark] .colab-df-convert {\n",
              "      background-color: #3B4455;\n",
              "      fill: #D2E3FC;\n",
              "    }\n",
              "\n",
              "    [theme=dark] .colab-df-convert:hover {\n",
              "      background-color: #434B5C;\n",
              "      box-shadow: 0px 1px 3px 1px rgba(0, 0, 0, 0.15);\n",
              "      filter: drop-shadow(0px 1px 2px rgba(0, 0, 0, 0.3));\n",
              "      fill: #FFFFFF;\n",
              "    }\n",
              "  </style>\n",
              "\n",
              "      <script>\n",
              "        const buttonEl =\n",
              "          document.querySelector('#df-15f71869-c8fe-469d-8584-39b5cbedfd15 button.colab-df-convert');\n",
              "        buttonEl.style.display =\n",
              "          google.colab.kernel.accessAllowed ? 'block' : 'none';\n",
              "\n",
              "        async function convertToInteractive(key) {\n",
              "          const element = document.querySelector('#df-15f71869-c8fe-469d-8584-39b5cbedfd15');\n",
              "          const dataTable =\n",
              "            await google.colab.kernel.invokeFunction('convertToInteractive',\n",
              "                                                     [key], {});\n",
              "          if (!dataTable) return;\n",
              "\n",
              "          const docLinkHtml = 'Like what you see? Visit the ' +\n",
              "            '<a target=\"_blank\" href=https://colab.research.google.com/notebooks/data_table.ipynb>data table notebook</a>'\n",
              "            + ' to learn more about interactive tables.';\n",
              "          element.innerHTML = '';\n",
              "          dataTable['output_type'] = 'display_data';\n",
              "          await google.colab.output.renderOutput(dataTable, element);\n",
              "          const docLink = document.createElement('div');\n",
              "          docLink.innerHTML = docLinkHtml;\n",
              "          element.appendChild(docLink);\n",
              "        }\n",
              "      </script>\n",
              "    </div>\n",
              "  </div>\n",
              "  "
            ]
          },
          "metadata": {},
          "execution_count": 22
        }
      ]
    },
    {
      "cell_type": "markdown",
      "source": [
        "# Rolling operations on time series data\n",
        "* use rolling() method followed by summary of interest"
      ],
      "metadata": {
        "id": "8Hlm810GeU7V"
      }
    },
    {
      "cell_type": "code",
      "source": [
        "# calculate the mean over the trailing three elements\n",
        "ts_df.rolling(3).mean().head()"
      ],
      "metadata": {
        "id": "G7yJ6pUdeJsG",
        "colab": {
          "base_uri": "https://localhost:8080/",
          "height": 206
        },
        "outputId": "89d02806-891c-4970-c3be-46c4e9e11d5c"
      },
      "execution_count": 23,
      "outputs": [
        {
          "output_type": "execute_result",
          "data": {
            "text/plain": [
              "          High          Low         Open        Close        Volume  \\\n",
              "0          NaN          NaN          NaN          NaN           NaN   \n",
              "1          NaN          NaN          NaN          NaN           NaN   \n",
              "2  1284.833333  1264.000041  1269.633341  1280.833333  6.535761e+06   \n",
              "3  1297.000000  1268.083374  1283.666667  1288.050008  7.505150e+06   \n",
              "4  1299.550008  1266.200033  1292.666667  1279.350016  8.753971e+06   \n",
              "\n",
              "     Adj Close   returns  \n",
              "0          NaN       NaN  \n",
              "1          NaN       NaN  \n",
              "2  1256.027954       NaN  \n",
              "3  1263.104899  0.005774  \n",
              "4  1254.573405 -0.006765  "
            ],
            "text/html": [
              "\n",
              "  <div id=\"df-674c83e3-d611-4730-9303-9ff9125d63f9\">\n",
              "    <div class=\"colab-df-container\">\n",
              "      <div>\n",
              "<style scoped>\n",
              "    .dataframe tbody tr th:only-of-type {\n",
              "        vertical-align: middle;\n",
              "    }\n",
              "\n",
              "    .dataframe tbody tr th {\n",
              "        vertical-align: top;\n",
              "    }\n",
              "\n",
              "    .dataframe thead th {\n",
              "        text-align: right;\n",
              "    }\n",
              "</style>\n",
              "<table border=\"1\" class=\"dataframe\">\n",
              "  <thead>\n",
              "    <tr style=\"text-align: right;\">\n",
              "      <th></th>\n",
              "      <th>High</th>\n",
              "      <th>Low</th>\n",
              "      <th>Open</th>\n",
              "      <th>Close</th>\n",
              "      <th>Volume</th>\n",
              "      <th>Adj Close</th>\n",
              "      <th>returns</th>\n",
              "    </tr>\n",
              "  </thead>\n",
              "  <tbody>\n",
              "    <tr>\n",
              "      <th>0</th>\n",
              "      <td>NaN</td>\n",
              "      <td>NaN</td>\n",
              "      <td>NaN</td>\n",
              "      <td>NaN</td>\n",
              "      <td>NaN</td>\n",
              "      <td>NaN</td>\n",
              "      <td>NaN</td>\n",
              "    </tr>\n",
              "    <tr>\n",
              "      <th>1</th>\n",
              "      <td>NaN</td>\n",
              "      <td>NaN</td>\n",
              "      <td>NaN</td>\n",
              "      <td>NaN</td>\n",
              "      <td>NaN</td>\n",
              "      <td>NaN</td>\n",
              "      <td>NaN</td>\n",
              "    </tr>\n",
              "    <tr>\n",
              "      <th>2</th>\n",
              "      <td>1284.833333</td>\n",
              "      <td>1264.000041</td>\n",
              "      <td>1269.633341</td>\n",
              "      <td>1280.833333</td>\n",
              "      <td>6.535761e+06</td>\n",
              "      <td>1256.027954</td>\n",
              "      <td>NaN</td>\n",
              "    </tr>\n",
              "    <tr>\n",
              "      <th>3</th>\n",
              "      <td>1297.000000</td>\n",
              "      <td>1268.083374</td>\n",
              "      <td>1283.666667</td>\n",
              "      <td>1288.050008</td>\n",
              "      <td>7.505150e+06</td>\n",
              "      <td>1263.104899</td>\n",
              "      <td>0.005774</td>\n",
              "    </tr>\n",
              "    <tr>\n",
              "      <th>4</th>\n",
              "      <td>1299.550008</td>\n",
              "      <td>1266.200033</td>\n",
              "      <td>1292.666667</td>\n",
              "      <td>1279.350016</td>\n",
              "      <td>8.753971e+06</td>\n",
              "      <td>1254.573405</td>\n",
              "      <td>-0.006765</td>\n",
              "    </tr>\n",
              "  </tbody>\n",
              "</table>\n",
              "</div>\n",
              "      <button class=\"colab-df-convert\" onclick=\"convertToInteractive('df-674c83e3-d611-4730-9303-9ff9125d63f9')\"\n",
              "              title=\"Convert this dataframe to an interactive table.\"\n",
              "              style=\"display:none;\">\n",
              "        \n",
              "  <svg xmlns=\"http://www.w3.org/2000/svg\" height=\"24px\"viewBox=\"0 0 24 24\"\n",
              "       width=\"24px\">\n",
              "    <path d=\"M0 0h24v24H0V0z\" fill=\"none\"/>\n",
              "    <path d=\"M18.56 5.44l.94 2.06.94-2.06 2.06-.94-2.06-.94-.94-2.06-.94 2.06-2.06.94zm-11 1L8.5 8.5l.94-2.06 2.06-.94-2.06-.94L8.5 2.5l-.94 2.06-2.06.94zm10 10l.94 2.06.94-2.06 2.06-.94-2.06-.94-.94-2.06-.94 2.06-2.06.94z\"/><path d=\"M17.41 7.96l-1.37-1.37c-.4-.4-.92-.59-1.43-.59-.52 0-1.04.2-1.43.59L10.3 9.45l-7.72 7.72c-.78.78-.78 2.05 0 2.83L4 21.41c.39.39.9.59 1.41.59.51 0 1.02-.2 1.41-.59l7.78-7.78 2.81-2.81c.8-.78.8-2.07 0-2.86zM5.41 20L4 18.59l7.72-7.72 1.47 1.35L5.41 20z\"/>\n",
              "  </svg>\n",
              "      </button>\n",
              "      \n",
              "  <style>\n",
              "    .colab-df-container {\n",
              "      display:flex;\n",
              "      flex-wrap:wrap;\n",
              "      gap: 12px;\n",
              "    }\n",
              "\n",
              "    .colab-df-convert {\n",
              "      background-color: #E8F0FE;\n",
              "      border: none;\n",
              "      border-radius: 50%;\n",
              "      cursor: pointer;\n",
              "      display: none;\n",
              "      fill: #1967D2;\n",
              "      height: 32px;\n",
              "      padding: 0 0 0 0;\n",
              "      width: 32px;\n",
              "    }\n",
              "\n",
              "    .colab-df-convert:hover {\n",
              "      background-color: #E2EBFA;\n",
              "      box-shadow: 0px 1px 2px rgba(60, 64, 67, 0.3), 0px 1px 3px 1px rgba(60, 64, 67, 0.15);\n",
              "      fill: #174EA6;\n",
              "    }\n",
              "\n",
              "    [theme=dark] .colab-df-convert {\n",
              "      background-color: #3B4455;\n",
              "      fill: #D2E3FC;\n",
              "    }\n",
              "\n",
              "    [theme=dark] .colab-df-convert:hover {\n",
              "      background-color: #434B5C;\n",
              "      box-shadow: 0px 1px 3px 1px rgba(0, 0, 0, 0.15);\n",
              "      filter: drop-shadow(0px 1px 2px rgba(0, 0, 0, 0.3));\n",
              "      fill: #FFFFFF;\n",
              "    }\n",
              "  </style>\n",
              "\n",
              "      <script>\n",
              "        const buttonEl =\n",
              "          document.querySelector('#df-674c83e3-d611-4730-9303-9ff9125d63f9 button.colab-df-convert');\n",
              "        buttonEl.style.display =\n",
              "          google.colab.kernel.accessAllowed ? 'block' : 'none';\n",
              "\n",
              "        async function convertToInteractive(key) {\n",
              "          const element = document.querySelector('#df-674c83e3-d611-4730-9303-9ff9125d63f9');\n",
              "          const dataTable =\n",
              "            await google.colab.kernel.invokeFunction('convertToInteractive',\n",
              "                                                     [key], {});\n",
              "          if (!dataTable) return;\n",
              "\n",
              "          const docLinkHtml = 'Like what you see? Visit the ' +\n",
              "            '<a target=\"_blank\" href=https://colab.research.google.com/notebooks/data_table.ipynb>data table notebook</a>'\n",
              "            + ' to learn more about interactive tables.';\n",
              "          element.innerHTML = '';\n",
              "          dataTable['output_type'] = 'display_data';\n",
              "          await google.colab.output.renderOutput(dataTable, element);\n",
              "          const docLink = document.createElement('div');\n",
              "          docLink.innerHTML = docLinkHtml;\n",
              "          element.appendChild(docLink);\n",
              "        }\n",
              "      </script>\n",
              "    </div>\n",
              "  </div>\n",
              "  "
            ]
          },
          "metadata": {},
          "execution_count": 23
        }
      ]
    },
    {
      "cell_type": "code",
      "source": [
        "# exponential weighted the mean over the trailing three elements\n",
        "ts_df.ewm(3).mean().head()"
      ],
      "metadata": {
        "id": "7TNvd1y_ebfs",
        "colab": {
          "base_uri": "https://localhost:8080/",
          "height": 206
        },
        "outputId": "9e652df6-9301-4c40-c496-2f07960445b9"
      },
      "execution_count": 24,
      "outputs": [
        {
          "output_type": "execute_result",
          "data": {
            "text/plain": [
              "          High          Low         Open        Close        Volume  \\\n",
              "0  1265.500000  1255.800049  1257.900024  1260.449951  4.253550e+06   \n",
              "1  1279.500000  1258.857178  1264.242868  1276.335693  5.942067e+06   \n",
              "2  1287.932432  1265.859500  1271.921628  1283.887847  6.894808e+06   \n",
              "3  1293.077143  1266.660615  1282.190289  1283.233997  6.992419e+06   \n",
              "4  1294.576064  1263.002334  1286.716904  1276.322989  8.291267e+06   \n",
              "\n",
              "     Adj Close   returns  \n",
              "0  1236.039307       NaN  \n",
              "1  1251.617432  0.022056  \n",
              "2  1259.023312  0.011914  \n",
              "3  1258.382153  0.002852  \n",
              "4  1251.605000 -0.003882  "
            ],
            "text/html": [
              "\n",
              "  <div id=\"df-769ad1da-d221-4e51-b772-2a832a18f32f\">\n",
              "    <div class=\"colab-df-container\">\n",
              "      <div>\n",
              "<style scoped>\n",
              "    .dataframe tbody tr th:only-of-type {\n",
              "        vertical-align: middle;\n",
              "    }\n",
              "\n",
              "    .dataframe tbody tr th {\n",
              "        vertical-align: top;\n",
              "    }\n",
              "\n",
              "    .dataframe thead th {\n",
              "        text-align: right;\n",
              "    }\n",
              "</style>\n",
              "<table border=\"1\" class=\"dataframe\">\n",
              "  <thead>\n",
              "    <tr style=\"text-align: right;\">\n",
              "      <th></th>\n",
              "      <th>High</th>\n",
              "      <th>Low</th>\n",
              "      <th>Open</th>\n",
              "      <th>Close</th>\n",
              "      <th>Volume</th>\n",
              "      <th>Adj Close</th>\n",
              "      <th>returns</th>\n",
              "    </tr>\n",
              "  </thead>\n",
              "  <tbody>\n",
              "    <tr>\n",
              "      <th>0</th>\n",
              "      <td>1265.500000</td>\n",
              "      <td>1255.800049</td>\n",
              "      <td>1257.900024</td>\n",
              "      <td>1260.449951</td>\n",
              "      <td>4.253550e+06</td>\n",
              "      <td>1236.039307</td>\n",
              "      <td>NaN</td>\n",
              "    </tr>\n",
              "    <tr>\n",
              "      <th>1</th>\n",
              "      <td>1279.500000</td>\n",
              "      <td>1258.857178</td>\n",
              "      <td>1264.242868</td>\n",
              "      <td>1276.335693</td>\n",
              "      <td>5.942067e+06</td>\n",
              "      <td>1251.617432</td>\n",
              "      <td>0.022056</td>\n",
              "    </tr>\n",
              "    <tr>\n",
              "      <th>2</th>\n",
              "      <td>1287.932432</td>\n",
              "      <td>1265.859500</td>\n",
              "      <td>1271.921628</td>\n",
              "      <td>1283.887847</td>\n",
              "      <td>6.894808e+06</td>\n",
              "      <td>1259.023312</td>\n",
              "      <td>0.011914</td>\n",
              "    </tr>\n",
              "    <tr>\n",
              "      <th>3</th>\n",
              "      <td>1293.077143</td>\n",
              "      <td>1266.660615</td>\n",
              "      <td>1282.190289</td>\n",
              "      <td>1283.233997</td>\n",
              "      <td>6.992419e+06</td>\n",
              "      <td>1258.382153</td>\n",
              "      <td>0.002852</td>\n",
              "    </tr>\n",
              "    <tr>\n",
              "      <th>4</th>\n",
              "      <td>1294.576064</td>\n",
              "      <td>1263.002334</td>\n",
              "      <td>1286.716904</td>\n",
              "      <td>1276.322989</td>\n",
              "      <td>8.291267e+06</td>\n",
              "      <td>1251.605000</td>\n",
              "      <td>-0.003882</td>\n",
              "    </tr>\n",
              "  </tbody>\n",
              "</table>\n",
              "</div>\n",
              "      <button class=\"colab-df-convert\" onclick=\"convertToInteractive('df-769ad1da-d221-4e51-b772-2a832a18f32f')\"\n",
              "              title=\"Convert this dataframe to an interactive table.\"\n",
              "              style=\"display:none;\">\n",
              "        \n",
              "  <svg xmlns=\"http://www.w3.org/2000/svg\" height=\"24px\"viewBox=\"0 0 24 24\"\n",
              "       width=\"24px\">\n",
              "    <path d=\"M0 0h24v24H0V0z\" fill=\"none\"/>\n",
              "    <path d=\"M18.56 5.44l.94 2.06.94-2.06 2.06-.94-2.06-.94-.94-2.06-.94 2.06-2.06.94zm-11 1L8.5 8.5l.94-2.06 2.06-.94-2.06-.94L8.5 2.5l-.94 2.06-2.06.94zm10 10l.94 2.06.94-2.06 2.06-.94-2.06-.94-.94-2.06-.94 2.06-2.06.94z\"/><path d=\"M17.41 7.96l-1.37-1.37c-.4-.4-.92-.59-1.43-.59-.52 0-1.04.2-1.43.59L10.3 9.45l-7.72 7.72c-.78.78-.78 2.05 0 2.83L4 21.41c.39.39.9.59 1.41.59.51 0 1.02-.2 1.41-.59l7.78-7.78 2.81-2.81c.8-.78.8-2.07 0-2.86zM5.41 20L4 18.59l7.72-7.72 1.47 1.35L5.41 20z\"/>\n",
              "  </svg>\n",
              "      </button>\n",
              "      \n",
              "  <style>\n",
              "    .colab-df-container {\n",
              "      display:flex;\n",
              "      flex-wrap:wrap;\n",
              "      gap: 12px;\n",
              "    }\n",
              "\n",
              "    .colab-df-convert {\n",
              "      background-color: #E8F0FE;\n",
              "      border: none;\n",
              "      border-radius: 50%;\n",
              "      cursor: pointer;\n",
              "      display: none;\n",
              "      fill: #1967D2;\n",
              "      height: 32px;\n",
              "      padding: 0 0 0 0;\n",
              "      width: 32px;\n",
              "    }\n",
              "\n",
              "    .colab-df-convert:hover {\n",
              "      background-color: #E2EBFA;\n",
              "      box-shadow: 0px 1px 2px rgba(60, 64, 67, 0.3), 0px 1px 3px 1px rgba(60, 64, 67, 0.15);\n",
              "      fill: #174EA6;\n",
              "    }\n",
              "\n",
              "    [theme=dark] .colab-df-convert {\n",
              "      background-color: #3B4455;\n",
              "      fill: #D2E3FC;\n",
              "    }\n",
              "\n",
              "    [theme=dark] .colab-df-convert:hover {\n",
              "      background-color: #434B5C;\n",
              "      box-shadow: 0px 1px 3px 1px rgba(0, 0, 0, 0.15);\n",
              "      filter: drop-shadow(0px 1px 2px rgba(0, 0, 0, 0.3));\n",
              "      fill: #FFFFFF;\n",
              "    }\n",
              "  </style>\n",
              "\n",
              "      <script>\n",
              "        const buttonEl =\n",
              "          document.querySelector('#df-769ad1da-d221-4e51-b772-2a832a18f32f button.colab-df-convert');\n",
              "        buttonEl.style.display =\n",
              "          google.colab.kernel.accessAllowed ? 'block' : 'none';\n",
              "\n",
              "        async function convertToInteractive(key) {\n",
              "          const element = document.querySelector('#df-769ad1da-d221-4e51-b772-2a832a18f32f');\n",
              "          const dataTable =\n",
              "            await google.colab.kernel.invokeFunction('convertToInteractive',\n",
              "                                                     [key], {});\n",
              "          if (!dataTable) return;\n",
              "\n",
              "          const docLinkHtml = 'Like what you see? Visit the ' +\n",
              "            '<a target=\"_blank\" href=https://colab.research.google.com/notebooks/data_table.ipynb>data table notebook</a>'\n",
              "            + ' to learn more about interactive tables.';\n",
              "          element.innerHTML = '';\n",
              "          dataTable['output_type'] = 'display_data';\n",
              "          await google.colab.output.renderOutput(dataTable, element);\n",
              "          const docLink = document.createElement('div');\n",
              "          docLink.innerHTML = docLinkHtml;\n",
              "          element.appendChild(docLink);\n",
              "        }\n",
              "      </script>\n",
              "    </div>\n",
              "  </div>\n",
              "  "
            ]
          },
          "metadata": {},
          "execution_count": 24
        }
      ]
    },
    {
      "cell_type": "markdown",
      "source": [
        "# Filling operations on time series data"
      ],
      "metadata": {
        "id": "2swUooGfegpU"
      }
    },
    {
      "cell_type": "code",
      "source": [
        "# create a series type dataset with time features\n",
        "\n",
        "test_ts = pd.Series({\"date\" : ['20211130', '20211129', '20211128', '20211126', '20211125', '20211124'], \n",
        "\"temp\": [7, 6, 6.5, '', 8, 7.5], \"humidity\": [42, 80, '', 54, '', 74]} )"
      ],
      "metadata": {
        "id": "SNAogdw6eds1"
      },
      "execution_count": 25,
      "outputs": []
    },
    {
      "cell_type": "code",
      "source": [
        "# create a series type dataset with time features\n",
        "date = pd.date_range(start = '25/11/2021', end = '30/11/2021', freq = 'D')\n",
        "# use np.NaN to create NaN values\n",
        "night_temp = [7, 6, 6.5, np.NaN, 8, 7.5]\n",
        "humidity = [42, 80, '', 54, np.NaN, 74]\n",
        "temp_df = pd.Series(night_temp, index= date )"
      ],
      "metadata": {
        "id": "MsOqsNFeedyA"
      },
      "execution_count": 26,
      "outputs": []
    },
    {
      "cell_type": "code",
      "source": [
        "# verify type of test_ts\n",
        "temp_df"
      ],
      "metadata": {
        "id": "AiGmD33eed1s",
        "colab": {
          "base_uri": "https://localhost:8080/"
        },
        "outputId": "88dff57f-4240-4ba3-9e4e-342d0968c1b6"
      },
      "execution_count": 27,
      "outputs": [
        {
          "output_type": "execute_result",
          "data": {
            "text/plain": [
              "2021-11-25    7.0\n",
              "2021-11-26    6.0\n",
              "2021-11-27    6.5\n",
              "2021-11-28    NaN\n",
              "2021-11-29    8.0\n",
              "2021-11-30    7.5\n",
              "Freq: D, dtype: float64"
            ]
          },
          "metadata": {},
          "execution_count": 27
        }
      ]
    },
    {
      "cell_type": "code",
      "source": [
        "# perform forward fill\n",
        "# forward fill uses the prior value\n",
        "temp_df.resample('1D').mean().ffill()"
      ],
      "metadata": {
        "id": "BUog_NBMed5s",
        "colab": {
          "base_uri": "https://localhost:8080/"
        },
        "outputId": "04d4f1d8-9261-406c-d1e2-1ff2a7a9cea9"
      },
      "execution_count": 28,
      "outputs": [
        {
          "output_type": "execute_result",
          "data": {
            "text/plain": [
              "2021-11-25    7.0\n",
              "2021-11-26    6.0\n",
              "2021-11-27    6.5\n",
              "2021-11-28    6.5\n",
              "2021-11-29    8.0\n",
              "2021-11-30    7.5\n",
              "Freq: D, dtype: float64"
            ]
          },
          "metadata": {},
          "execution_count": 28
        }
      ]
    },
    {
      "cell_type": "code",
      "source": [
        "# perform backward fill\n",
        "# backward fill uses the next value\n",
        "temp_df.resample('1D').mean().bfill()"
      ],
      "metadata": {
        "id": "0udmquRqed9K",
        "colab": {
          "base_uri": "https://localhost:8080/"
        },
        "outputId": "b5c2e17b-99be-4fcf-c6d0-d23fed311af6"
      },
      "execution_count": 29,
      "outputs": [
        {
          "output_type": "execute_result",
          "data": {
            "text/plain": [
              "2021-11-25    7.0\n",
              "2021-11-26    6.0\n",
              "2021-11-27    6.5\n",
              "2021-11-28    8.0\n",
              "2021-11-29    8.0\n",
              "2021-11-30    7.5\n",
              "Freq: D, dtype: float64"
            ]
          },
          "metadata": {},
          "execution_count": 29
        }
      ]
    },
    {
      "cell_type": "code",
      "source": [
        "# perform interpolate fill\n",
        "# interpolate fill replaces NaN based on interpolation of non-NaN values\n",
        "temp_df.resample('1D').mean().interpolate()"
      ],
      "metadata": {
        "id": "r59MI3kIer3N",
        "colab": {
          "base_uri": "https://localhost:8080/"
        },
        "outputId": "3e3de6bb-d613-4696-dc22-dfb52b547ac9"
      },
      "execution_count": 30,
      "outputs": [
        {
          "output_type": "execute_result",
          "data": {
            "text/plain": [
              "2021-11-25    7.00\n",
              "2021-11-26    6.00\n",
              "2021-11-27    6.50\n",
              "2021-11-28    7.25\n",
              "2021-11-29    8.00\n",
              "2021-11-30    7.50\n",
              "Freq: D, dtype: float64"
            ]
          },
          "metadata": {},
          "execution_count": 30
        }
      ]
    }
  ]
}