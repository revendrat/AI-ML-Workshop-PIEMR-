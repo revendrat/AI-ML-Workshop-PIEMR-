{
  "nbformat": 4,
  "nbformat_minor": 0,
  "metadata": {
    "colab": {
      "name": "Data Types.ipynb",
      "provenance": [],
      "include_colab_link": true
    },
    "kernelspec": {
      "name": "python3",
      "display_name": "Python 3"
    },
    "language_info": {
      "name": "python"
    }
  },
  "cells": [
    {
      "cell_type": "markdown",
      "metadata": {
        "id": "view-in-github",
        "colab_type": "text"
      },
      "source": [
        "<a href=\"https://colab.research.google.com/github/revendrat/AI-ML-Workshop-PIEMR-/blob/main/Data_Types.ipynb\" target=\"_parent\"><img src=\"https://colab.research.google.com/assets/colab-badge.svg\" alt=\"Open In Colab\"/></a>"
      ]
    },
    {
      "cell_type": "markdown",
      "source": [
        "## **Following are the standard or built-in data type of Python:**\n",
        "\n",
        "\n",
        "1.   Numeric\n",
        "2.   Boolean\n",
        "3.   Strings\n",
        "\n",
        "**Numeric Data Types**\n",
        "\n",
        "\n",
        "1.   Integers\n",
        "2.   Real numbers\n",
        "3.   Complex Numbers\n",
        "\n",
        "\n",
        "\n",
        "\n",
        "\n",
        "\n",
        "\n",
        "\n",
        "\n",
        "\n"
      ],
      "metadata": {
        "id": "YSF35-2_7CVj"
      }
    },
    {
      "cell_type": "code",
      "source": [
        "#Converts a real number (float) to an integer\n",
        "print(int(66.6666666666))\n",
        "\n",
        "#Converts an integer to a real number (float)\n",
        "print(float(67))\n",
        "\n",
        "# Check the data type using \"type\" function\n",
        "## Results in integer data type\n",
        "print(type(66))\n",
        "\n",
        "## Results in a real number (float) data type\n",
        "print(type(float(67)))"
      ],
      "metadata": {
        "colab": {
          "base_uri": "https://localhost:8080/"
        },
        "id": "VInpkTDD8DpB",
        "outputId": "03e11aa7-b8a0-4bd2-e678-bd7f91b8ceb7"
      },
      "execution_count": 1,
      "outputs": [
        {
          "output_type": "stream",
          "name": "stdout",
          "text": [
            "66\n",
            "67.0\n",
            "<class 'int'>\n",
            "<class 'float'>\n"
          ]
        }
      ]
    },
    {
      "cell_type": "markdown",
      "source": [
        "Numbers and Arithmetic\n",
        "\n",
        "\n",
        "*   \"+\" for addition\n",
        "*   \"-\" for substraction\n",
        "*   \"*\" multiplication\n",
        "*   \"/\" division\n",
        "*   \"**\" or pow() for exponentiation\n",
        "*   \"%\" modulus to extract remainder\n",
        "*   \"//\" floor division to extract quotient\n",
        "\n",
        "\n",
        "\n",
        "\n",
        "\n",
        "\n"
      ],
      "metadata": {
        "id": "Glu_4NVK8UQI"
      }
    },
    {
      "cell_type": "code",
      "source": [
        "# addition using \"+\"\n",
        "3+7\n",
        "\n",
        "# subtraction using \"-\"\n",
        "9-7\n",
        "\n",
        "# multiplication using \"*\"\n",
        "7*8\n",
        "\n",
        "# division using \"/\"\n",
        "18/3\n",
        "\n",
        "# integer division through double slash\n",
        "9//2  # results in quotient\n",
        "\n",
        "# modulus results in remainder\n",
        "9%2\n",
        "13%7"
      ],
      "metadata": {
        "colab": {
          "base_uri": "https://localhost:8080/"
        },
        "id": "DLBfJRl18TAc",
        "outputId": "be638b61-5de2-45ce-dfe4-c0e436cc2485"
      },
      "execution_count": 2,
      "outputs": [
        {
          "output_type": "execute_result",
          "data": {
            "text/plain": [
              "6"
            ]
          },
          "metadata": {},
          "execution_count": 2
        }
      ]
    },
    {
      "cell_type": "markdown",
      "source": [
        "**Using multiple arithmetic operators**\n",
        "\n",
        "\n",
        "$FV= (PV*(1+r/n)^{nt})$ <br>\n",
        "\n",
        "where:\n",
        "\n",
        "PV = present value of money (say 1000 rupees) \n",
        "\n",
        "FV = future value of money (to be calculated)\n",
        "\n",
        "r = interest rate (say 6.25%)\n",
        "\n",
        "n = number of compounding periods (semi-anually)\n",
        "\n",
        "t = number of years (5 years)"
      ],
      "metadata": {
        "id": "Ko1KK-QI9H64"
      }
    },
    {
      "cell_type": "code",
      "source": [
        "# Calculation of future value using ** for exponentiation\n",
        "1000*(1+0.0625/2)**(2*5) "
      ],
      "metadata": {
        "colab": {
          "base_uri": "https://localhost:8080/"
        },
        "id": "sMCa2g0b9ReG",
        "outputId": "107a1fd1-6470-41de-bf1b-5456a80c9c79"
      },
      "execution_count": 3,
      "outputs": [
        {
          "output_type": "execute_result",
          "data": {
            "text/plain": [
              "1360.3154027780997"
            ]
          },
          "metadata": {},
          "execution_count": 3
        }
      ]
    },
    {
      "cell_type": "code",
      "source": [
        "# Calculation of future value using pow() for exponentiation\n",
        "1000*pow((1+0.0625/2), 2*5)"
      ],
      "metadata": {
        "colab": {
          "base_uri": "https://localhost:8080/"
        },
        "id": "Ff8zp0LR-gv1",
        "outputId": "87959300-556e-438f-c159-2ac3420caa23"
      },
      "execution_count": 4,
      "outputs": [
        {
          "output_type": "execute_result",
          "data": {
            "text/plain": [
              "1360.3154027780997"
            ]
          },
          "metadata": {},
          "execution_count": 4
        }
      ]
    },
    {
      "cell_type": "markdown",
      "source": [
        "**Complex Numbers Data Type**\n",
        "\n",
        "*  Python provides basic support to complex numbers.\n",
        "*  Recommend to use Numpy module for operations on complex numbers\n",
        "*  Complex numbers represented using \"j\" or \"J\"\n",
        "*  Use a numeric value before j, so that Python recognises it as a complex data type\n",
        "*  In case using j or J is difficult to represent complex numbers, then use the function complex() to represent complex numbers\n",
        "*  Use \"real\" to extract real numbers from complex numbers\n",
        "*  Use \"imag\" to extract imaginary part from complex numbers"
      ],
      "metadata": {
        "id": "w6VQMh469_DX"
      }
    },
    {
      "cell_type": "code",
      "source": [
        "# The below line of code throws an error as 'j' is not defined\n",
        "type(j)"
      ],
      "metadata": {
        "colab": {
          "base_uri": "https://localhost:8080/",
          "height": 184
        },
        "id": "2R3okpfr-ZYG",
        "outputId": "d619fe13-2059-4d8a-8290-24df5ddd07c8"
      },
      "execution_count": 5,
      "outputs": [
        {
          "output_type": "error",
          "ename": "NameError",
          "evalue": "ignored",
          "traceback": [
            "\u001b[0;31m---------------------------------------------------------------------------\u001b[0m",
            "\u001b[0;31mNameError\u001b[0m                                 Traceback (most recent call last)",
            "\u001b[0;32m<ipython-input-5-dad28ab41be9>\u001b[0m in \u001b[0;36m<module>\u001b[0;34m()\u001b[0m\n\u001b[1;32m      1\u001b[0m \u001b[0;31m# The below line of code throws an error as 'j' is not defined\u001b[0m\u001b[0;34m\u001b[0m\u001b[0;34m\u001b[0m\u001b[0;34m\u001b[0m\u001b[0m\n\u001b[0;32m----> 2\u001b[0;31m \u001b[0mtype\u001b[0m\u001b[0;34m(\u001b[0m\u001b[0mj\u001b[0m\u001b[0;34m)\u001b[0m\u001b[0;34m\u001b[0m\u001b[0;34m\u001b[0m\u001b[0m\n\u001b[0m",
            "\u001b[0;31mNameError\u001b[0m: name 'j' is not defined"
          ]
        }
      ]
    },
    {
      "cell_type": "code",
      "source": [
        "# now try this with a number attached to complex form 'j'\n",
        "\n",
        "type (1-2j)"
      ],
      "metadata": {
        "colab": {
          "base_uri": "https://localhost:8080/"
        },
        "id": "SxkGtspO-d9e",
        "outputId": "9c4f4e7a-673a-469c-8576-53677e7c62d3"
      },
      "execution_count": 7,
      "outputs": [
        {
          "output_type": "execute_result",
          "data": {
            "text/plain": [
              "complex"
            ]
          },
          "metadata": {},
          "execution_count": 7
        }
      ]
    },
    {
      "cell_type": "code",
      "source": [
        "1-2j # is same as\n",
        "complex(1,-2)"
      ],
      "metadata": {
        "id": "f6P4bN_q-rwT",
        "colab": {
          "base_uri": "https://localhost:8080/"
        },
        "outputId": "ab3fda16-99d6-49c9-d742-c007f9af77f8"
      },
      "execution_count": 8,
      "outputs": [
        {
          "output_type": "execute_result",
          "data": {
            "text/plain": [
              "(1-2j)"
            ]
          },
          "metadata": {},
          "execution_count": 8
        }
      ]
    },
    {
      "cell_type": "code",
      "source": [
        "cnum = 1-2j\n",
        "print(cnum.real)\n",
        "print(cnum.imag)\n",
        "cnum"
      ],
      "metadata": {
        "id": "DD4Sg85N-yFk",
        "colab": {
          "base_uri": "https://localhost:8080/"
        },
        "outputId": "d000acd0-9d1e-4522-bda5-c289ad865397"
      },
      "execution_count": 9,
      "outputs": [
        {
          "output_type": "stream",
          "name": "stdout",
          "text": [
            "1.0\n",
            "-2.0\n"
          ]
        },
        {
          "output_type": "execute_result",
          "data": {
            "text/plain": [
              "(1-2j)"
            ]
          },
          "metadata": {},
          "execution_count": 9
        }
      ]
    },
    {
      "cell_type": "markdown",
      "source": [
        "**Operations on complex numbers**\n",
        "\n",
        "*  Addition\n",
        "*  Subtraction\n",
        "*  Multiplication\n",
        "*  Division"
      ],
      "metadata": {
        "id": "VFqy6s70-3G4"
      }
    },
    {
      "cell_type": "code",
      "source": [
        "# Addition\n",
        "1+2j+2-3j"
      ],
      "metadata": {
        "id": "BPi3fguH-0oV",
        "colab": {
          "base_uri": "https://localhost:8080/"
        },
        "outputId": "88d4d847-cb82-491f-f25a-15161f2799e4"
      },
      "execution_count": 10,
      "outputs": [
        {
          "output_type": "execute_result",
          "data": {
            "text/plain": [
              "(3-1j)"
            ]
          },
          "metadata": {},
          "execution_count": 10
        }
      ]
    },
    {
      "cell_type": "code",
      "source": [
        "# Subtraction\n",
        "1+2j-(2-3j) "
      ],
      "metadata": {
        "id": "VmgRFRdj-_o3",
        "colab": {
          "base_uri": "https://localhost:8080/"
        },
        "outputId": "328ec0ea-d94d-48fe-d200-9e09e2a61b6f"
      },
      "execution_count": 11,
      "outputs": [
        {
          "output_type": "execute_result",
          "data": {
            "text/plain": [
              "(-1+5j)"
            ]
          },
          "metadata": {},
          "execution_count": 11
        }
      ]
    },
    {
      "cell_type": "code",
      "source": [
        "# Subtraction\n",
        "complex(1+2j) - complex(2-3j)"
      ],
      "metadata": {
        "id": "PodlkY5m_DDL",
        "colab": {
          "base_uri": "https://localhost:8080/"
        },
        "outputId": "98c08bcd-f380-4f8e-e67b-b0f832c44053"
      },
      "execution_count": 12,
      "outputs": [
        {
          "output_type": "execute_result",
          "data": {
            "text/plain": [
              "(-1+5j)"
            ]
          },
          "metadata": {},
          "execution_count": 12
        }
      ]
    },
    {
      "cell_type": "code",
      "source": [
        "# Multiplication\n",
        "(1+2j)*(2-3j) "
      ],
      "metadata": {
        "id": "7M0Zi9PC_GBZ",
        "colab": {
          "base_uri": "https://localhost:8080/"
        },
        "outputId": "7f3711b7-0f1e-431d-c82c-0ac6d9df0910"
      },
      "execution_count": 13,
      "outputs": [
        {
          "output_type": "execute_result",
          "data": {
            "text/plain": [
              "(8+1j)"
            ]
          },
          "metadata": {},
          "execution_count": 13
        }
      ]
    },
    {
      "cell_type": "code",
      "source": [
        "# Division\n",
        "(1+1j)/(2+4j) "
      ],
      "metadata": {
        "id": "tIuCmHGc_H7B",
        "colab": {
          "base_uri": "https://localhost:8080/"
        },
        "outputId": "60b4dc28-7b5f-4a53-8c2a-0680f907b508"
      },
      "execution_count": 14,
      "outputs": [
        {
          "output_type": "execute_result",
          "data": {
            "text/plain": [
              "(0.3-0.1j)"
            ]
          },
          "metadata": {},
          "execution_count": 14
        }
      ]
    },
    {
      "cell_type": "code",
      "source": [
        "# Division\n",
        "complex(1+1j) / complex(2+4j)"
      ],
      "metadata": {
        "id": "EpI4JFvq_KJR",
        "colab": {
          "base_uri": "https://localhost:8080/"
        },
        "outputId": "00643c70-d6ef-4424-947d-8c0c6c99a8d0"
      },
      "execution_count": 15,
      "outputs": [
        {
          "output_type": "execute_result",
          "data": {
            "text/plain": [
              "(0.3-0.1j)"
            ]
          },
          "metadata": {},
          "execution_count": 15
        }
      ]
    },
    {
      "cell_type": "code",
      "source": [
        "# Absolute value of a complex number\n",
        "abs(3+4j) # is equivalent to (3+4j)*(3-4j)"
      ],
      "metadata": {
        "id": "hC3J2wB8_QF4",
        "colab": {
          "base_uri": "https://localhost:8080/"
        },
        "outputId": "8874cc11-abad-4a39-f59f-b1c1c289ff40"
      },
      "execution_count": 16,
      "outputs": [
        {
          "output_type": "execute_result",
          "data": {
            "text/plain": [
              "5.0"
            ]
          },
          "metadata": {},
          "execution_count": 16
        }
      ]
    },
    {
      "cell_type": "markdown",
      "source": [
        "**Boolean Data Types**\n",
        "\n",
        "* Logical or Boolean Types\n",
        "* Conditional statements and iteration functions heavily rely on logical or boolean types in Python\n",
        "* Python is considered as a truthy language.\n",
        "* All things are true true except for the following:\n",
        "  1. None\n",
        "  2. False\n",
        "  3. zero of any numeric type, for example, 0, 0L, 0.0, 0j.\n",
        "  4. any empty sequence, for example, ”, (), [].\n",
        "  5. any empty mapping, for example, {}.\n",
        "  6. instances of user-defined classes, if the class defines a nonzero() or\n",
        "  7. len() method, when that method returns the integer zero or bool value\n",
        "False. \n",
        "\n",
        "\n",
        "Illustrations on Booleans or Logical Types are done below:"
      ],
      "metadata": {
        "id": "nBpAP4hj_drB"
      }
    },
    {
      "cell_type": "code",
      "source": [
        "# bool is the keyword to recognize boolean or logical types\n",
        "print(\"bool(0) is recognised as FALSE :\", bool(0))\n",
        "print(\"bool(1) is recognised as TRUE :\", bool(1))\n",
        "print(\"bool([]) is recognised as empty list, FALSE :\", bool([]))\n",
        "print(\"bool({}) is recognised as empty data dictionary, FALSE :\", bool({}))\n",
        "print(\"bool(()) is recognised as empty tuple, FALSE :\", bool(()))"
      ],
      "metadata": {
        "colab": {
          "base_uri": "https://localhost:8080/"
        },
        "id": "GsUmA0jy_Q09",
        "outputId": "6cc76111-9b17-4f35-a90f-e3d4a4dd7bd0"
      },
      "execution_count": 17,
      "outputs": [
        {
          "output_type": "stream",
          "name": "stdout",
          "text": [
            "bool(0) is recognised as FALSE : False\n",
            "bool(1) is recognised as TRUE : True\n",
            "bool([]) is recognised as empty list, FALSE : False\n",
            "bool({}) is recognised as empty data dictionary, FALSE : False\n",
            "bool(()) is recognised as empty tuple, FALSE : False\n"
          ]
        }
      ]
    },
    {
      "cell_type": "code",
      "source": [
        "# Comparisons\n",
        "# Comparing two values\n",
        "# Less than\n",
        "print(\"3 < 5 :\",3 < 5)\n",
        "# Greater than\n",
        "print(\"3 > 5 :\",3 > 5)\n",
        "\n",
        "# equal to\n",
        "print(\"3 == 5 :\", 3 == 5)\n",
        "\n",
        "# less than equal to\n",
        "print(\"3 <= 5 : \", 3 <= 5)\n",
        "\n",
        "# greater than equal to\n",
        "print(\"3 => 5 :\", 3 >= 5)\n",
        "\n",
        "# Not equal to\n",
        "print(\"3 != 5 : \", 3 != 5)"
      ],
      "metadata": {
        "colab": {
          "base_uri": "https://localhost:8080/"
        },
        "id": "Vy_QLt7UAVln",
        "outputId": "61b40053-d77c-4a96-b04a-49187765505f"
      },
      "execution_count": 18,
      "outputs": [
        {
          "output_type": "stream",
          "name": "stdout",
          "text": [
            "3 < 5 : True\n",
            "3 > 5 : False\n",
            "3 == 5 : False\n",
            "3 <= 5 :  True\n",
            "3 => 5 : False\n",
            "3 != 5 :  True\n"
          ]
        }
      ]
    },
    {
      "cell_type": "code",
      "source": [
        "# Comparisons\n",
        "# Comparing three values\n",
        "# Less than\n",
        "print(\"3 < 5 < 7 :\",3 < 5 < 7)\n",
        "# Greater than\n",
        "print(\"3 > 5 > 7 :\", 3 > 5 >7)\n",
        "\n",
        "# equal to\n",
        "print(\"3 == 5 == 7 :\", 3 == 5 == 7)\n",
        "\n",
        "# less than equal to\n",
        "print(\"3 <= 5 <= 7 : \", 3 <= 5 <= 7)\n",
        "\n",
        "# greater than equal to\n",
        "print(\"3 => 5 >= 7 :\", 3 >= 5 >= 7)\n",
        "\n",
        "# Not equal to\n",
        "print(\"3 != 5 != 7: \", 3 != 5 != 7)"
      ],
      "metadata": {
        "colab": {
          "base_uri": "https://localhost:8080/"
        },
        "id": "ShQIZs1gAbRt",
        "outputId": "c771079a-d1e3-456c-a738-f857d0bdc18a"
      },
      "execution_count": 19,
      "outputs": [
        {
          "output_type": "stream",
          "name": "stdout",
          "text": [
            "3 < 5 < 7 : True\n",
            "3 > 5 > 7 : False\n",
            "3 == 5 == 7 : False\n",
            "3 <= 5 <= 7 :  True\n",
            "3 => 5 >= 7 : False\n",
            "3 != 5 != 7:  True\n"
          ]
        }
      ]
    },
    {
      "cell_type": "markdown",
      "source": [
        "**Comparisons using**\n",
        "\n",
        "* disjunctions (or),\n",
        "* negations (not), and\n",
        "* conjunctions (and) also"
      ],
      "metadata": {
        "id": "Jrl9LMA1Aiky"
      }
    },
    {
      "cell_type": "code",
      "source": [
        "3 < 5 and 5 < 7 or 5 != 4"
      ],
      "metadata": {
        "colab": {
          "base_uri": "https://localhost:8080/"
        },
        "id": "Olsx5veBAuFW",
        "outputId": "b73ba06f-5bdb-430d-91e2-b6251f63cdfc"
      },
      "execution_count": 20,
      "outputs": [
        {
          "output_type": "execute_result",
          "data": {
            "text/plain": [
              "True"
            ]
          },
          "metadata": {},
          "execution_count": 20
        }
      ]
    },
    {
      "cell_type": "code",
      "source": [
        "# How does paranthesis change the interpretation?\n",
        "(3 > 5 and 5 < 7) or 5 == 4"
      ],
      "metadata": {
        "colab": {
          "base_uri": "https://localhost:8080/"
        },
        "id": "2U6SgjymA0X6",
        "outputId": "be1108eb-e4aa-4461-bf09-1462624d711b"
      },
      "execution_count": 21,
      "outputs": [
        {
          "output_type": "execute_result",
          "data": {
            "text/plain": [
              "False"
            ]
          },
          "metadata": {},
          "execution_count": 21
        }
      ]
    },
    {
      "cell_type": "code",
      "source": [
        "# How does paranthesis change the interpretation?\n",
        "3 > 5 and (5 < 7 or 5 == 4)"
      ],
      "metadata": {
        "colab": {
          "base_uri": "https://localhost:8080/"
        },
        "id": "IN6X_bK8A1Em",
        "outputId": "c953070d-a294-4d8c-a96f-c2ca44b868f2"
      },
      "execution_count": 22,
      "outputs": [
        {
          "output_type": "execute_result",
          "data": {
            "text/plain": [
              "False"
            ]
          },
          "metadata": {},
          "execution_count": 22
        }
      ]
    },
    {
      "cell_type": "code",
      "source": [
        "# How does paranthesis change the interpretation?\n",
        "3 < 5 and 5 > 7 or 5 != 4"
      ],
      "metadata": {
        "colab": {
          "base_uri": "https://localhost:8080/"
        },
        "id": "BWIa-xH4A3NJ",
        "outputId": "26726c46-e41e-4f57-c759-14428ece9aa4"
      },
      "execution_count": 23,
      "outputs": [
        {
          "output_type": "execute_result",
          "data": {
            "text/plain": [
              "True"
            ]
          },
          "metadata": {},
          "execution_count": 23
        }
      ]
    },
    {
      "cell_type": "code",
      "source": [
        "# How does paranthesis change the interpretation?\n",
        "(3 < 5 and 5 > 7) or 5 != 4"
      ],
      "metadata": {
        "colab": {
          "base_uri": "https://localhost:8080/"
        },
        "id": "IrLR5VnAA5Zz",
        "outputId": "e70d7979-6573-4e70-90a3-feb7c1bc30b0"
      },
      "execution_count": 24,
      "outputs": [
        {
          "output_type": "execute_result",
          "data": {
            "text/plain": [
              "True"
            ]
          },
          "metadata": {},
          "execution_count": 24
        }
      ]
    },
    {
      "cell_type": "code",
      "source": [
        "# How does paranthesis change the interpretation?\n",
        "3 < 5 and (5 > 7 or 5 != 4)"
      ],
      "metadata": {
        "colab": {
          "base_uri": "https://localhost:8080/"
        },
        "id": "-sC55sQZA9IK",
        "outputId": "46b9491c-356c-409b-b8d7-67095049d6a3"
      },
      "execution_count": 25,
      "outputs": [
        {
          "output_type": "execute_result",
          "data": {
            "text/plain": [
              "True"
            ]
          },
          "metadata": {},
          "execution_count": 25
        }
      ]
    },
    {
      "cell_type": "code",
      "source": [
        "## Group parantheses for readability\n",
        "# Similar to conditions used in conditional statements & iterables\n",
        "\n",
        "#left user    from system\n",
        "[-1,-2,-3] == (1,2,3)"
      ],
      "metadata": {
        "colab": {
          "base_uri": "https://localhost:8080/"
        },
        "id": "Vt5g_rh3A9us",
        "outputId": "594ef35e-d370-426c-f4a7-3dd202ada6a4"
      },
      "execution_count": 26,
      "outputs": [
        {
          "output_type": "execute_result",
          "data": {
            "text/plain": [
              "False"
            ]
          },
          "metadata": {},
          "execution_count": 26
        }
      ]
    },
    {
      "cell_type": "code",
      "source": [
        "(-1,-2,-3) > (1,2,3)"
      ],
      "metadata": {
        "colab": {
          "base_uri": "https://localhost:8080/"
        },
        "id": "Zr3nPKuhA_6t",
        "outputId": "62ef0dac-274a-4923-b85e-aa330563b9c4"
      },
      "execution_count": 27,
      "outputs": [
        {
          "output_type": "execute_result",
          "data": {
            "text/plain": [
              "False"
            ]
          },
          "metadata": {},
          "execution_count": 27
        }
      ]
    },
    {
      "cell_type": "code",
      "source": [
        "# Use sets to perform faster search \n",
        "gender = set({\"Male\", \"Female\", \"Other\"})\n",
        "\n",
        "\"Female\" in gender"
      ],
      "metadata": {
        "colab": {
          "base_uri": "https://localhost:8080/"
        },
        "id": "VRVzbwvyBB_H",
        "outputId": "242cb690-cdc9-43d0-baf4-cf249f8c6b8b"
      },
      "execution_count": 28,
      "outputs": [
        {
          "output_type": "execute_result",
          "data": {
            "text/plain": [
              "True"
            ]
          },
          "metadata": {},
          "execution_count": 28
        }
      ]
    },
    {
      "cell_type": "markdown",
      "source": [
        "**Strings Data Type**\n",
        "\n",
        "* Python handles strings with sophistication\n",
        "* Single or doble quotes define a string\n",
        "* Backslash (\\\\) is considered as an escape character for strings in Python"
      ],
      "metadata": {
        "id": "zui518cJCoeY"
      }
    },
    {
      "cell_type": "code",
      "source": [
        "'Hello'\n",
        "# the above line declares a string which is equivalent to declaration in the below line\n",
        "\"hello\""
      ],
      "metadata": {
        "id": "tKsZnH49Cv0d",
        "colab": {
          "base_uri": "https://localhost:8080/",
          "height": 35
        },
        "outputId": "75999f73-3b79-4546-9983-63b8d4467162"
      },
      "execution_count": 29,
      "outputs": [
        {
          "output_type": "execute_result",
          "data": {
            "text/plain": [
              "'hello'"
            ],
            "application/vnd.google.colaboratory.intrinsic+json": {
              "type": "string"
            }
          },
          "metadata": {},
          "execution_count": 29
        }
      ]
    },
    {
      "cell_type": "code",
      "source": [
        "'Insert \"double quote\" between two single quotes'"
      ],
      "metadata": {
        "id": "eJIUFqZ_C2xo",
        "colab": {
          "base_uri": "https://localhost:8080/",
          "height": 35
        },
        "outputId": "6c1edb6a-0e17-47dd-c9a6-e28559cfc1cd"
      },
      "execution_count": 30,
      "outputs": [
        {
          "output_type": "execute_result",
          "data": {
            "text/plain": [
              "'Insert \"double quote\" between two single quotes'"
            ],
            "application/vnd.google.colaboratory.intrinsic+json": {
              "type": "string"
            }
          },
          "metadata": {},
          "execution_count": 30
        }
      ]
    },
    {
      "cell_type": "code",
      "source": [
        "\"Insert \\\"double quote\\\" between two double quotes using an escape character\""
      ],
      "metadata": {
        "id": "qPkjniYIC20k",
        "colab": {
          "base_uri": "https://localhost:8080/",
          "height": 35
        },
        "outputId": "7ffd0e11-435f-491c-a0eb-b403cbc9252e"
      },
      "execution_count": 31,
      "outputs": [
        {
          "output_type": "execute_result",
          "data": {
            "text/plain": [
              "'Insert \"double quote\" between two double quotes using an escape character'"
            ],
            "application/vnd.google.colaboratory.intrinsic+json": {
              "type": "string"
            }
          },
          "metadata": {},
          "execution_count": 31
        }
      ]
    },
    {
      "cell_type": "code",
      "source": [
        "# Use double quotes to inlcude single quote within a string\n",
        "\"How's it?\""
      ],
      "metadata": {
        "id": "WtAQ92e6C24W",
        "colab": {
          "base_uri": "https://localhost:8080/",
          "height": 35
        },
        "outputId": "6a007e21-6e2b-4530-8da2-ceb36221ed55"
      },
      "execution_count": 32,
      "outputs": [
        {
          "output_type": "execute_result",
          "data": {
            "text/plain": [
              "\"How's it?\""
            ],
            "application/vnd.google.colaboratory.intrinsic+json": {
              "type": "string"
            }
          },
          "metadata": {},
          "execution_count": 32
        }
      ]
    },
    {
      "cell_type": "code",
      "source": [
        "# Use escape character to inlcude single quote within a string\n",
        "'How\\'s it?'"
      ],
      "metadata": {
        "id": "2RWaJOsJDDfa",
        "colab": {
          "base_uri": "https://localhost:8080/",
          "height": 35
        },
        "outputId": "27be991c-295f-4c84-ba94-52ce39aa773e"
      },
      "execution_count": 33,
      "outputs": [
        {
          "output_type": "execute_result",
          "data": {
            "text/plain": [
              "\"How's it?\""
            ],
            "application/vnd.google.colaboratory.intrinsic+json": {
              "type": "string"
            }
          },
          "metadata": {},
          "execution_count": 33
        }
      ]
    },
    {
      "cell_type": "code",
      "source": [
        "# Use the following format to include single quote as well as double quotes in a string.\n",
        "# Use escape character for a single quote, and leave double quotes as such\n",
        "'It\\'s, \"out!\"'"
      ],
      "metadata": {
        "id": "E3z6eiVIDDmv",
        "colab": {
          "base_uri": "https://localhost:8080/",
          "height": 35
        },
        "outputId": "bc605a32-43d9-48a6-ffcd-7c2d7ba2e0fa"
      },
      "execution_count": 34,
      "outputs": [
        {
          "output_type": "execute_result",
          "data": {
            "text/plain": [
              "'It\\'s, \"out!\"'"
            ],
            "application/vnd.google.colaboratory.intrinsic+json": {
              "type": "string"
            }
          },
          "metadata": {},
          "execution_count": 34
        }
      ]
    },
    {
      "cell_type": "markdown",
      "source": [
        "**Strings are immutable**\n",
        "\n",
        "Immutable implies cannot be modified or updated"
      ],
      "metadata": {
        "id": "57iArJhKDK3W"
      }
    },
    {
      "cell_type": "code",
      "source": [
        "# Illustration of Strings Immutability\n",
        "string1 = \"Python\"\n",
        "print(string1)"
      ],
      "metadata": {
        "id": "BBzAPTAkDIJZ",
        "colab": {
          "base_uri": "https://localhost:8080/"
        },
        "outputId": "3a7344bc-4165-4fad-ff90-d5912d140590"
      },
      "execution_count": 35,
      "outputs": [
        {
          "output_type": "stream",
          "name": "stdout",
          "text": [
            "Python\n"
          ]
        }
      ]
    },
    {
      "cell_type": "code",
      "source": [
        "string1[5-1]"
      ],
      "metadata": {
        "id": "_6odCE8LDIO8",
        "colab": {
          "base_uri": "https://localhost:8080/",
          "height": 35
        },
        "outputId": "22538e4b-19c2-43c0-ab58-4d9e2097a39d"
      },
      "execution_count": 36,
      "outputs": [
        {
          "output_type": "execute_result",
          "data": {
            "text/plain": [
              "'o'"
            ],
            "application/vnd.google.colaboratory.intrinsic+json": {
              "type": "string"
            }
          },
          "metadata": {},
          "execution_count": 36
        }
      ]
    },
    {
      "cell_type": "code",
      "source": [
        "string1[1] = \"i\""
      ],
      "metadata": {
        "id": "kmLwTBCmDIXK",
        "colab": {
          "base_uri": "https://localhost:8080/",
          "height": 166
        },
        "outputId": "39fd120d-c7bf-4a80-fe58-f9fc93637a6a"
      },
      "execution_count": 38,
      "outputs": [
        {
          "output_type": "error",
          "ename": "TypeError",
          "evalue": "ignored",
          "traceback": [
            "\u001b[0;31m---------------------------------------------------------------------------\u001b[0m",
            "\u001b[0;31mTypeError\u001b[0m                                 Traceback (most recent call last)",
            "\u001b[0;32m<ipython-input-38-299d6df847fc>\u001b[0m in \u001b[0;36m<module>\u001b[0;34m()\u001b[0m\n\u001b[0;32m----> 1\u001b[0;31m \u001b[0mstring1\u001b[0m\u001b[0;34m[\u001b[0m\u001b[0;36m1\u001b[0m\u001b[0;34m]\u001b[0m \u001b[0;34m=\u001b[0m \u001b[0;34m\"i\"\u001b[0m\u001b[0;34m\u001b[0m\u001b[0;34m\u001b[0m\u001b[0m\n\u001b[0m",
            "\u001b[0;31mTypeError\u001b[0m: 'str' object does not support item assignment"
          ]
        }
      ]
    },
    {
      "cell_type": "markdown",
      "source": [
        "**Strings are encoded as UTF-8**\n",
        "\n",
        "* Python does not detect string literals as bytes.\n",
        "* Assume you declared x variable with a string, then x is considered as string literal\n",
        "  * x = \"Hello Python!\"\n",
        "  * x is a string literal in Python\n",
        "  * x defined as string literal can be converted into bytes format using encode() function\n",
        "*Likewise, any string literal in byte format cane be converted to string format using decode() function\n",
        "\n",
        "Illustration in the following cells:"
      ],
      "metadata": {
        "id": "3u5QtmnPDhP2"
      }
    },
    {
      "cell_type": "code",
      "source": [
        "# Assign x to mu\n",
        "x = \"μ\"\n",
        "#Check the length of the string x\n",
        "len(x)"
      ],
      "metadata": {
        "id": "XlVXD16XDsT9",
        "colab": {
          "base_uri": "https://localhost:8080/"
        },
        "outputId": "e3b3ad3e-216f-4a84-fb4d-b6576a7f1842"
      },
      "execution_count": 39,
      "outputs": [
        {
          "output_type": "execute_result",
          "data": {
            "text/plain": [
              "1"
            ]
          },
          "metadata": {},
          "execution_count": 39
        }
      ]
    },
    {
      "cell_type": "code",
      "source": [
        "# Verify if x is string literal format\n",
        "isinstance(x, str)"
      ],
      "metadata": {
        "id": "t3mUSuMCDtEd",
        "colab": {
          "base_uri": "https://localhost:8080/"
        },
        "outputId": "96f34a31-cb98-48c6-a4c8-e0242cbf18b0"
      },
      "execution_count": 40,
      "outputs": [
        {
          "output_type": "execute_result",
          "data": {
            "text/plain": [
              "True"
            ]
          },
          "metadata": {},
          "execution_count": 40
        }
      ]
    },
    {
      "cell_type": "code",
      "source": [
        "# Verify if x is in bytes format\n",
        "isinstance(x, bytes)"
      ],
      "metadata": {
        "id": "a6jGfZLSDvVe",
        "colab": {
          "base_uri": "https://localhost:8080/"
        },
        "outputId": "c30d06e2-0dc6-443a-ab37-b67411db4d18"
      },
      "execution_count": 41,
      "outputs": [
        {
          "output_type": "execute_result",
          "data": {
            "text/plain": [
              "False"
            ]
          },
          "metadata": {},
          "execution_count": 41
        }
      ]
    },
    {
      "cell_type": "code",
      "source": [
        "# Convert string literal x to bytes format using encode() function\n",
        "x.encode('utf8')\n",
        "y = x.encode('utf8')\n",
        "print(y)"
      ],
      "metadata": {
        "id": "lOrzDPk7Dvrz",
        "colab": {
          "base_uri": "https://localhost:8080/"
        },
        "outputId": "f4c2094e-6d56-4672-ccb2-f8cdb0561d44"
      },
      "execution_count": 42,
      "outputs": [
        {
          "output_type": "stream",
          "name": "stdout",
          "text": [
            "b'\\xce\\xbc'\n"
          ]
        }
      ]
    },
    {
      "cell_type": "code",
      "source": [
        "# Verify if y is string literal format\n",
        "isinstance(y,str)"
      ],
      "metadata": {
        "id": "roO_XGdrDvvI",
        "colab": {
          "base_uri": "https://localhost:8080/"
        },
        "outputId": "7eeb2ab8-8cdc-478f-8bfa-c7a9a7a823c2"
      },
      "execution_count": 43,
      "outputs": [
        {
          "output_type": "execute_result",
          "data": {
            "text/plain": [
              "False"
            ]
          },
          "metadata": {},
          "execution_count": 43
        }
      ]
    },
    {
      "cell_type": "code",
      "source": [
        "# Verify if x is bytes format\n",
        "isinstance(y, bytes)"
      ],
      "metadata": {
        "id": "P8PQ1-PlDvyp",
        "colab": {
          "base_uri": "https://localhost:8080/"
        },
        "outputId": "ad70d8f5-6198-4871-a0c6-0f4c6b2a0edf"
      },
      "execution_count": 44,
      "outputs": [
        {
          "output_type": "execute_result",
          "data": {
            "text/plain": [
              "True"
            ]
          },
          "metadata": {},
          "execution_count": 44
        }
      ]
    },
    {
      "cell_type": "code",
      "source": [
        "# Convert y to string using decode() function\n",
        "y.decode('utf8')"
      ],
      "metadata": {
        "id": "Q9PSoB5yD3_o",
        "colab": {
          "base_uri": "https://localhost:8080/",
          "height": 35
        },
        "outputId": "d4a2cde6-5b76-49a3-d519-da38912a1499"
      },
      "execution_count": 45,
      "outputs": [
        {
          "output_type": "execute_result",
          "data": {
            "text/plain": [
              "'μ'"
            ],
            "application/vnd.google.colaboratory.intrinsic+json": {
              "type": "string"
            }
          },
          "metadata": {},
          "execution_count": 45
        }
      ]
    },
    {
      "cell_type": "markdown",
      "source": [
        "# **Operations on strings**\n",
        "\n",
        "Using re module, i.e., regular expressions module, powerful operations in strings may be performed A few common operations:\n",
        "\n",
        "* Slicing strings\n",
        "\n",
        "* Concatenate strings\n",
        "* Duplication of strings\n",
        "\n",
        "* Strings substitution\n",
        "\n",
        "* Formatting Strings\n",
        "\n",
        "# **Slicing Strings**\n",
        "\n",
        "* Say a string contains employee ID in this format\n",
        "* Year of joining (four digits)\n",
        "* Department (three characters)\n",
        "* Six digit unique code (Six digits)\n",
        "* Examples:\n",
        "  1. 2009HRM9842\n",
        "  2. 2017ITO8901\n",
        "\n",
        "* Say you want to extract year, department or unique empolyee code\n",
        "\n",
        "* You would use strings slicing operations"
      ],
      "metadata": {
        "id": "KYbf92eoD-fS"
      }
    },
    {
      "cell_type": "code",
      "source": [
        "# Assign employee ID 1 and Employee ID 2\n",
        "empID1 = \"2009HRM9842\"\n",
        "empID2 = \"2017ITO8901\""
      ],
      "metadata": {
        "id": "MMOuMXCPD4Dl"
      },
      "execution_count": 46,
      "outputs": []
    },
    {
      "cell_type": "markdown",
      "source": [
        "**Python is zero indexed**\n",
        "\n",
        "* Value in the first position begins at position 0\n",
        "\n",
        "* Value in the last position is identified at n-1\n",
        "\n",
        "* Values between 0 and n-1 may be accordingly found\n",
        "\n",
        "* When slicing, between two positions (m and n), begin the slicing at m-1 and end at n\n",
        "\n",
        "Illustrations provided below:"
      ],
      "metadata": {
        "id": "7ctTzktoEpZT"
      }
    },
    {
      "cell_type": "code",
      "source": [
        "## Extract first element in empID1\n",
        "print(empID1[0])\n",
        "## Extract last element in empID1\n",
        "print(empID1[10]) #orempID1[-1]\n",
        "\n",
        "# extract R\n",
        "print(empID1[6-1]) "
      ],
      "metadata": {
        "id": "uTviP3--ElNH",
        "colab": {
          "base_uri": "https://localhost:8080/"
        },
        "outputId": "813ffbf8-e3d4-400e-9028-8753f75beff0"
      },
      "execution_count": 47,
      "outputs": [
        {
          "output_type": "stream",
          "name": "stdout",
          "text": [
            "2\n",
            "2\n",
            "R\n"
          ]
        }
      ]
    },
    {
      "cell_type": "code",
      "source": [
        "empID1 = \"2009HRM9842\"\n",
        "print(empID1[0])\n",
        "print(empID1[1])\n",
        "print(empID1[2])\n",
        "print(empID1[3])\n",
        "print(empID1[4])"
      ],
      "metadata": {
        "id": "dVVR-w3DElR4",
        "colab": {
          "base_uri": "https://localhost:8080/"
        },
        "outputId": "91c5382a-0df4-44aa-ada3-fa0dea7b0f1a"
      },
      "execution_count": 48,
      "outputs": [
        {
          "output_type": "stream",
          "name": "stdout",
          "text": [
            "2\n",
            "0\n",
            "0\n",
            "9\n",
            "H\n"
          ]
        }
      ]
    },
    {
      "cell_type": "code",
      "source": [
        "# Extract year from Employee ID 1 and Employee ID 2\n",
        "print(empID1[0:4])\n",
        "print(empID2[0:4])"
      ],
      "metadata": {
        "id": "HhsCMk2yElVI",
        "colab": {
          "base_uri": "https://localhost:8080/"
        },
        "outputId": "93deca25-a372-4406-fe9c-1e69d4e472b1"
      },
      "execution_count": 49,
      "outputs": [
        {
          "output_type": "stream",
          "name": "stdout",
          "text": [
            "2009\n",
            "2017\n"
          ]
        }
      ]
    },
    {
      "cell_type": "code",
      "source": [
        "# Extract Department\n",
        "empID1[4:7]"
      ],
      "metadata": {
        "id": "B6ainEnwElYe",
        "colab": {
          "base_uri": "https://localhost:8080/",
          "height": 35
        },
        "outputId": "3ac86f0c-0ace-44bc-c810-ba0db50636cb"
      },
      "execution_count": 50,
      "outputs": [
        {
          "output_type": "execute_result",
          "data": {
            "text/plain": [
              "'HRM'"
            ],
            "application/vnd.google.colaboratory.intrinsic+json": {
              "type": "string"
            }
          },
          "metadata": {},
          "execution_count": 50
        }
      ]
    },
    {
      "cell_type": "code",
      "source": [
        "# Extract Unique Code\n",
        "empID1[7:11]"
      ],
      "metadata": {
        "id": "pLX-YMD4E5Wh",
        "colab": {
          "base_uri": "https://localhost:8080/",
          "height": 35
        },
        "outputId": "a6c3defa-10e4-41d7-a55a-a5a554ebe131"
      },
      "execution_count": 51,
      "outputs": [
        {
          "output_type": "execute_result",
          "data": {
            "text/plain": [
              "'9842'"
            ],
            "application/vnd.google.colaboratory.intrinsic+json": {
              "type": "string"
            }
          },
          "metadata": {},
          "execution_count": 51
        }
      ]
    },
    {
      "cell_type": "code",
      "source": [
        "# Select all values from 2nd position to the last position\n",
        "empID1[2:]"
      ],
      "metadata": {
        "id": "JrS4wfUnE5mZ",
        "colab": {
          "base_uri": "https://localhost:8080/",
          "height": 35
        },
        "outputId": "a6cfd226-80d5-4ea0-b70b-c6072e79afb9"
      },
      "execution_count": 52,
      "outputs": [
        {
          "output_type": "execute_result",
          "data": {
            "text/plain": [
              "'09HRM9842'"
            ],
            "application/vnd.google.colaboratory.intrinsic+json": {
              "type": "string"
            }
          },
          "metadata": {},
          "execution_count": 52
        }
      ]
    },
    {
      "cell_type": "code",
      "source": [
        "# Select all values from 0'th position to 2nd position\n",
        "empID1[:2]"
      ],
      "metadata": {
        "id": "jqUvTH-gFBUu",
        "colab": {
          "base_uri": "https://localhost:8080/",
          "height": 35
        },
        "outputId": "8effc6d3-469c-4ef5-93a7-ea0abd4e1ceb"
      },
      "execution_count": 53,
      "outputs": [
        {
          "output_type": "execute_result",
          "data": {
            "text/plain": [
              "'20'"
            ],
            "application/vnd.google.colaboratory.intrinsic+json": {
              "type": "string"
            }
          },
          "metadata": {},
          "execution_count": 53
        }
      ]
    },
    {
      "cell_type": "markdown",
      "source": [
        "**Concatenate Strings**\n",
        "\n",
        "* use \"+\" operator to concatenate strings. or\n",
        "\n",
        "* use both strings with parantheses and without comma (Note: Do not assign strings to variables)"
      ],
      "metadata": {
        "id": "-aynua1AFGUD"
      }
    },
    {
      "cell_type": "code",
      "source": [
        "# Concatenate strings with \"+\" operator\n",
        "string1 = \"PIEMR\"\n",
        "string2 = \"Indore\"\n",
        "print(string1)\n",
        "print(string2)\n",
        "print(string1 + string2) #concatenate two strings\n",
        "print(string1 + \" \" + string2 +\"!\") #concatenate two strings with space and exclamation"
      ],
      "metadata": {
        "id": "TQJrV7xHFBX8",
        "colab": {
          "base_uri": "https://localhost:8080/"
        },
        "outputId": "bbb13d26-aca8-4ed7-e79f-02745ffd1c16"
      },
      "execution_count": 54,
      "outputs": [
        {
          "output_type": "stream",
          "name": "stdout",
          "text": [
            "PIEMR\n",
            "Indore\n",
            "PIEMRIndore\n",
            "PIEMR Indore!\n"
          ]
        }
      ]
    },
    {
      "cell_type": "code",
      "source": [
        "# Concatenate strings with parantheses\n",
        "print((\"PIEMR\" \"Indore\")) #concatenate two strings\n",
        "print((\"PIEMR\" \" \" \"Indore\" \"!\")) #concatenate two strings with space and exclamation"
      ],
      "metadata": {
        "id": "SxsGhY7mFTXM",
        "colab": {
          "base_uri": "https://localhost:8080/"
        },
        "outputId": "a59a82e6-408c-4edc-9727-ee851c631f59"
      },
      "execution_count": 55,
      "outputs": [
        {
          "output_type": "stream",
          "name": "stdout",
          "text": [
            "PIEMRIndore\n",
            "PIEMR Indore!\n"
          ]
        }
      ]
    },
    {
      "cell_type": "markdown",
      "source": [
        "**Duplication of strings**\n",
        "\n",
        "use \"*\" operator to duplicate strings"
      ],
      "metadata": {
        "id": "7jEMSqZIFVua"
      }
    },
    {
      "cell_type": "code",
      "source": [
        "# Duplicate string1 for five times\n",
        "string1 = \"PIEMR\"\n",
        "string1 * 5"
      ],
      "metadata": {
        "id": "RvZ9cuS_FacD",
        "colab": {
          "base_uri": "https://localhost:8080/",
          "height": 35
        },
        "outputId": "39029f04-95ad-476d-a290-8fe4fe3baf7c"
      },
      "execution_count": 56,
      "outputs": [
        {
          "output_type": "execute_result",
          "data": {
            "text/plain": [
              "'PIEMRPIEMRPIEMRPIEMRPIEMR'"
            ],
            "application/vnd.google.colaboratory.intrinsic+json": {
              "type": "string"
            }
          },
          "metadata": {},
          "execution_count": 56
        }
      ]
    },
    {
      "cell_type": "code",
      "source": [
        "# Duplicate string \"Indore\" thrice\n",
        "'Indore'*3 #or \"Indore\"*3"
      ],
      "metadata": {
        "id": "r6p1y9DFFafg",
        "colab": {
          "base_uri": "https://localhost:8080/",
          "height": 35
        },
        "outputId": "f386a974-d7cf-4641-aa5a-6a15d23a7f70"
      },
      "execution_count": 57,
      "outputs": [
        {
          "output_type": "execute_result",
          "data": {
            "text/plain": [
              "'IndoreIndoreIndore'"
            ],
            "application/vnd.google.colaboratory.intrinsic+json": {
              "type": "string"
            }
          },
          "metadata": {},
          "execution_count": 57
        }
      ]
    },
    {
      "cell_type": "code",
      "source": [
        "\"Indore\"*3"
      ],
      "metadata": {
        "id": "VDDftSGIFaix",
        "colab": {
          "base_uri": "https://localhost:8080/",
          "height": 35
        },
        "outputId": "c0978879-7a68-4532-e1d4-4505f7cf8e02"
      },
      "execution_count": 58,
      "outputs": [
        {
          "output_type": "execute_result",
          "data": {
            "text/plain": [
              "'IndoreIndoreIndore'"
            ],
            "application/vnd.google.colaboratory.intrinsic+json": {
              "type": "string"
            }
          },
          "metadata": {},
          "execution_count": 58
        }
      ]
    },
    {
      "cell_type": "markdown",
      "source": [
        "use replace() function from re module (regular expressions module)"
      ],
      "metadata": {
        "id": "Yxhx6cqjFkQc"
      }
    },
    {
      "cell_type": "code",
      "source": [
        "string1 = \" Indore is the cleanest city of M.P. \"\n",
        "string2 = \"India\"\n",
        "\n",
        "# Substitute M.P. with India in string1\n",
        "string1\n",
        "string1.replace('M.P.', 'India')"
      ],
      "metadata": {
        "id": "tmYORWvUFalS",
        "colab": {
          "base_uri": "https://localhost:8080/",
          "height": 35
        },
        "outputId": "013bb937-000c-41ec-d311-29f1a792b27b"
      },
      "execution_count": 59,
      "outputs": [
        {
          "output_type": "execute_result",
          "data": {
            "text/plain": [
              "' Indore is the cleanest city of India '"
            ],
            "application/vnd.google.colaboratory.intrinsic+json": {
              "type": "string"
            }
          },
          "metadata": {},
          "execution_count": 59
        }
      ]
    },
    {
      "cell_type": "markdown",
      "source": [
        "# Formatting Strings\n",
        "\n",
        "Several methods to format strings in Python. A few techniques discussed below:\n",
        "\n",
        "* Append type followed by value (in paranthesis)\n",
        "*use \"+\" operator to combine string and value\n",
        "\n",
        "**Note:**\n",
        "\n",
        "* use %d for integer data types\n",
        "* use %f for float data types\n",
        "* use 5s for string data types\n",
        "\n",
        "Illustrations shown below:"
      ],
      "metadata": {
        "id": "AKbyx723FrZ7"
      }
    },
    {
      "cell_type": "code",
      "source": [
        "# Append type followed by value (in paranthesis)\n",
        "\"The result of 5x3 = %d\" %(15)"
      ],
      "metadata": {
        "id": "atz7fOmsF2fr",
        "colab": {
          "base_uri": "https://localhost:8080/",
          "height": 35
        },
        "outputId": "b584491e-c53a-4e44-c963-38b56c3ce162"
      },
      "execution_count": 60,
      "outputs": [
        {
          "output_type": "execute_result",
          "data": {
            "text/plain": [
              "'The result of 5x3 = 15'"
            ],
            "application/vnd.google.colaboratory.intrinsic+json": {
              "type": "string"
            }
          },
          "metadata": {},
          "execution_count": 60
        }
      ]
    },
    {
      "cell_type": "code",
      "source": [
        "# Append type followed by value (in paranthesis): integer data type\n",
        "\"The result of 5x3.5 = %d\" %(17.5)"
      ],
      "metadata": {
        "id": "YAD8HnfuF2mH",
        "colab": {
          "base_uri": "https://localhost:8080/",
          "height": 35
        },
        "outputId": "bebede9c-f668-423c-e0e8-6ac2b1744f09"
      },
      "execution_count": 61,
      "outputs": [
        {
          "output_type": "execute_result",
          "data": {
            "text/plain": [
              "'The result of 5x3.5 = 17'"
            ],
            "application/vnd.google.colaboratory.intrinsic+json": {
              "type": "string"
            }
          },
          "metadata": {},
          "execution_count": 61
        }
      ]
    },
    {
      "cell_type": "code",
      "source": [
        "# Append type followed by value (in paranthesis) : float data type\n",
        "\"The result of 10/4 = %f\" %(2.5)"
      ],
      "metadata": {
        "id": "PS1vmSNsF2pS",
        "colab": {
          "base_uri": "https://localhost:8080/",
          "height": 35
        },
        "outputId": "43b8b00b-5320-4761-defe-b6b4342bb68a"
      },
      "execution_count": 62,
      "outputs": [
        {
          "output_type": "execute_result",
          "data": {
            "text/plain": [
              "'The result of 10/4 = 2.500000'"
            ],
            "application/vnd.google.colaboratory.intrinsic+json": {
              "type": "string"
            }
          },
          "metadata": {},
          "execution_count": 62
        }
      ]
    },
    {
      "cell_type": "code",
      "source": [
        "# Append type followed by value (in paranthesis) : string data type\n",
        "\"You are programming in %s\" %(\"Python\")"
      ],
      "metadata": {
        "id": "LBeOamdsF2tJ",
        "colab": {
          "base_uri": "https://localhost:8080/",
          "height": 35
        },
        "outputId": "3d7f686f-ceb5-4ee4-d6fe-3e51e5a6dc94"
      },
      "execution_count": 63,
      "outputs": [
        {
          "output_type": "execute_result",
          "data": {
            "text/plain": [
              "'You are programming in Python'"
            ],
            "application/vnd.google.colaboratory.intrinsic+json": {
              "type": "string"
            }
          },
          "metadata": {},
          "execution_count": 63
        }
      ]
    },
    {
      "cell_type": "code",
      "source": [
        "# Append using + operator: integer data type\n",
        "\"The result of 5x3 = \" +str(15)"
      ],
      "metadata": {
        "id": "oS2WP55CF2wG",
        "colab": {
          "base_uri": "https://localhost:8080/",
          "height": 35
        },
        "outputId": "9ac935f7-7578-4298-bd5d-59e8cf31385f"
      },
      "execution_count": 64,
      "outputs": [
        {
          "output_type": "execute_result",
          "data": {
            "text/plain": [
              "'The result of 5x3 = 15'"
            ],
            "application/vnd.google.colaboratory.intrinsic+json": {
              "type": "string"
            }
          },
          "metadata": {},
          "execution_count": 64
        }
      ]
    },
    {
      "cell_type": "code",
      "source": [
        "# Append using + operator : float data type\n",
        "\"The result of 10/4 = \" +str(10/4)"
      ],
      "metadata": {
        "id": "URChDQrbGASi",
        "colab": {
          "base_uri": "https://localhost:8080/",
          "height": 35
        },
        "outputId": "7680869d-d6d5-474d-ce4a-96a727e38aad"
      },
      "execution_count": 65,
      "outputs": [
        {
          "output_type": "execute_result",
          "data": {
            "text/plain": [
              "'The result of 10/4 = 2.5'"
            ],
            "application/vnd.google.colaboratory.intrinsic+json": {
              "type": "string"
            }
          },
          "metadata": {},
          "execution_count": 65
        }
      ]
    },
    {
      "cell_type": "code",
      "source": [
        "# Append using + operator : string data type\n",
        "\"You are programming in \" +str(\"Python\")"
      ],
      "metadata": {
        "id": "foOR14GNGAVl",
        "colab": {
          "base_uri": "https://localhost:8080/",
          "height": 35
        },
        "outputId": "5a942287-41df-4196-957b-26a5829d4086"
      },
      "execution_count": 66,
      "outputs": [
        {
          "output_type": "execute_result",
          "data": {
            "text/plain": [
              "'You are programming in Python'"
            ],
            "application/vnd.google.colaboratory.intrinsic+json": {
              "type": "string"
            }
          },
          "metadata": {},
          "execution_count": 66
        }
      ]
    }
  ]
}