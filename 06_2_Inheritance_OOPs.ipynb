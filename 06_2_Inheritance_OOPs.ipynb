{
  "nbformat": 4,
  "nbformat_minor": 0,
  "metadata": {
    "colab": {
      "name": "06_2 Inheritance OOPs.ipynb",
      "provenance": [],
      "authorship_tag": "ABX9TyOqR4iu2cnoQvxMlF1h3jRg",
      "include_colab_link": true
    },
    "kernelspec": {
      "name": "python3",
      "display_name": "Python 3"
    },
    "language_info": {
      "name": "python"
    }
  },
  "cells": [
    {
      "cell_type": "markdown",
      "metadata": {
        "id": "view-in-github",
        "colab_type": "text"
      },
      "source": [
        "<a href=\"https://colab.research.google.com/github/revendrat/AI-ML-Workshop-PIEMR-/blob/main/06_2_Inheritance_OOPs.ipynb\" target=\"_parent\"><img src=\"https://colab.research.google.com/assets/colab-badge.svg\" alt=\"Open In Colab\"/></a>"
      ]
    },
    {
      "cell_type": "code",
      "execution_count": 1,
      "metadata": {
        "id": "RLkOR7VaekxH"
      },
      "outputs": [],
      "source": [
        "stocks_dict = {\"INFY\":\"IT\", \"TCS\": \"IT\", \"HDFC\": \"BANK\", \"TATA MOTORS\": \"AUTO\", \"RELIANCE\": \"EVERYTHING\" }"
      ]
    },
    {
      "cell_type": "code",
      "source": [
        "# Create a class of Stock\n",
        "class Stock(): #note superclass is not used\n",
        "    def __init__(self, stock_name, ex_name):\n",
        "        #self.stock_name = \"RELIANCE\"\n",
        "        self.stock_name = stock_name\n",
        "        self.ex_name    = ex_name\n",
        "    \n",
        "    def display_stock(self):\n",
        "        print(\"The selected stock is \" +self.stock_name )\n",
        "        print(\"The selected stock trades at exchange \" +self.ex_name )"
      ],
      "metadata": {
        "id": "RSvqbgHwetIV"
      },
      "execution_count": 10,
      "outputs": []
    },
    {
      "cell_type": "code",
      "source": [
        "# the stocks class expects two arguments. Throws an error when you pass single argument\n",
        "stock_object = Stock(ex_name=\"NSE\")\n",
        "stock_object.display_stock()"
      ],
      "metadata": {
        "colab": {
          "base_uri": "https://localhost:8080/",
          "height": 184
        },
        "id": "rQ2ws3MHevbB",
        "outputId": "3a97923a-37ae-4163-cb43-f6f6ddccdfb4"
      },
      "execution_count": 11,
      "outputs": [
        {
          "output_type": "error",
          "ename": "TypeError",
          "evalue": "ignored",
          "traceback": [
            "\u001b[0;31m---------------------------------------------------------------------------\u001b[0m",
            "\u001b[0;31mTypeError\u001b[0m                                 Traceback (most recent call last)",
            "\u001b[0;32m<ipython-input-11-a41d32b527d3>\u001b[0m in \u001b[0;36m<module>\u001b[0;34m()\u001b[0m\n\u001b[0;32m----> 1\u001b[0;31m \u001b[0mstock_object\u001b[0m \u001b[0;34m=\u001b[0m \u001b[0mStock\u001b[0m\u001b[0;34m(\u001b[0m\u001b[0mex_name\u001b[0m\u001b[0;34m=\u001b[0m\u001b[0;34m\"NSE\"\u001b[0m\u001b[0;34m)\u001b[0m\u001b[0;34m\u001b[0m\u001b[0;34m\u001b[0m\u001b[0m\n\u001b[0m\u001b[1;32m      2\u001b[0m \u001b[0mstock_object\u001b[0m\u001b[0;34m.\u001b[0m\u001b[0mdisplay_stock\u001b[0m\u001b[0;34m(\u001b[0m\u001b[0;34m)\u001b[0m\u001b[0;34m\u001b[0m\u001b[0;34m\u001b[0m\u001b[0m\n",
            "\u001b[0;31mTypeError\u001b[0m: __init__() missing 1 required positional argument: 'stock_name'"
          ]
        }
      ]
    },
    {
      "cell_type": "code",
      "source": [
        "infy_object = Stock(\"INFY\", \"NSE\")\n",
        "infy_object.display_stock()"
      ],
      "metadata": {
        "colab": {
          "base_uri": "https://localhost:8080/"
        },
        "id": "62tRtg9Ee0rE",
        "outputId": "88a8260b-36a1-44a0-f352-8d5c9e5ad832"
      },
      "execution_count": 12,
      "outputs": [
        {
          "output_type": "stream",
          "name": "stdout",
          "text": [
            "The selected stock is INFY\n",
            "The selected stock trades at exchange NSE\n"
          ]
        }
      ]
    },
    {
      "cell_type": "code",
      "source": [
        "# Create a Stocksector() class and inherit name and exchange from Stock() class\n",
        "class Stocksector(Stock):\n",
        "    def display_sector(self):\n",
        "        x = stocks_dict[self.stock_name]\n",
        "        print(\"The selected stock is \" +self.stock_name + \" and sector is : \" + x)"
      ],
      "metadata": {
        "id": "0j5QxWZfe38s"
      },
      "execution_count": 13,
      "outputs": []
    },
    {
      "cell_type": "code",
      "source": [
        "hdfc_object = Stocksector(\"HDFC\", \"NSE\")\n",
        "hdfc_object.display_stock()\n",
        "hdfc_object.display_sector()"
      ],
      "metadata": {
        "colab": {
          "base_uri": "https://localhost:8080/"
        },
        "id": "r35rYvRTe7XZ",
        "outputId": "7c868c9a-2c06-4125-bb91-0218224f3baf"
      },
      "execution_count": 14,
      "outputs": [
        {
          "output_type": "stream",
          "name": "stdout",
          "text": [
            "The selected stock is HDFC\n",
            "The selected stock trades at exchange NSE\n",
            "The selected stock is HDFC and sector is : BANK\n"
          ]
        }
      ]
    },
    {
      "cell_type": "markdown",
      "source": [
        "## Inheriting and Method Overriding"
      ],
      "metadata": {
        "id": "07skzYmFf8RE"
      }
    },
    {
      "cell_type": "code",
      "source": [
        "infy_object = Stocksector(\"RELIANCE\", \"NSE\")\n",
        "infy_object.display_stock()\n",
        "infy_object.display_sector()"
      ],
      "metadata": {
        "colab": {
          "base_uri": "https://localhost:8080/"
        },
        "id": "tVcrCOGBe96S",
        "outputId": "0051cb61-3f1f-4aeb-b180-50f5b068d005"
      },
      "execution_count": 16,
      "outputs": [
        {
          "output_type": "stream",
          "name": "stdout",
          "text": [
            "The selected stock is RELIANCE\n",
            "The selected stock trades at exchange NSE\n",
            "The selected stock is RELIANCE and sector is : EVERYTHING\n"
          ]
        }
      ]
    },
    {
      "cell_type": "code",
      "source": [
        "# Create a Stocksector() class and inherit name and exchange from Stock() class\n",
        "class Stocksector(Stock):\n",
        "    def display_sector(self):\n",
        "        x = stocks_dict[self.stock_name]\n",
        "        print(\"The selected stock sector is : \" + x)\n",
        "    \n",
        "    def display_stock(self):\n",
        "        print(\"METHOD OVERRIDING: The selected stock is \" +self.stock_name )\n",
        "        print(\"METHOD OVERRIDING: The selected stock trades at exchange \" +self.ex_name )"
      ],
      "metadata": {
        "id": "KWeitp2LfZig"
      },
      "execution_count": 17,
      "outputs": []
    },
    {
      "cell_type": "code",
      "source": [
        "infy_object = Stocksector(\"RELIANCE\", \"NSE\")\n",
        "infy_object.display_stock()\n",
        "infy_object.display_sector()"
      ],
      "metadata": {
        "colab": {
          "base_uri": "https://localhost:8080/"
        },
        "id": "Gn1zNmdmgGer",
        "outputId": "0f2a09b1-303b-476a-91b4-12a5341356e4"
      },
      "execution_count": 18,
      "outputs": [
        {
          "output_type": "stream",
          "name": "stdout",
          "text": [
            "METHOD OVERRIDING: The selected stock is RELIANCE\n",
            "METHOD OVERRIDING: The selected stock trades at exchange NSE\n",
            "The selected stock sector is : EVERYTHING\n"
          ]
        }
      ]
    },
    {
      "cell_type": "markdown",
      "source": [
        "## Inheriting and Updating Attributes with Super\n",
        "* Add an attribute \"stock_price\" through a class using \"super\" method"
      ],
      "metadata": {
        "id": "yKqV5jHKgODj"
      }
    },
    {
      "cell_type": "code",
      "source": [
        "class Stockprice(Stocksector):\n",
        "    def __init__(self, stock_name, ex_name, stock_price):\n",
        "        super().__init__(stock_name, ex_name)\n",
        "        self.stock_price = stock_price\n",
        "\n",
        "    def display_stock_price(self):\n",
        "        print(\"The price of stock \"+ self.stock_name +\" is \" + str(self.stock_price))"
      ],
      "metadata": {
        "id": "d0cuyQrIgIMx"
      },
      "execution_count": 19,
      "outputs": []
    },
    {
      "cell_type": "code",
      "source": [
        "tata_motors_object = Stockprice(\"TATA MOTORS\", \"BSE\", 442)\n",
        "tata_motors_object.display_stock()\n",
        "tata_motors_object.display_sector()\n",
        "tata_motors_object.display_stock_price()"
      ],
      "metadata": {
        "colab": {
          "base_uri": "https://localhost:8080/"
        },
        "id": "JespJyaMgS3q",
        "outputId": "b4f161fd-dff0-45db-e349-beb63bb1899e"
      },
      "execution_count": 20,
      "outputs": [
        {
          "output_type": "stream",
          "name": "stdout",
          "text": [
            "METHOD OVERRIDING: The selected stock is TATA MOTORS\n",
            "METHOD OVERRIDING: The selected stock trades at exchange BSE\n",
            "The selected stock sector is : AUTO\n",
            "The price of stock TATA MOTORS is 442\n"
          ]
        }
      ]
    }
  ]
}