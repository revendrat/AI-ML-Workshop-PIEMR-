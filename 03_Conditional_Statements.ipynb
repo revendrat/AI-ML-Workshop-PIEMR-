{
  "nbformat": 4,
  "nbformat_minor": 0,
  "metadata": {
    "colab": {
      "name": "03 Conditional Statements.ipynb",
      "provenance": [],
      "collapsed_sections": [],
      "include_colab_link": true
    },
    "kernelspec": {
      "name": "python3",
      "display_name": "Python 3"
    },
    "language_info": {
      "name": "python"
    }
  },
  "cells": [
    {
      "cell_type": "markdown",
      "metadata": {
        "id": "view-in-github",
        "colab_type": "text"
      },
      "source": [
        "<a href=\"https://colab.research.google.com/github/revendrat/AI-ML-Workshop-PIEMR-/blob/main/03_Conditional_Statements.ipynb\" target=\"_parent\"><img src=\"https://colab.research.google.com/assets/colab-badge.svg\" alt=\"Open In Colab\"/></a>"
      ]
    },
    {
      "cell_type": "markdown",
      "source": [
        "# Conditional Statements\n",
        "Use the following keywords for expressing different types of conditional statements:\n",
        "\n",
        "* if\n",
        "* if else\n",
        "* if elif else"
      ],
      "metadata": {
        "id": "-nXZOe2pYbAt"
      }
    },
    {
      "cell_type": "code",
      "source": [
        "stock_infy = 1743\n",
        "stock_tcs = 3505\n",
        "if stock_infy > stock_tcs:\n",
        "    print(\"Stock price of Infosys is higher than stock price of TCS\")\n",
        "    print(\"Sell TCS Stocks\")"
      ],
      "metadata": {
        "id": "l9zAPq2xYql1"
      },
      "execution_count": null,
      "outputs": []
    },
    {
      "cell_type": "code",
      "source": [
        "stock_infy = 1743\n",
        "stock_tcs = 3505\n",
        "if stock_infy > stock_tcs:\n",
        "    print(\"Stock price of Infosys is higher than stock price of TCS\")\n",
        "    print(\"Sell TCS stocks\")\n",
        "else: \n",
        "    print(\"Stock price of TCS is higher than stock price of Infosys\")\n",
        "    print(\"Buy TCS & INFY stocks\")"
      ],
      "metadata": {
        "id": "vxmPbpFzYymq",
        "colab": {
          "base_uri": "https://localhost:8080/"
        },
        "outputId": "cc62bdde-541c-44c2-aa94-42c49e307998"
      },
      "execution_count": null,
      "outputs": [
        {
          "output_type": "stream",
          "name": "stdout",
          "text": [
            "Stock price of TCS is higher than stock price of Infosys\n",
            "Buy TCS & INFY stocks\n"
          ]
        }
      ]
    },
    {
      "cell_type": "code",
      "source": [
        "stock_infy = 1743\n",
        "stock_tcs = 3505\n",
        "stock_hcl = 1207\n",
        "if stock_infy > stock_tcs:\n",
        "    print(\"Stock price of Infosys is higher than stock price of TCS\")\n",
        "elif stock_infy > stock_hcl: \n",
        "    print(\"Stock price of Infosys is lower than stock price of TCS & higher stock price of HCL\")\n",
        "else: \n",
        "    print(\"Stock price of Infosys is lower than stock price of TCS & stock price of HCL\")"
      ],
      "metadata": {
        "id": "dXG20-TpYzMO",
        "colab": {
          "base_uri": "https://localhost:8080/"
        },
        "outputId": "59185d68-d62b-4462-cb9c-941e527e66a6"
      },
      "execution_count": null,
      "outputs": [
        {
          "output_type": "stream",
          "name": "stdout",
          "text": [
            "Stock price of Infosys is lower than stock price of TCS & higher stock price of HCL\n"
          ]
        }
      ]
    },
    {
      "cell_type": "code",
      "source": [
        "# Practice:\n",
        "# 1) Identify the lowest stock using conditional statements and print the same\n",
        "# 2) Identify the second lowest stock using conditional statements and print the same\n",
        "stock_infy = 1743\n",
        "stock_tcs = 3505\n",
        "stock_hcl = 1207\n",
        "stock_wipro = 610"
      ],
      "metadata": {
        "id": "wCESsTiyY1uD"
      },
      "execution_count": null,
      "outputs": []
    },
    {
      "cell_type": "markdown",
      "source": [
        "# Ternary Operators\n",
        "Inline or one-line code to write conditional expressions\n",
        "# Construction of ternary operator in Python\n",
        "expression if conditional_expression_true else conditional_expression_false"
      ],
      "metadata": {
        "id": "p4Goox4mY9Lx"
      }
    },
    {
      "cell_type": "code",
      "source": [
        "# Illustration of Ternary Operator\n",
        "stock_is_infy = True\n",
        "stock_name = \"Infosys\" if stock_is_infy else \"Not Infosys\"\n",
        "print(\"Stock Name is \" + stock_name)"
      ],
      "metadata": {
        "id": "jaAMQHGiY6z_",
        "colab": {
          "base_uri": "https://localhost:8080/"
        },
        "outputId": "72f88c45-a58f-49ac-e0c2-ff613f7bf72a"
      },
      "execution_count": null,
      "outputs": [
        {
          "output_type": "stream",
          "name": "stdout",
          "text": [
            "Stock Name is Infosys\n"
          ]
        }
      ]
    },
    {
      "cell_type": "code",
      "source": [
        "stock_infy = 1743\n",
        "stock_tcs = 3505\n",
        "print(\"Infosys > TCS\") if stock_infy > stock_tcs else print(\"Sell TCS Stocks\")"
      ],
      "metadata": {
        "id": "-50h0b0AZZ_B",
        "colab": {
          "base_uri": "https://localhost:8080/"
        },
        "outputId": "da0ca75e-d207-4194-e4ed-c70b51a51ce3"
      },
      "execution_count": null,
      "outputs": [
        {
          "output_type": "stream",
          "name": "stdout",
          "text": [
            "Sell TCS Stocks\n"
          ]
        }
      ]
    },
    {
      "cell_type": "code",
      "source": [
        "if stock_is_infy:\n",
        "    stock_name = \"Infosys\"\n",
        "else:\n",
        "    stock_name = \"Not Infosys\"\n",
        "print(\"Stock Name is \" + stock_name)"
      ],
      "metadata": {
        "id": "Tm2D-v4rZaCW",
        "colab": {
          "base_uri": "https://localhost:8080/"
        },
        "outputId": "fd784d10-b148-48f3-a489-0c2734214f61"
      },
      "execution_count": null,
      "outputs": [
        {
          "output_type": "stream",
          "name": "stdout",
          "text": [
            "Stock Name is Infosys\n"
          ]
        }
      ]
    }
  ]
}