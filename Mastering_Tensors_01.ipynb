{
  "nbformat": 4,
  "nbformat_minor": 0,
  "metadata": {
    "colab": {
      "name": "Mastering Tensors-01.ipynb",
      "provenance": [],
      "collapsed_sections": [],
      "authorship_tag": "ABX9TyNc7p8Sf7zGz4sgtyTpM7Rh",
      "include_colab_link": true
    },
    "kernelspec": {
      "name": "python3",
      "display_name": "Python 3"
    },
    "language_info": {
      "name": "python"
    }
  },
  "cells": [
    {
      "cell_type": "markdown",
      "metadata": {
        "id": "view-in-github",
        "colab_type": "text"
      },
      "source": [
        "<a href=\"https://colab.research.google.com/github/revendrat/AI-ML-Workshop-PIEMR-/blob/main/Mastering_Tensors_01.ipynb\" target=\"_parent\"><img src=\"https://colab.research.google.com/assets/colab-badge.svg\" alt=\"Open In Colab\"/></a>"
      ]
    },
    {
      "cell_type": "code",
      "source": [
        "import tensorflow as tf\n",
        "# Fetch the version of tensorflow\n",
        "tf.__version__"
      ],
      "metadata": {
        "colab": {
          "base_uri": "https://localhost:8080/",
          "height": 35
        },
        "id": "sqqmnX3QxqXq",
        "outputId": "33e8386c-d660-4ceb-96b1-b2372f1b4e45"
      },
      "execution_count": null,
      "outputs": [
        {
          "output_type": "execute_result",
          "data": {
            "text/plain": [
              "'2.8.0'"
            ],
            "application/vnd.google.colaboratory.intrinsic+json": {
              "type": "string"
            }
          },
          "metadata": {},
          "execution_count": 11
        }
      ]
    },
    {
      "cell_type": "code",
      "source": [
        "# Check if GPU is available\n",
        "#tf.test.is_gpu_available () --> depricated\n",
        "tf.config.list_physical_devices('GPU')"
      ],
      "metadata": {
        "colab": {
          "base_uri": "https://localhost:8080/"
        },
        "id": "gt4MSZ8TyIHS",
        "outputId": "2e273553-5997-4c33-b7f3-052c49a3eb86"
      },
      "execution_count": null,
      "outputs": [
        {
          "output_type": "execute_result",
          "data": {
            "text/plain": [
              "[]"
            ]
          },
          "metadata": {},
          "execution_count": 3
        }
      ]
    },
    {
      "cell_type": "code",
      "source": [
        "tf.config.list_physical_devices('CPU')"
      ],
      "metadata": {
        "colab": {
          "base_uri": "https://localhost:8080/"
        },
        "id": "o8T2w_YpyYYp",
        "outputId": "cd057b8e-9551-40ee-f6bf-d0e8eeac2566"
      },
      "execution_count": null,
      "outputs": [
        {
          "output_type": "execute_result",
          "data": {
            "text/plain": [
              "[PhysicalDevice(name='/physical_device:CPU:0', device_type='CPU')]"
            ]
          },
          "metadata": {},
          "execution_count": 4
        }
      ]
    },
    {
      "cell_type": "markdown",
      "source": [
        "# Tensors\n",
        "* Multidimensional arrays are also called tensors.\n",
        "* Tensors are the basic data structure for machine-learning systems\n",
        "* Tensor are containers of numerical data\n",
        "* A dimension in tensors is also known an axis"
      ],
      "metadata": {
        "id": "x1TXAmyNnHFJ"
      }
    },
    {
      "cell_type": "markdown",
      "source": [
        "## Key attributes of tensors\n",
        "* A tensor has three key attributes\n",
        "* First attribute: Rank or Number of axes\n",
        "  * An array has 1-axis and also called as **1-rank tensor**\n",
        "  * A matrix has 2-axes and also called as **2-rank tensor**\n",
        "* Second Attribute: **Shape**\n",
        "  * Describes the number of dimensions of a tensor\n",
        "  * Example: 3-rank tensor with 20 records in each dimension has shape of (3,20, 20)\n",
        "  * shape results are usually shown in tuple data structure\n",
        "* Third Attribute: **Data Type**\n",
        "  * Informs about the type of data contained in tensors\n",
        "  * Example data types: float32, uint8, float64. etc."
      ],
      "metadata": {
        "id": "hnpJq1-JozI2"
      }
    },
    {
      "cell_type": "markdown",
      "source": [
        "## Examples of Tensors\n"
      ],
      "metadata": {
        "id": "hYqy2HHwulON"
      }
    },
    {
      "cell_type": "code",
      "metadata": {
        "id": "FB2St6MJFrve",
        "colab": {
          "base_uri": "https://localhost:8080/"
        },
        "outputId": "694a6342-1e7e-4e63-91bc-888014a3a7f3"
      },
      "source": [
        "# Create a scalar in tensorflow\n",
        "a = tf.constant(5.7)\n",
        "a"
      ],
      "execution_count": null,
      "outputs": [
        {
          "output_type": "execute_result",
          "data": {
            "text/plain": [
              "<tf.Tensor: shape=(), dtype=float32, numpy=5.7>"
            ]
          },
          "metadata": {},
          "execution_count": 5
        }
      ]
    },
    {
      "cell_type": "code",
      "source": [
        "# Create an array\n",
        "a= tf.constant([5.7, 70.5])\n",
        "a"
      ],
      "metadata": {
        "colab": {
          "base_uri": "https://localhost:8080/"
        },
        "id": "NIevEJ5tG-X5",
        "outputId": "b9c741d0-cbfe-42e9-85a4-4dcc522073dc"
      },
      "execution_count": null,
      "outputs": [
        {
          "output_type": "execute_result",
          "data": {
            "text/plain": [
              "<tf.Tensor: shape=(2,), dtype=float32, numpy=array([ 5.7, 70.5], dtype=float32)>"
            ]
          },
          "metadata": {},
          "execution_count": 6
        }
      ]
    },
    {
      "cell_type": "markdown",
      "source": [
        "Note that the above tensor array can return data into Numpy.array using numpy() method.\n",
        "A quick illustration below"
      ],
      "metadata": {
        "id": "oIxskKa0HSag"
      }
    },
    {
      "cell_type": "code",
      "metadata": {
        "colab": {
          "base_uri": "https://localhost:8080/"
        },
        "id": "PClC5zMYGOQP",
        "outputId": "a23b65e0-bf7b-46db-9621-e82dd2367a29"
      },
      "source": [
        "a.numpy()"
      ],
      "execution_count": null,
      "outputs": [
        {
          "output_type": "execute_result",
          "data": {
            "text/plain": [
              "array([ 5.7, 70.5], dtype=float32)"
            ]
          },
          "metadata": {},
          "execution_count": 7
        }
      ]
    },
    {
      "cell_type": "code",
      "source": [
        "# To create vector, the structure of vector should be passed to tf.constant() function in the list container\n",
        "a = tf.constant([5.7]) # creates vector with one element\n",
        "print(a)\n",
        "print(a.shape)"
      ],
      "metadata": {
        "colab": {
          "base_uri": "https://localhost:8080/"
        },
        "id": "RoMe3M0_HrOI",
        "outputId": "7ba93e1d-c79f-4499-963b-f0ce67beee62"
      },
      "execution_count": null,
      "outputs": [
        {
          "output_type": "stream",
          "name": "stdout",
          "text": [
            "tf.Tensor([5.7], shape=(1,), dtype=float32)\n",
            "(1,)\n"
          ]
        }
      ]
    },
    {
      "cell_type": "code",
      "source": [
        "# Create a vector with 3 elements\n",
        "a = tf.constant([5.7, 70.5, 50.7])\n",
        "print(a)\n",
        "print(a.shape)"
      ],
      "metadata": {
        "colab": {
          "base_uri": "https://localhost:8080/"
        },
        "id": "OyWJIlaWIPql",
        "outputId": "76170950-f71b-4d2b-e01c-cc7a6400d283"
      },
      "execution_count": null,
      "outputs": [
        {
          "output_type": "stream",
          "name": "stdout",
          "text": [
            "tf.Tensor([ 5.7 70.5 50.7], shape=(3,), dtype=float32)\n",
            "(3,)\n"
          ]
        }
      ]
    },
    {
      "cell_type": "code",
      "source": [
        "# Create a matrix of size 2x2\n",
        "a_mat = tf.constant([[1,2], [3,4]])\n",
        "print(a_mat)\n",
        "print(a_mat.shape)"
      ],
      "metadata": {
        "colab": {
          "base_uri": "https://localhost:8080/"
        },
        "id": "8zQLt3oLjbPN",
        "outputId": "730c2cdb-c8f5-48be-9dfb-a7de1476debb"
      },
      "execution_count": null,
      "outputs": [
        {
          "output_type": "stream",
          "name": "stdout",
          "text": [
            "tf.Tensor(\n",
            "[[1 2]\n",
            " [3 4]], shape=(2, 2), dtype=int32)\n",
            "(2, 2)\n"
          ]
        }
      ]
    },
    {
      "cell_type": "code",
      "source": [
        "# Create a 3 dimensional tensor containing matrix of size 2x2\n",
        "t_3d_mat = tf.constant([[[1,2], [3,4]], [[1,2], [3,4]]])\n",
        "print(t_3d_mat)\n",
        "print(t_3d_mat.shape)"
      ],
      "metadata": {
        "colab": {
          "base_uri": "https://localhost:8080/"
        },
        "id": "bT6aFNMij7Y7",
        "outputId": "746c7bd6-5b1d-406d-fdea-fa429a6afd0d"
      },
      "execution_count": null,
      "outputs": [
        {
          "output_type": "stream",
          "name": "stdout",
          "text": [
            "tf.Tensor(\n",
            "[[[1 2]\n",
            "  [3 4]]\n",
            "\n",
            " [[1 2]\n",
            "  [3 4]]], shape=(2, 2, 2), dtype=int32)\n",
            "(2, 2, 2)\n"
          ]
        }
      ]
    },
    {
      "cell_type": "markdown",
      "source": [
        "## Strings operations in tensorflow\n",
        "* String data type is supposrted by tensorflow.\n",
        "* tf.strings module provides methods to operate on strings\n",
        "  * lower(), join(), lenght(), split() & other modules are available"
      ],
      "metadata": {
        "id": "C8uA7PL0l4Lj"
      }
    },
    {
      "cell_type": "code",
      "source": [
        "\n",
        "# create a string tensor\n",
        "a_string = tf.constant('Welcome to Colab')\n",
        "print(a_string)\n",
        "print(a_string.shape)"
      ],
      "metadata": {
        "colab": {
          "base_uri": "https://localhost:8080/"
        },
        "id": "KGppz7fJk8pd",
        "outputId": "2cd16de3-f38f-4c08-b98d-94134f78fa76"
      },
      "execution_count": null,
      "outputs": [
        {
          "output_type": "stream",
          "name": "stdout",
          "text": [
            "tf.Tensor(b'Welcome to Colab', shape=(), dtype=string)\n",
            "()\n"
          ]
        }
      ]
    },
    {
      "cell_type": "code",
      "source": [
        "# convert all characters in a string to lower case\n",
        "tf.strings.lower(a_string)"
      ],
      "metadata": {
        "colab": {
          "base_uri": "https://localhost:8080/"
        },
        "id": "zluboQ9imKAA",
        "outputId": "0f3ff488-ed44-47c4-9c25-35ea4bb2d8d4"
      },
      "execution_count": null,
      "outputs": [
        {
          "output_type": "execute_result",
          "data": {
            "text/plain": [
              "<tf.Tensor: shape=(), dtype=string, numpy=b'welcome to colab'>"
            ]
          },
          "metadata": {},
          "execution_count": 18
        }
      ]
    },
    {
      "cell_type": "code",
      "source": [
        "# Fetch the length of the string\n",
        "tf.strings.length(a_string)"
      ],
      "metadata": {
        "colab": {
          "base_uri": "https://localhost:8080/"
        },
        "id": "9kb7RH1OmRSx",
        "outputId": "82de014b-8220-4edd-a4a9-dc210ecd0797"
      },
      "execution_count": null,
      "outputs": [
        {
          "output_type": "execute_result",
          "data": {
            "text/plain": [
              "<tf.Tensor: shape=(), dtype=int32, numpy=16>"
            ]
          },
          "metadata": {},
          "execution_count": 19
        }
      ]
    },
    {
      "cell_type": "code",
      "source": [
        "# split the string by space (' ')\n",
        "tf.strings.split(a_string, ' ')"
      ],
      "metadata": {
        "colab": {
          "base_uri": "https://localhost:8080/"
        },
        "id": "oPBMgufenEDb",
        "outputId": "be37e9a5-b213-4128-c2d5-fa76246bfa3a"
      },
      "execution_count": null,
      "outputs": [
        {
          "output_type": "execute_result",
          "data": {
            "text/plain": [
              "<tf.Tensor: shape=(3,), dtype=string, numpy=array([b'Welcome', b'to', b'Colab'], dtype=object)>"
            ]
          },
          "metadata": {},
          "execution_count": 20
        }
      ]
    },
    {
      "cell_type": "markdown",
      "source": [
        "## Booleans in TensorFlow\n",
        "* TensorFlow supports boolean operations "
      ],
      "metadata": {
        "id": "H8muIXC_nTcc"
      }
    },
    {
      "cell_type": "code",
      "source": [
        "# create a boolean scalar in TF\n",
        "a_bool = tf.constant(True)\n",
        "print(a_bool)\n",
        "print(a_bool.shape)"
      ],
      "metadata": {
        "colab": {
          "base_uri": "https://localhost:8080/"
        },
        "id": "sfHmn02CnQXj",
        "outputId": "b98498de-06a8-440e-95d8-0905e5b3f74d"
      },
      "execution_count": null,
      "outputs": [
        {
          "output_type": "stream",
          "name": "stdout",
          "text": [
            "tf.Tensor(True, shape=(), dtype=bool)\n",
            "()\n"
          ]
        }
      ]
    },
    {
      "cell_type": "code",
      "source": [
        "# create a boolean vector in TF\n",
        "a_bool = tf.constant([True, False, True])\n",
        "print(a_bool)\n",
        "print(a_bool.shape)"
      ],
      "metadata": {
        "colab": {
          "base_uri": "https://localhost:8080/"
        },
        "id": "mvha7yqcnivg",
        "outputId": "5ae7a774-bfb6-41b3-e82e-e3f4a9576595"
      },
      "execution_count": null,
      "outputs": [
        {
          "output_type": "stream",
          "name": "stdout",
          "text": [
            "tf.Tensor([ True False  True], shape=(3,), dtype=bool)\n",
            "(3,)\n"
          ]
        }
      ]
    },
    {
      "cell_type": "markdown",
      "source": [
        "## Variable tensors in TF\n",
        "* tf.Variable() method is used to create variable tensors\n",
        "* The variable tensors are used to continuously update the values of tensors during operations such as multiplcation, optimisation etc.\n",
        "* One may check if a variable is TF constant or TF variable using trainable attribute"
      ],
      "metadata": {
        "id": "3AcokcMKn664"
      }
    },
    {
      "cell_type": "code",
      "source": [
        "a = tf.constant([1,2,3,4])\n",
        "print(a)\n",
        "print(a.shape)\n",
        "#print(a.trainable) # does not work when a variable is defined as constant in TF\n",
        "\n",
        "a = tf.Variable([1,2,3,4])\n",
        "print(a)\n",
        "print(a.shape)\n",
        "print(a.trainable)"
      ],
      "metadata": {
        "colab": {
          "base_uri": "https://localhost:8080/"
        },
        "id": "FrG6EoMBn6Ib",
        "outputId": "9f9b8dd5-bf96-4bc3-ecbb-19661c4bea70"
      },
      "execution_count": null,
      "outputs": [
        {
          "output_type": "stream",
          "name": "stdout",
          "text": [
            "tf.Tensor([1 2 3 4], shape=(4,), dtype=int32)\n",
            "(4,)\n",
            "<tf.Variable 'Variable:0' shape=(4,) dtype=int32, numpy=array([1, 2, 3, 4], dtype=int32)>\n",
            "(4,)\n",
            "True\n"
          ]
        }
      ]
    },
    {
      "cell_type": "markdown",
      "source": [
        "## Create tensors from Arrays & Lists\n",
        "* Python lists\n",
        "* Numpy arrays\n",
        "* all-0 or all-1 tensors\n",
        "* customised numeric tensors\n",
        "* tensors from known probablisitc distributions\n",
        "* create sequences in tensors"
      ],
      "metadata": {
        "id": "Q257bCNCpjib"
      }
    },
    {
      "cell_type": "code",
      "source": [
        "# Convert python list to a tensor using convert_to_tensor\n",
        "py_list = [1,2,3,4,5]\n",
        "print(\"type of pylist \", type(py_list))\n",
        "a_tensor = tf.convert_to_tensor(py_list)\n",
        "print(a_tensor)"
      ],
      "metadata": {
        "colab": {
          "base_uri": "https://localhost:8080/"
        },
        "id": "GL_pdSPEqtTK",
        "outputId": "1214c5ff-a17b-4f1f-8d83-d9c73d8a4238"
      },
      "execution_count": null,
      "outputs": [
        {
          "output_type": "stream",
          "name": "stdout",
          "text": [
            "type of pylist  <class 'list'>\n",
            "tf.Tensor([1 2 3 4 5], shape=(5,), dtype=int32)\n"
          ]
        }
      ]
    },
    {
      "cell_type": "code",
      "source": [
        "# Convert Numpy array to a tensor using convert_to_tensor\n",
        "import numpy as np\n",
        "numpy_array = np.array([[1,2],[3,5]])\n",
        "print(\"numpy_array type \", type(numpy_array))\n",
        "print(\"numpy_array values \", numpy_array)\n",
        "a_tensor = tf.convert_to_tensor(numpy_array)\n",
        "print(a_tensor)"
      ],
      "metadata": {
        "colab": {
          "base_uri": "https://localhost:8080/"
        },
        "id": "IPBfs5jvrKza",
        "outputId": "e047514f-455d-4a3d-ad49-c74f01276c0e"
      },
      "execution_count": null,
      "outputs": [
        {
          "output_type": "stream",
          "name": "stdout",
          "text": [
            "numpy_array type  <class 'numpy.ndarray'>\n",
            "numpy_array values  [[1 2]\n",
            " [3 5]]\n",
            "tf.Tensor(\n",
            "[[1 2]\n",
            " [3 5]], shape=(2, 2), dtype=int64)\n"
          ]
        }
      ]
    },
    {
      "cell_type": "code",
      "source": [
        "## Create all-0 or all-1 tensors\n",
        "all_z = tf.zeros([10])\n",
        "print(all_z)\n",
        "all_one = tf.ones([10])\n",
        "print(all_one)"
      ],
      "metadata": {
        "colab": {
          "base_uri": "https://localhost:8080/"
        },
        "id": "yJQ9MVPpsOLy",
        "outputId": "3ceea11c-8c7e-4189-f093-f420730fa9a2"
      },
      "execution_count": null,
      "outputs": [
        {
          "output_type": "stream",
          "name": "stdout",
          "text": [
            "tf.Tensor([0. 0. 0. 0. 0. 0. 0. 0. 0. 0.], shape=(10,), dtype=float32)\n",
            "tf.Tensor([1. 1. 1. 1. 1. 1. 1. 1. 1. 1.], shape=(10,), dtype=float32)\n"
          ]
        }
      ]
    },
    {
      "cell_type": "code",
      "source": [
        "# Create matrices of all ones or zeros\n",
        "a_zero = tf.zeros([3,2]) # creates 3x2 matrix of all 0s\n",
        "print(a_zero)\n",
        "\n",
        "a_one = tf.ones([2,3]) # creates 2x3 matrix of all 1s\n",
        "print(a_one)\n",
        "\n"
      ],
      "metadata": {
        "colab": {
          "base_uri": "https://localhost:8080/"
        },
        "id": "djunss5ku0J6",
        "outputId": "bd3e61e5-1970-4e89-838e-0ac2936e208e"
      },
      "execution_count": null,
      "outputs": [
        {
          "output_type": "stream",
          "name": "stdout",
          "text": [
            "tf.Tensor(\n",
            "[[0. 0.]\n",
            " [0. 0.]\n",
            " [0. 0.]], shape=(3, 2), dtype=float32)\n",
            "tf.Tensor(\n",
            "[[1. 1. 1.]\n",
            " [1. 1. 1.]], shape=(2, 3), dtype=float32)\n"
          ]
        }
      ]
    },
    {
      "cell_type": "code",
      "source": [
        "## Combine tensors using concat \n",
        "all_zo = tf.concat([all_z,all_one], 0)\n",
        "print(all_zo)\n",
        "\n",
        "## Combine tensors using  stack\n",
        "all_zo_s = tf.stack([all_z,all_one])\n",
        "print(all_zo_s)"
      ],
      "metadata": {
        "colab": {
          "base_uri": "https://localhost:8080/"
        },
        "id": "bg_N6UpXtUjk",
        "outputId": "95473722-e3b5-45e7-d86b-4bda0aea7a18"
      },
      "execution_count": null,
      "outputs": [
        {
          "output_type": "stream",
          "name": "stdout",
          "text": [
            "tf.Tensor([0. 0. 0. 0. 0. 0. 0. 0. 0. 0. 1. 1. 1. 1. 1. 1. 1. 1. 1. 1.], shape=(20,), dtype=float32)\n",
            "tf.Tensor(\n",
            "[[0. 0. 0. 0. 0. 0. 0. 0. 0. 0.]\n",
            " [1. 1. 1. 1. 1. 1. 1. 1. 1. 1.]], shape=(2, 10), dtype=float32)\n"
          ]
        }
      ]
    },
    {
      "cell_type": "markdown",
      "source": [
        "## Create customised numeric tensors\n",
        "* say a tensor with specific value of 3\n",
        "* create using tf.fill([shape], value)\n"
      ],
      "metadata": {
        "id": "KV3kLqCcuW4Q"
      }
    },
    {
      "cell_type": "code",
      "source": [
        "#create a matrix of size 2x4 filled with 3s\n",
        "a_3s = tf.fill([2,4], 3) \n",
        "a_3s"
      ],
      "metadata": {
        "colab": {
          "base_uri": "https://localhost:8080/"
        },
        "id": "vHhtcSfOaLex",
        "outputId": "1833589b-fc69-4285-975e-a8ae17ea4dcb"
      },
      "execution_count": null,
      "outputs": [
        {
          "output_type": "execute_result",
          "data": {
            "text/plain": [
              "<tf.Tensor: shape=(2, 4), dtype=int32, numpy=\n",
              "array([[3, 3, 3, 3],\n",
              "       [3, 3, 3, 3]], dtype=int32)>"
            ]
          },
          "metadata": {},
          "execution_count": 43
        }
      ]
    },
    {
      "cell_type": "markdown",
      "source": [
        "## Create tensors from known distributions\n",
        "* Gaussian or normal using tf.random.normal([shape], mean =0, stddev=1)\n",
        "* uniform using  tf.random.uniform([shape])"
      ],
      "metadata": {
        "id": "2RWcz10fwSLL"
      }
    },
    {
      "cell_type": "code",
      "metadata": {
        "colab": {
          "base_uri": "https://localhost:8080/"
        },
        "id": "Sk6E3XjCGbLJ",
        "outputId": "a954fc21-8626-4887-aef4-822541e76ddd"
      },
      "source": [
        "# Create a 3x3 matrix with random values from normal distribution with mean 2 and sd =0.5\n",
        "tensor_gaussian = tf.random.normal([3,3], mean=1, stddev=0.5)\n",
        "tensor_gaussian"
      ],
      "execution_count": null,
      "outputs": [
        {
          "output_type": "execute_result",
          "data": {
            "text/plain": [
              "<tf.Tensor: shape=(3, 3), dtype=float32, numpy=\n",
              "array([[0.98239213, 0.9637159 , 0.9140198 ],\n",
              "       [0.19655001, 0.73667455, 2.4508111 ],\n",
              "       [0.55357563, 1.1810786 , 1.4821931 ]], dtype=float32)>"
            ]
          },
          "metadata": {},
          "execution_count": 44
        }
      ]
    },
    {
      "cell_type": "code",
      "metadata": {
        "colab": {
          "base_uri": "https://localhost:8080/"
        },
        "id": "lNJv2YF1JIZA",
        "outputId": "0cec8a9d-974d-4e75-fc65-4c71ef37cecd"
      },
      "source": [
        "# Create a 3x3 matrix with random values from normalUNIFORM distribution with MINIMUM VALUE =1 AND maximum value =10 \n",
        "tensor_unif = tf.random.uniform([3,3], minval=1, maxval=10)\n",
        "tensor_unif"
      ],
      "execution_count": null,
      "outputs": [
        {
          "output_type": "execute_result",
          "data": {
            "text/plain": [
              "<tf.Tensor: shape=(3, 3), dtype=float32, numpy=\n",
              "array([[6.293449 , 2.3244448, 2.321828 ],\n",
              "       [3.829122 , 7.477582 , 9.076074 ],\n",
              "       [1.9950191, 3.574749 , 4.849058 ]], dtype=float32)>"
            ]
          },
          "metadata": {},
          "execution_count": 45
        }
      ]
    },
    {
      "cell_type": "markdown",
      "source": [
        "## Create a sequence of tensor using tf.range()"
      ],
      "metadata": {
        "id": "yYLf9TPNxnZS"
      }
    },
    {
      "cell_type": "code",
      "metadata": {
        "id": "SHWHt19HPn01",
        "colab": {
          "base_uri": "https://localhost:8080/"
        },
        "outputId": "4fd89aaa-5a22-4447-c085-6cbf844d79e7"
      },
      "source": [
        "# create tensor with sequence from 0 to 9 (total 10 values)\n",
        "a_seq = tf.range(10)\n",
        "a_seq"
      ],
      "execution_count": null,
      "outputs": [
        {
          "output_type": "execute_result",
          "data": {
            "text/plain": [
              "<tf.Tensor: shape=(10,), dtype=int32, numpy=array([0, 1, 2, 3, 4, 5, 6, 7, 8, 9], dtype=int32)>"
            ]
          },
          "metadata": {},
          "execution_count": 46
        }
      ]
    },
    {
      "cell_type": "code",
      "source": [
        "# create tensor with sequence from 0 to 20 (total 10 values) with a step of 2\n",
        "a_seq = tf.range(20, delta = 2)\n",
        "a_seq"
      ],
      "metadata": {
        "id": "ewwqL6aacKau",
        "colab": {
          "base_uri": "https://localhost:8080/"
        },
        "outputId": "5fd204a6-6f02-41d4-8b02-a17204850b95"
      },
      "execution_count": null,
      "outputs": [
        {
          "output_type": "execute_result",
          "data": {
            "text/plain": [
              "<tf.Tensor: shape=(10,), dtype=int32, numpy=array([ 0,  2,  4,  6,  8, 10, 12, 14, 16, 18], dtype=int32)>"
            ]
          },
          "metadata": {},
          "execution_count": 47
        }
      ]
    }
  ]
}